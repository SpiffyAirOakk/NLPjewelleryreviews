{
  "nbformat": 4,
  "nbformat_minor": 0,
  "metadata": {
    "colab": {
      "provenance": []
    },
    "kernelspec": {
      "name": "python3",
      "display_name": "Python 3"
    },
    "language_info": {
      "name": "python"
    },
    "widgets": {
      "application/vnd.jupyter.widget-state+json": {
        "17134722617f4e52b5cf14ae7d836226": {
          "model_module": "@jupyter-widgets/controls",
          "model_name": "TextModel",
          "model_module_version": "1.5.0",
          "state": {
            "_dom_classes": [],
            "_model_module": "@jupyter-widgets/controls",
            "_model_module_version": "1.5.0",
            "_model_name": "TextModel",
            "_view_count": null,
            "_view_module": "@jupyter-widgets/controls",
            "_view_module_version": "1.5.0",
            "_view_name": "TextView",
            "continuous_update": true,
            "description": "Input:",
            "description_tooltip": null,
            "disabled": false,
            "layout": "IPY_MODEL_12125758226543b480608c87df4ed3b6",
            "placeholder": "Type something",
            "style": "IPY_MODEL_300fcb4712c34f3bb26c68df31dbcdc3",
            "value": ""
          }
        },
        "12125758226543b480608c87df4ed3b6": {
          "model_module": "@jupyter-widgets/base",
          "model_name": "LayoutModel",
          "model_module_version": "1.2.0",
          "state": {
            "_model_module": "@jupyter-widgets/base",
            "_model_module_version": "1.2.0",
            "_model_name": "LayoutModel",
            "_view_count": null,
            "_view_module": "@jupyter-widgets/base",
            "_view_module_version": "1.2.0",
            "_view_name": "LayoutView",
            "align_content": null,
            "align_items": null,
            "align_self": null,
            "border": null,
            "bottom": null,
            "display": null,
            "flex": null,
            "flex_flow": null,
            "grid_area": null,
            "grid_auto_columns": null,
            "grid_auto_flow": null,
            "grid_auto_rows": null,
            "grid_column": null,
            "grid_gap": null,
            "grid_row": null,
            "grid_template_areas": null,
            "grid_template_columns": null,
            "grid_template_rows": null,
            "height": null,
            "justify_content": null,
            "justify_items": null,
            "left": null,
            "margin": null,
            "max_height": null,
            "max_width": null,
            "min_height": null,
            "min_width": null,
            "object_fit": null,
            "object_position": null,
            "order": null,
            "overflow": null,
            "overflow_x": null,
            "overflow_y": null,
            "padding": null,
            "right": null,
            "top": null,
            "visibility": null,
            "width": null
          }
        },
        "300fcb4712c34f3bb26c68df31dbcdc3": {
          "model_module": "@jupyter-widgets/controls",
          "model_name": "DescriptionStyleModel",
          "model_module_version": "1.5.0",
          "state": {
            "_model_module": "@jupyter-widgets/controls",
            "_model_module_version": "1.5.0",
            "_model_name": "DescriptionStyleModel",
            "_view_count": null,
            "_view_module": "@jupyter-widgets/base",
            "_view_module_version": "1.2.0",
            "_view_name": "StyleView",
            "description_width": ""
          }
        },
        "7f6f1c3ad7cd41149049296ecd9cc3dd": {
          "model_module": "@jupyter-widgets/controls",
          "model_name": "ButtonModel",
          "model_module_version": "1.5.0",
          "state": {
            "_dom_classes": [],
            "_model_module": "@jupyter-widgets/controls",
            "_model_module_version": "1.5.0",
            "_model_name": "ButtonModel",
            "_view_count": null,
            "_view_module": "@jupyter-widgets/controls",
            "_view_module_version": "1.5.0",
            "_view_name": "ButtonView",
            "button_style": "",
            "description": "Submit",
            "disabled": false,
            "icon": "",
            "layout": "IPY_MODEL_ec238f451b2f47af9a77a4bddaae918b",
            "style": "IPY_MODEL_a744f0ebff2044ee9ef44b302eadaeb5",
            "tooltip": ""
          }
        },
        "ec238f451b2f47af9a77a4bddaae918b": {
          "model_module": "@jupyter-widgets/base",
          "model_name": "LayoutModel",
          "model_module_version": "1.2.0",
          "state": {
            "_model_module": "@jupyter-widgets/base",
            "_model_module_version": "1.2.0",
            "_model_name": "LayoutModel",
            "_view_count": null,
            "_view_module": "@jupyter-widgets/base",
            "_view_module_version": "1.2.0",
            "_view_name": "LayoutView",
            "align_content": null,
            "align_items": null,
            "align_self": null,
            "border": null,
            "bottom": null,
            "display": null,
            "flex": null,
            "flex_flow": null,
            "grid_area": null,
            "grid_auto_columns": null,
            "grid_auto_flow": null,
            "grid_auto_rows": null,
            "grid_column": null,
            "grid_gap": null,
            "grid_row": null,
            "grid_template_areas": null,
            "grid_template_columns": null,
            "grid_template_rows": null,
            "height": null,
            "justify_content": null,
            "justify_items": null,
            "left": null,
            "margin": null,
            "max_height": null,
            "max_width": null,
            "min_height": null,
            "min_width": null,
            "object_fit": null,
            "object_position": null,
            "order": null,
            "overflow": null,
            "overflow_x": null,
            "overflow_y": null,
            "padding": null,
            "right": null,
            "top": null,
            "visibility": null,
            "width": null
          }
        },
        "a744f0ebff2044ee9ef44b302eadaeb5": {
          "model_module": "@jupyter-widgets/controls",
          "model_name": "ButtonStyleModel",
          "model_module_version": "1.5.0",
          "state": {
            "_model_module": "@jupyter-widgets/controls",
            "_model_module_version": "1.5.0",
            "_model_name": "ButtonStyleModel",
            "_view_count": null,
            "_view_module": "@jupyter-widgets/base",
            "_view_module_version": "1.2.0",
            "_view_name": "StyleView",
            "button_color": null,
            "font_weight": ""
          }
        },
        "2a3436bd6b134449a497ec956c13cad6": {
          "model_module": "@jupyter-widgets/output",
          "model_name": "OutputModel",
          "model_module_version": "1.0.0",
          "state": {
            "_dom_classes": [],
            "_model_module": "@jupyter-widgets/output",
            "_model_module_version": "1.0.0",
            "_model_name": "OutputModel",
            "_view_count": null,
            "_view_module": "@jupyter-widgets/output",
            "_view_module_version": "1.0.0",
            "_view_name": "OutputView",
            "layout": "IPY_MODEL_7f52aebcda9544e7ae0055ba3da631a6",
            "msg_id": "",
            "outputs": []
          }
        },
        "7f52aebcda9544e7ae0055ba3da631a6": {
          "model_module": "@jupyter-widgets/base",
          "model_name": "LayoutModel",
          "model_module_version": "1.2.0",
          "state": {
            "_model_module": "@jupyter-widgets/base",
            "_model_module_version": "1.2.0",
            "_model_name": "LayoutModel",
            "_view_count": null,
            "_view_module": "@jupyter-widgets/base",
            "_view_module_version": "1.2.0",
            "_view_name": "LayoutView",
            "align_content": null,
            "align_items": null,
            "align_self": null,
            "border": null,
            "bottom": null,
            "display": null,
            "flex": null,
            "flex_flow": null,
            "grid_area": null,
            "grid_auto_columns": null,
            "grid_auto_flow": null,
            "grid_auto_rows": null,
            "grid_column": null,
            "grid_gap": null,
            "grid_row": null,
            "grid_template_areas": null,
            "grid_template_columns": null,
            "grid_template_rows": null,
            "height": null,
            "justify_content": null,
            "justify_items": null,
            "left": null,
            "margin": null,
            "max_height": null,
            "max_width": null,
            "min_height": null,
            "min_width": null,
            "object_fit": null,
            "object_position": null,
            "order": null,
            "overflow": null,
            "overflow_x": null,
            "overflow_y": null,
            "padding": null,
            "right": null,
            "top": null,
            "visibility": null,
            "width": null
          }
        },
        "241e7749c11344668925fd1364ebb804": {
          "model_module": "@jupyter-widgets/controls",
          "model_name": "DropdownModel",
          "model_module_version": "1.5.0",
          "state": {
            "_dom_classes": [],
            "_model_module": "@jupyter-widgets/controls",
            "_model_module_version": "1.5.0",
            "_model_name": "DropdownModel",
            "_options_labels": [
              "Indexes",
              "Acutal Reviews"
            ],
            "_view_count": null,
            "_view_module": "@jupyter-widgets/controls",
            "_view_module_version": "1.5.0",
            "_view_name": "DropdownView",
            "description": "Select an option:",
            "description_tooltip": null,
            "disabled": false,
            "index": 0,
            "layout": "IPY_MODEL_fb75b3c4895542f393072440716e8deb",
            "style": "IPY_MODEL_b80c51601561461c82447f1d84950a81"
          }
        },
        "fb75b3c4895542f393072440716e8deb": {
          "model_module": "@jupyter-widgets/base",
          "model_name": "LayoutModel",
          "model_module_version": "1.2.0",
          "state": {
            "_model_module": "@jupyter-widgets/base",
            "_model_module_version": "1.2.0",
            "_model_name": "LayoutModel",
            "_view_count": null,
            "_view_module": "@jupyter-widgets/base",
            "_view_module_version": "1.2.0",
            "_view_name": "LayoutView",
            "align_content": null,
            "align_items": null,
            "align_self": null,
            "border": null,
            "bottom": null,
            "display": null,
            "flex": null,
            "flex_flow": null,
            "grid_area": null,
            "grid_auto_columns": null,
            "grid_auto_flow": null,
            "grid_auto_rows": null,
            "grid_column": null,
            "grid_gap": null,
            "grid_row": null,
            "grid_template_areas": null,
            "grid_template_columns": null,
            "grid_template_rows": null,
            "height": null,
            "justify_content": null,
            "justify_items": null,
            "left": null,
            "margin": null,
            "max_height": null,
            "max_width": null,
            "min_height": null,
            "min_width": null,
            "object_fit": null,
            "object_position": null,
            "order": null,
            "overflow": null,
            "overflow_x": null,
            "overflow_y": null,
            "padding": null,
            "right": null,
            "top": null,
            "visibility": null,
            "width": null
          }
        },
        "b80c51601561461c82447f1d84950a81": {
          "model_module": "@jupyter-widgets/controls",
          "model_name": "DescriptionStyleModel",
          "model_module_version": "1.5.0",
          "state": {
            "_model_module": "@jupyter-widgets/controls",
            "_model_module_version": "1.5.0",
            "_model_name": "DescriptionStyleModel",
            "_view_count": null,
            "_view_module": "@jupyter-widgets/base",
            "_view_module_version": "1.2.0",
            "_view_name": "StyleView",
            "description_width": ""
          }
        },
        "52dbb063e31e45e38cd5dba57ceeb30b": {
          "model_module": "@jupyter-widgets/controls",
          "model_name": "HTMLModel",
          "model_module_version": "1.5.0",
          "state": {
            "_dom_classes": [],
            "_model_module": "@jupyter-widgets/controls",
            "_model_module_version": "1.5.0",
            "_model_name": "HTMLModel",
            "_view_count": null,
            "_view_module": "@jupyter-widgets/controls",
            "_view_module_version": "1.5.0",
            "_view_name": "HTMLView",
            "description": "",
            "description_tooltip": null,
            "layout": "IPY_MODEL_81bd2aed77614fdba784fe08e4e60e4e",
            "placeholder": "​",
            "style": "IPY_MODEL_6e65c6bfe1b5401f9cce572de7fba51f",
            "value": ""
          }
        },
        "81bd2aed77614fdba784fe08e4e60e4e": {
          "model_module": "@jupyter-widgets/base",
          "model_name": "LayoutModel",
          "model_module_version": "1.2.0",
          "state": {
            "_model_module": "@jupyter-widgets/base",
            "_model_module_version": "1.2.0",
            "_model_name": "LayoutModel",
            "_view_count": null,
            "_view_module": "@jupyter-widgets/base",
            "_view_module_version": "1.2.0",
            "_view_name": "LayoutView",
            "align_content": null,
            "align_items": null,
            "align_self": null,
            "border": null,
            "bottom": null,
            "display": null,
            "flex": null,
            "flex_flow": null,
            "grid_area": null,
            "grid_auto_columns": null,
            "grid_auto_flow": null,
            "grid_auto_rows": null,
            "grid_column": null,
            "grid_gap": null,
            "grid_row": null,
            "grid_template_areas": null,
            "grid_template_columns": null,
            "grid_template_rows": null,
            "height": null,
            "justify_content": null,
            "justify_items": null,
            "left": null,
            "margin": null,
            "max_height": null,
            "max_width": null,
            "min_height": null,
            "min_width": null,
            "object_fit": null,
            "object_position": null,
            "order": null,
            "overflow": null,
            "overflow_x": null,
            "overflow_y": null,
            "padding": null,
            "right": null,
            "top": null,
            "visibility": null,
            "width": null
          }
        },
        "6e65c6bfe1b5401f9cce572de7fba51f": {
          "model_module": "@jupyter-widgets/controls",
          "model_name": "DescriptionStyleModel",
          "model_module_version": "1.5.0",
          "state": {
            "_model_module": "@jupyter-widgets/controls",
            "_model_module_version": "1.5.0",
            "_model_name": "DescriptionStyleModel",
            "_view_count": null,
            "_view_module": "@jupyter-widgets/base",
            "_view_module_version": "1.2.0",
            "_view_name": "StyleView",
            "description_width": ""
          }
        },
        "f7f129b480154784bb3718d461192c1b": {
          "model_module": "@jupyter-widgets/controls",
          "model_name": "DropdownModel",
          "model_module_version": "1.5.0",
          "state": {
            "_dom_classes": [],
            "_model_module": "@jupyter-widgets/controls",
            "_model_module_version": "1.5.0",
            "_model_name": "DropdownModel",
            "_options_labels": [
              "1",
              "2",
              "3",
              "4",
              "5",
              "6",
              "7",
              "8"
            ],
            "_view_count": null,
            "_view_module": "@jupyter-widgets/controls",
            "_view_module_version": "1.5.0",
            "_view_name": "DropdownView",
            "description": "Select an Query:",
            "description_tooltip": null,
            "disabled": false,
            "index": 0,
            "layout": "IPY_MODEL_68b2f812bf074ee58ee74bae77aa839d",
            "style": "IPY_MODEL_82f75ce23d254e83a17bd12f588c3588"
          }
        },
        "68b2f812bf074ee58ee74bae77aa839d": {
          "model_module": "@jupyter-widgets/base",
          "model_name": "LayoutModel",
          "model_module_version": "1.2.0",
          "state": {
            "_model_module": "@jupyter-widgets/base",
            "_model_module_version": "1.2.0",
            "_model_name": "LayoutModel",
            "_view_count": null,
            "_view_module": "@jupyter-widgets/base",
            "_view_module_version": "1.2.0",
            "_view_name": "LayoutView",
            "align_content": null,
            "align_items": null,
            "align_self": null,
            "border": null,
            "bottom": null,
            "display": null,
            "flex": null,
            "flex_flow": null,
            "grid_area": null,
            "grid_auto_columns": null,
            "grid_auto_flow": null,
            "grid_auto_rows": null,
            "grid_column": null,
            "grid_gap": null,
            "grid_row": null,
            "grid_template_areas": null,
            "grid_template_columns": null,
            "grid_template_rows": null,
            "height": null,
            "justify_content": null,
            "justify_items": null,
            "left": null,
            "margin": null,
            "max_height": null,
            "max_width": null,
            "min_height": null,
            "min_width": null,
            "object_fit": null,
            "object_position": null,
            "order": null,
            "overflow": null,
            "overflow_x": null,
            "overflow_y": null,
            "padding": null,
            "right": null,
            "top": null,
            "visibility": null,
            "width": null
          }
        },
        "82f75ce23d254e83a17bd12f588c3588": {
          "model_module": "@jupyter-widgets/controls",
          "model_name": "DescriptionStyleModel",
          "model_module_version": "1.5.0",
          "state": {
            "_model_module": "@jupyter-widgets/controls",
            "_model_module_version": "1.5.0",
            "_model_name": "DescriptionStyleModel",
            "_view_count": null,
            "_view_module": "@jupyter-widgets/base",
            "_view_module_version": "1.2.0",
            "_view_name": "StyleView",
            "description_width": ""
          }
        },
        "a38552fbfc8e4c598bf1752e4be9b271": {
          "model_module": "@jupyter-widgets/controls",
          "model_name": "HTMLModel",
          "model_module_version": "1.5.0",
          "state": {
            "_dom_classes": [],
            "_model_module": "@jupyter-widgets/controls",
            "_model_module_version": "1.5.0",
            "_model_name": "HTMLModel",
            "_view_count": null,
            "_view_module": "@jupyter-widgets/controls",
            "_view_module_version": "1.5.0",
            "_view_name": "HTMLView",
            "description": "",
            "description_tooltip": null,
            "layout": "IPY_MODEL_b3600941c36245aea9d1507ae82ad523",
            "placeholder": "​",
            "style": "IPY_MODEL_4362101bc505490f843ba7ce184c55c0",
            "value": ""
          }
        },
        "b3600941c36245aea9d1507ae82ad523": {
          "model_module": "@jupyter-widgets/base",
          "model_name": "LayoutModel",
          "model_module_version": "1.2.0",
          "state": {
            "_model_module": "@jupyter-widgets/base",
            "_model_module_version": "1.2.0",
            "_model_name": "LayoutModel",
            "_view_count": null,
            "_view_module": "@jupyter-widgets/base",
            "_view_module_version": "1.2.0",
            "_view_name": "LayoutView",
            "align_content": null,
            "align_items": null,
            "align_self": null,
            "border": null,
            "bottom": null,
            "display": null,
            "flex": null,
            "flex_flow": null,
            "grid_area": null,
            "grid_auto_columns": null,
            "grid_auto_flow": null,
            "grid_auto_rows": null,
            "grid_column": null,
            "grid_gap": null,
            "grid_row": null,
            "grid_template_areas": null,
            "grid_template_columns": null,
            "grid_template_rows": null,
            "height": null,
            "justify_content": null,
            "justify_items": null,
            "left": null,
            "margin": null,
            "max_height": null,
            "max_width": null,
            "min_height": null,
            "min_width": null,
            "object_fit": null,
            "object_position": null,
            "order": null,
            "overflow": null,
            "overflow_x": null,
            "overflow_y": null,
            "padding": null,
            "right": null,
            "top": null,
            "visibility": null,
            "width": null
          }
        },
        "4362101bc505490f843ba7ce184c55c0": {
          "model_module": "@jupyter-widgets/controls",
          "model_name": "DescriptionStyleModel",
          "model_module_version": "1.5.0",
          "state": {
            "_model_module": "@jupyter-widgets/controls",
            "_model_module_version": "1.5.0",
            "_model_name": "DescriptionStyleModel",
            "_view_count": null,
            "_view_module": "@jupyter-widgets/base",
            "_view_module_version": "1.2.0",
            "_view_name": "StyleView",
            "description_width": ""
          }
        },
        "485375ae8a9b4473b9bce2d5cf0cf3c6": {
          "model_module": "@jupyter-widgets/controls",
          "model_name": "DropdownModel",
          "model_module_version": "1.5.0",
          "state": {
            "_dom_classes": [],
            "_model_module": "@jupyter-widgets/controls",
            "_model_module_version": "1.5.0",
            "_model_name": "DropdownModel",
            "_options_labels": [
              "This ring has such a good sparkle and it looks like a ring that should cost 10x the amount. Makes a great gift for someone on a budget. My girlfriend loves it.",
              "my wife loves the ring, it was a great gift. extremelly cheap and high quality.",
              "I love this ring fits just right and I showed my daughter the ring and she loved it as well. Great for everyday wear and the price was great..",
              "I bought this ring for my husband and he loved it. I received it when they said I would and it is a great ring",
              "my girlfriend especially enjoys this ring because of the thickness of the ring band. In the past she has had similar rings but has always been frustrated by the flimsy ring band, but this ring has a nice solid band.",
              "I bought this for my 17 year old daughter who had seen a small heart shaped ring at the Coach store and liked the style. This one was much cheaper and ended up being so much prettier! It's really an eye catching ring, doesn't look cheap and sparkles beautifully. I am actually ordering her a second ring since she will be leaving for college next month and is worried about losing it. I think she'll like knowing there is a spare ring at home just in case and for the price it's not a big deal. She wears this ring on her right ring finger instead of her high school ring because she loves it that much. I would suggest this ring for any fan of hearts and a little bit of bling!",
              "I got this ring hoping that it looks like the picture which was misleading. If you purchase this ring, please be aware that it is 1/10 cttw which means that the diamonds are really small. If you are a man looking to buy a ring for his significant other, I would recommend you spend it a little bit more and buy a better looking ring. I ended up returning it.",
              "I love the ring and suggest every girl should have this ring in their jewelry collection.",
              "I bought this ring for my old prom date it's a beautiful ring and fair price so any guy looking to save money until he afford that Engagement ring definitely get this.",
              "i got this ring as a gift from my boyfriend and i love it. the only thing is that if the rings are not position correctly it pinches the skin.",
              "I bought this bracelet for my girlfriend and I was not very impressed with the quality. The bracelet itself looks cheap and the clasp is extremely fragile, in fact the first night she wore the bracelet out the clasp broke on one side. I definitely would not recommend this bracelet.",
              "I purchased this bracelet as a gift last December. The quality of the clasp is quite poor and it gradually lost it ability to stay closed. Recently, the bracelet fell off because of the poor clasp and was damaged greatly. Avoid this bracelet!",
              "Very disappointed in the appearance and quality of the bracelet and its definitely not worth $45.00 - not even close.",
              "This bracelet is poor quality of gemstones and poor craftsmanship. Gemstones are very cloudy and some of the joints in the chain or fused together and the bracelet therefore can't be straightened out completely. In other words, if you unfasten the bracelet and lay it out on the counter it will not form a straight line because some of the joints in the bracelet are fused together and do not bend so you cannot straighten the bracelet. Don't buy this, it's junk.",
              "the bracelet was not a true 9  the necklace perfect the bracelet nice quality just not true to length",
              "The stones on this bracelet are extremely pale, more pink than purple. I ended up returning the bracelet because I have amethyst jewelry and it was extremely poor quality.",
              "This ring is a beautiful ring but the first shipment of this ring had scratches on the diamond and was missing 2 diamonds on the shoulder of the ring. I returned the ring for a replacement of the same ring, the second ring was even worse. Clearly visible white scratch right in the middle of a black diamond does not look that great. And this time 1 diamond missing on the shoulder of the ring. I returned it for a refund. Thanks alot Amazon.",
              "This ring is a beautiful ring but the first shipment of this ring had scratches on the diamond and was missing 2 diamonds on the shoulder of the ring. I returned the ring for a replacement of the same ring, the second ring was even worse. Clearly visible white scratch right in the middle of a black diamond does not look that great. And this time 1 diamond missing on the shoulder of the ring. I returned it for a refund. Thanks alot Amazon.",
              "This ring is a beautiful ring but the first shipment of this ring had scratches on the diamond and was missing 2 diamonds on the shoulder of the ring. I returned the ring for a replacement of the same ring, the second ring was even worse. Clearly visible white scratch right in the middle of a black diamond does not look that great. And this time 1 diamond missing on the shoulder of the ring. I returned it for a refund. Thanks alot Amazon.",
              "This ring is a beautiful ring but the first shipment of this ring had scratches on the diamond and was missing 2 diamonds on the shoulder of the ring. I returned the ring for a replacement of the same ring, the second ring was even worse. Clearly visible white scratch right in the middle of a black diamond does not look that great. And this time 1 diamond missing on the shoulder of the ring. I returned it for a refund. Thanks alot Amazon.",
              "the product i recieved was nice it came in a timley matter faster than i expected will order this item again",
              "Very impressed with the quality of my item. Delivery was fast. Would definately buy from this seller again",
              "Very impressed with the quality of my item. Delivery was fast. Would definately buy from this seller again",
              "I am happy with the product, I received it as advertised and in a timely manner; seller/Amazon kept me updated about shipment/delivery status. Would recommend item and seller",
              "the product arrived in perfect condition but the shipping is ridiculously slow. i will not order from them again.",
              "My item came quickly and in plenty of time for Christmas. They were a huge hit with the person who received them",
              "Wonderful shopping experience I purchased the item for holiday presents and the whole order came quickly and in wonderful condition.",
              "Item was great quality and came promptly. I'm very happy with it and recommend it unreservedly.",
              "Item was shipped and received within the time limit given. Good quality product t t t t t t t",
              "this item looks all most exactly like in the pictures very pleased shipping was ver fast had the item 3 days after order with choosing stranded shipping worth the $$ any time",
              "This lapel pin is the perfect detail to wear your colors. I plan to wear it on my lapel when I wear a suit. This pinis nice enough to wear in formal occasions.Wear it with pride!!",
              "This pendant I classify as the best for casual wear. I wear on the weekends or out & about but isn't not suited for my work or my going out events",
              "These are nice to wear when you want something casual to wear. They are very comfortable.",
              "very good for everyday wear or dressing up",
              "It is so unique and a pleasure to wear. The stones catch the light and the style is very comfortable to wear.",
              "These are not what I thought they were going to be they look good in the picture but when I got them the quality just isn't there. I can't wear them with out completely bending the hooks out of shape. They are more like silver plastic.",
              "It serves the purpose, but it seemed to me that the image was a lot prettier and sparklier than it turned out to be. I wear it UNDER my shirt since it does not compliment anything I wear.",
              "ery suitable for wearing for fashionable occasions. very dressy",
              "The days I do not wear the blue one I wear this one. I really enjoy wearing something Celtic and pretty.",
              "This ring is awesome! I wear the ring on my index finger and it fits great! Comfortable ring.",
              "The item was not as pictured. It is funky and of poor quality. The seller did not respond when I contacted him about this.",
              "I didn't like this product because the diamonds looked nothing like the picture. The diamonds are flawed more than a little bit.",
              "I am happy to say that though I did not receive my order the first time I ordered this cross, the company and Amazon did stand behind their product and refund the money spent on the item. Since they did, I re-ordered the item and it arrived in a timely manner. The cross is really nice. Thank you for the great customer service!",
              "the product i recieved was nice it came in a timley matter faster than i expected will order this item again",
              "This product was hollow, which was not clearly specified in the item description. It was not what I was expecting and seemed to be poor quality. I returned the item.",
              "This ring is a beautiful ring but the first shipment of this ring had scratches on the diamond and was missing 2 diamonds on the shoulder of the ring. I returned the ring for a replacement of the same ring, the second ring was even worse. Clearly visible white scratch right in the middle of a black diamond does not look that great. And this time 1 diamond missing on the shoulder of the ring. I returned it for a refund. Thanks alot Amazon.",
              "This ring is a beautiful ring but the first shipment of this ring had scratches on the diamond and was missing 2 diamonds on the shoulder of the ring. I returned the ring for a replacement of the same ring, the second ring was even worse. Clearly visible white scratch right in the middle of a black diamond does not look that great. And this time 1 diamond missing on the shoulder of the ring. I returned it for a refund. Thanks alot Amazon.",
              "This ring is a beautiful ring but the first shipment of this ring had scratches on the diamond and was missing 2 diamonds on the shoulder of the ring. I returned the ring for a replacement of the same ring, the second ring was even worse. Clearly visible white scratch right in the middle of a black diamond does not look that great. And this time 1 diamond missing on the shoulder of the ring. I returned it for a refund. Thanks alot Amazon.",
              "This ring is a beautiful ring but the first shipment of this ring had scratches on the diamond and was missing 2 diamonds on the shoulder of the ring. I returned the ring for a replacement of the same ring, the second ring was even worse. Clearly visible white scratch right in the middle of a black diamond does not look that great. And this time 1 diamond missing on the shoulder of the ring. I returned it for a refund. Thanks alot Amazon.",
              "From the picture they looked to have some purple in them but they are clear just like the title says.",
              "You will not find a better deal for the money anywhere. This ring is so beautiful. The craftsmanship is meticulous and extensive. Also, the mussel shells are pinker in person than they look online. They are deep in color in various shades of iridescent mauve.",
              "This is a solid.beautiful ring. But if you are expecting the color in rhe picture you will be disappointed. It is barely pink at all. When I first saw it I thought it was lavendar. It's still pretty but buy for design not color.",
              "The diamond looks pretty big. For the price, it shines brilliantly. The color doesn't look very white though. But you don't expect K color to be very white. Overall, I think it's pretty. and I am very happy with it.",
              "The diamond looks pretty big. For the price, it shines brilliantly. The color doesn't look very white though. But you don't expect K color to be very white. Overall, I think it's pretty. and I am very happy with it.",
              "This is a beautiful piece. I looked for a long time to replace the hamsa hand that was given to me in Egypt. This one is perfect. It's delicate and sturdy and lovely to look at. The detail is so pretty and elegant. I wear it often",
              "I've owned several Claddagh rings over the years and lost my last one. I received this one as a gift recently and I truly love it. It's sturdy and the design is crisp. I can easily recommend this one as a lovely ring.",
              "This is a perfect size solid charm that looks the same on either side. Silver is nicely finished and the enamel is a nice highlight. Really looks like the picture.",
              "I THINK THIS NECKLACE IS WELL WORTH THE MONEY. IT IS DELICATE AND SIMPLE. YET IT IS VERY PRETTY. CAN BE LAYED FOR A BEAUTIFUL LOOK.",
              "This dainty heart looks absolutely beautiful on. It picks up the colors of your clothing. It is an amazing price for such a beautiful pendant.",
              "The ring is exactly as pictured and looks very pretty on my hand. The color of the stones is rich and beautiful.",
              "I got this ring hoping that it looks like the picture which was misleading. If you purchase this ring, please be aware that it is 1/10 cttw which means that the diamonds are really small. If you are a man looking to buy a ring for his significant other, I would recommend you spend it a little bit more and buy a better looking ring. I ended up returning it.",
              "This ring looks nothing like the picture. the diamonds are small and not very noticeable; I will be sending this back",
              "I usually love rings from this company but be warned that this ring doesn't look anything like the picture. The ring I received had a super long rectangular stone, not a nice square as seen in the picture. Mine was also tarnished or looked like it had torch marks up the side. I will definitely be returning this ring.",
              "The diamonds in the picture are nothing close to the size they look in the picture but the ring is awesome and I would absolutely recommend it to anyone for the price. Hands down, no doubt. The ring looks amazing for the price. Just don't expect the diamonds to look as big as they do in the picture.",
              "This ring looks beautiful in the picture but when you see it in reality, the cubic zirconia so small and the ring looks so tiny. Also, the cubic zirconia is dull. The ring I received looks like it was worn. Very disgusted with my purchase. Won't buy from this seller again. I do not like false imaging. The ring looks cheap and should be sold for much less. A real rip-off!",
              "i love the ring it shines beautiful its looks so real anyone who like to buy one this is the ring the stones are a good size my friends love the ring it could pass for a real diamond i love the ring its worth the money its better then the ring i bought from avon it was silver and had cubic z no shine to the ring but this ring i bought with the 3 stones its worth the price anne marie",
              "This ring is a beautiful ring but the first shipment of this ring had scratches on the diamond and was missing 2 diamonds on the shoulder of the ring. I returned the ring for a replacement of the same ring, the second ring was even worse. Clearly visible white scratch right in the middle of a black diamond does not look that great. And this time 1 diamond missing on the shoulder of the ring. I returned it for a refund. Thanks alot Amazon.",
              "This ring is a beautiful ring but the first shipment of this ring had scratches on the diamond and was missing 2 diamonds on the shoulder of the ring. I returned the ring for a replacement of the same ring, the second ring was even worse. Clearly visible white scratch right in the middle of a black diamond does not look that great. And this time 1 diamond missing on the shoulder of the ring. I returned it for a refund. Thanks alot Amazon.",
              "This ring is a beautiful ring but the first shipment of this ring had scratches on the diamond and was missing 2 diamonds on the shoulder of the ring. I returned the ring for a replacement of the same ring, the second ring was even worse. Clearly visible white scratch right in the middle of a black diamond does not look that great. And this time 1 diamond missing on the shoulder of the ring. I returned it for a refund. Thanks alot Amazon.",
              "This ring is a beautiful ring but the first shipment of this ring had scratches on the diamond and was missing 2 diamonds on the shoulder of the ring. I returned the ring for a replacement of the same ring, the second ring was even worse. Clearly visible white scratch right in the middle of a black diamond does not look that great. And this time 1 diamond missing on the shoulder of the ring. I returned it for a refund. Thanks alot Amazon.",
              "Although the picture looks like metal beads and description states sterling silver, these are pearls.",
              "This is a perfect size solid charm that looks the same on either side. Silver is nicely finished and the enamel is a nice highlight. Really looks like the picture.",
              "I ordered this Baby Blue Topaz Cluster Ring because I am a loyal customer of sterling silver blue topaz rings. Upon recieving this ring I was totally excited and my anticipation of recieving the ring was exciting. This particular cluster is absolutely beautiful the sparkling color of the stones and the quality of the ring.Recieved numerous compliments and would recommend this ring if your looking for a ring that is set nicely with the blue topaz stones. I am completly satisfied and will order from this site again.",
              "I ordered this Baby Blue Topaz Cluster Ring because I am a loyal customer of sterling silver blue topaz rings. Upon recieving this ring I was totally excited and my anticipation of recieving the ring was exciting. This particular cluster is absolutely beautiful the sparkling color of the stones and the quality of the ring.Recieved numerous compliments and would recommend this ring if your looking for a ring that is set nicely with the blue topaz stones. I am completly satisfied and will order from this site again.",
              "I ordered this Baby Blue Topaz Cluster Ring because I am a loyal customer of sterling silver blue topaz rings. Upon recieving this ring I was totally excited and my anticipation of recieving the ring was exciting. This particular cluster is absolutely beautiful the sparkling color of the stones and the quality of the ring.Recieved numerous compliments and would recommend this ring if your looking for a ring that is set nicely with the blue topaz stones. I am completly satisfied and will order from this site again.",
              "I got this ring hoping that it looks like the picture which was misleading. If you purchase this ring, please be aware that it is 1/10 cttw which means that the diamonds are really small. If you are a man looking to buy a ring for his significant other, I would recommend you spend it a little bit more and buy a better looking ring. I ended up returning it.",
              "The diamonds in the picture are nothing close to the size they look in the picture but the ring is awesome and I would absolutely recommend it to anyone for the price. Hands down, no doubt. The ring looks amazing for the price. Just don't expect the diamonds to look as big as they do in the picture.",
              "The diamond looks pretty big. For the price, it shines brilliantly. The color doesn't look very white though. But you don't expect K color to be very white. Overall, I think it's pretty. and I am very happy with it.",
              "The diamond looks pretty big. For the price, it shines brilliantly. The color doesn't look very white though. But you don't expect K color to be very white. Overall, I think it's pretty. and I am very happy with it.",
              "the earrings are as in the picture, stones look good and are light and comfortable, reasonable quality for the price. The silver does not look as in the picture but just like polished silver."
            ],
            "_view_count": null,
            "_view_module": "@jupyter-widgets/controls",
            "_view_module_version": "1.5.0",
            "_view_name": "DropdownView",
            "description": "Results: ",
            "description_tooltip": null,
            "disabled": false,
            "index": 0,
            "layout": "IPY_MODEL_d9d15b011042440a85732a5ea4f882db",
            "style": "IPY_MODEL_43d54ad3189346d1ad1d73759f2b3829"
          }
        },
        "d9d15b011042440a85732a5ea4f882db": {
          "model_module": "@jupyter-widgets/base",
          "model_name": "LayoutModel",
          "model_module_version": "1.2.0",
          "state": {
            "_model_module": "@jupyter-widgets/base",
            "_model_module_version": "1.2.0",
            "_model_name": "LayoutModel",
            "_view_count": null,
            "_view_module": "@jupyter-widgets/base",
            "_view_module_version": "1.2.0",
            "_view_name": "LayoutView",
            "align_content": null,
            "align_items": null,
            "align_self": null,
            "border": null,
            "bottom": null,
            "display": null,
            "flex": null,
            "flex_flow": null,
            "grid_area": null,
            "grid_auto_columns": null,
            "grid_auto_flow": null,
            "grid_auto_rows": null,
            "grid_column": null,
            "grid_gap": null,
            "grid_row": null,
            "grid_template_areas": null,
            "grid_template_columns": null,
            "grid_template_rows": null,
            "height": null,
            "justify_content": null,
            "justify_items": null,
            "left": null,
            "margin": null,
            "max_height": null,
            "max_width": null,
            "min_height": null,
            "min_width": null,
            "object_fit": null,
            "object_position": null,
            "order": null,
            "overflow": null,
            "overflow_x": null,
            "overflow_y": null,
            "padding": null,
            "right": null,
            "top": null,
            "visibility": null,
            "width": null
          }
        },
        "43d54ad3189346d1ad1d73759f2b3829": {
          "model_module": "@jupyter-widgets/controls",
          "model_name": "DescriptionStyleModel",
          "model_module_version": "1.5.0",
          "state": {
            "_model_module": "@jupyter-widgets/controls",
            "_model_module_version": "1.5.0",
            "_model_name": "DescriptionStyleModel",
            "_view_count": null,
            "_view_module": "@jupyter-widgets/base",
            "_view_module_version": "1.2.0",
            "_view_name": "StyleView",
            "description_width": ""
          }
        }
      }
    }
  },
  "cells": [
    {
      "cell_type": "markdown",
      "source": [
        "# **NLP Course Work**\n",
        "Made By Abdullah Khalid F220102\n",
        "\n",
        "## Note:\n",
        "Please ignore if you see some silly mistake. I was really sick throughout the duration of this module.\n",
        "\n",
        "## Pipeline:\n",
        "In the following notebook we are doing an array of things. Starting from Importing everything, then we preprocess the data that is then followed by applying Latent Semantic Indexing (LSI) and tuning it. Then we move on to Neural information retrieval from there we go to  Topic modelling and visualisation of search results and lastly we go to Summarisation of search results."
      ],
      "metadata": {
        "id": "XQ6EHAbpEvve"
      }
    },
    {
      "cell_type": "markdown",
      "source": [
        "# TASK 1:\n",
        "## Pre-process the dataset."
      ],
      "metadata": {
        "id": "IZT-AH9eGbh2"
      }
    },
    {
      "cell_type": "code",
      "source": [
        "from google.colab import drive  # First, mount the Google Drive to Colab Notebook\n",
        "drive.mount(\"/content/drive\")\n",
        "!ls \"/content/drive/My Drive/Colab Notebooks/COP509cw/Datasets/\"  # Access the Dataset folder inside the Google Drive\n",
        "Data_path = \"/content/drive/My Drive/Colab Notebooks/COP509cw/Datasets/\"   #Set the filename to the csv file path in the Dataset folder\n",
        "filename=str('/content/drive/My Drive/Colab Notebooks/COP509cw/Datasets/JewelleryReviewsLSA.csv')\n",
        "#### Import required libraries ####\n",
        "from sklearn.feature_extraction.text import TfidfVectorizer\n",
        "from numpy import array\n",
        "from string import punctuation\n",
        "from os import listdir\n",
        "from collections import Counter\n",
        "from nltk.corpus import stopwords\n",
        "from pandas import DataFrame\n",
        "from matplotlib import pyplot\n",
        "import random\n",
        "import nltk\n",
        "import numpy\n",
        "from sklearn.decomposition import TruncatedSVD\n",
        "from scipy.sparse import rand\n",
        "from sklearn.metrics.pairwise import cosine_similarity\n",
        "from numpy import argsort\n",
        "import numpy as np\n",
        "from sklearn.feature_extraction.text import CountVectorizer, TfidfTransformer\n",
        "from collections import Counter\n",
        "import csv\n",
        "import pandas as pd\n",
        "#### Library Import end ####"
      ],
      "metadata": {
        "colab": {
          "base_uri": "https://localhost:8080/"
        },
        "id": "V8g2LqHtxoC3",
        "outputId": "2f7889e2-eb8a-44f3-e98b-7928a023e264"
      },
      "execution_count": 55,
      "outputs": [
        {
          "output_type": "stream",
          "name": "stdout",
          "text": [
            "Drive already mounted at /content/drive; to attempt to forcibly remount, call drive.mount(\"/content/drive\", force_remount=True).\n",
            "JewelleryReviewsLSA.csv\t\t     JewelleryReviewsSummarisationTargets.csv\n",
            "JewelleryReviewsQueryRelevantID.csv\n"
          ]
        }
      ]
    },
    {
      "cell_type": "code",
      "execution_count": 56,
      "metadata": {
        "colab": {
          "base_uri": "https://localhost:8080/"
        },
        "id": "kqzx9DPR5ELb",
        "outputId": "4449514d-41da-449c-9c0b-4076478600c9"
      },
      "outputs": [
        {
          "output_type": "stream",
          "name": "stderr",
          "text": [
            "[nltk_data] Downloading package stopwords to /root/nltk_data...\n",
            "[nltk_data]   Package stopwords is already up-to-date!\n"
          ]
        }
      ],
      "source": [
        "## Note: This codeblock is mostly copied from Lab.\n",
        "nltk.download('stopwords')  # Download stopwaords\n",
        "\n",
        "# load doc and add to vocab\n",
        "def add_doc_to_vocab(filename, vocab):\n",
        "\t\"\"\"\n",
        "\tadd_doc_to_vocab function takes a filename and a vocabulary (as a Counter object) as inputs.\n",
        "\tThe function loads the text from the specified file, cleans it by applying the clean_doc function,\n",
        "\tand updates the count of each token in the vocabulary using the update() method of Counter object.\n",
        "\n",
        "\t:param filename: a string specifying the path to the file to be loaded\n",
        "\t:param vocab: a Counter object containing the vocabulary of tokens and their counts\n",
        "\t\"\"\"\n",
        "\t# load doc\n",
        "\tdoc = load_doc(filename)\n",
        "\t# clean doc\n",
        "\ttokens = clean_doc(doc)\n",
        "\t# update counts\n",
        "\tvocab.update(tokens)\n",
        " \n",
        " # load doc into memory\n",
        "def load_doc(filename):\n",
        "\t\"\"\"\n",
        "\tload_doc function takes a filename as input, opens the file in read-only mode,\n",
        "\treads the entire content of the file and returns it as a string. Finally, it closes the file.\n",
        "\n",
        "\t:param filename: a string specifying the path to the file to be loaded\n",
        "\t:return: a string containing the entire content of the specified file\n",
        "\t\"\"\"\n",
        "\t# open the file as read only\n",
        "\tfile = open(filename, 'r')\n",
        "\t# read all text\n",
        "\ttext = file.read()\n",
        "\t# close the file\n",
        "\tfile.close()\n",
        "\treturn text\n",
        "\n",
        "# save list to file\n",
        "def save_list(lines, filename):\n",
        "\t\"\"\"\n",
        "\tsave_list function takes a list of strings and a filename as inputs. The function\n",
        "\tjoins the lines into a single string separated by newline characters, opens the file\n",
        "\tin write mode, writes the string to the file, and finally closes the file.\n",
        "\n",
        "\t:param lines: a list of strings to be saved to the file\n",
        "\t:param filename: a string specifying the path to the file to be created/overwritten\n",
        "\t\"\"\"\n",
        "\t# convert lines to a single blob of text\n",
        "\tdata = '\\n'.join(lines)\n",
        "\t# open file\n",
        "\tfile = open(filename, 'w')\n",
        "\t# write text\n",
        "\tfile.write(data)\n",
        "\t# close file\n",
        "\tfile.close()\n",
        "\n",
        "# split train and test\n",
        "def random_sample(num1, num2):\n",
        "\t\t\"\"\"\n",
        "\t\trandom_sample function randomly samples num2 indices from a list of num1 integers\n",
        "\t\tand returns two lists: TrainIndex containing the sampled indices and TestIndex containing\n",
        "\t\tthe remaining indices. The function uses random.uniform() to generate random indices\n",
        "\t\tand deletes them from the list to avoid duplicates.\n",
        "\t\t:param num1: an integer specifying the size of the initial list of integers\n",
        "\t\t:param num2: an integer specifying the number of indices to sample from the list\n",
        "\t\t:return: a tuple containing two lists: TrainIndex containing sampled indices and TestIndex\n",
        "\t\tcontaining remaining indices.\n",
        "\t\t\"\"\"\n",
        "\t\tdataList = list(range(num1))                           \n",
        "\t\tTrainIndex = []                                        \n",
        "\t\tfor i in range(num2):                                 \n",
        "\t\t\t\trandIndex = int(random.uniform(0,len(dataList))) \n",
        "\t\t\t\tTrainIndex.append(dataList[randIndex])            \n",
        "\t\t\t\tdel(dataList[randIndex])                         \n",
        "\t\tTestIndex = dataList                              \n",
        "\t\treturn TrainIndex,TestIndex  \n",
        "\n",
        "# load doc into memory\n",
        "def load_doc_lines(filename):\n",
        "\t \"\"\"\n",
        "\t\tload_doc_lines function takes a filename as input, opens the file in read-only mode,\n",
        "\t\treads the entire content of the file line by line, strips any newline characters at the\n",
        "\t\tend of each line, appends the line to a list of lines, and finally closes the file.\n",
        "\n",
        "\t\t:param filename: a string specifying the path to the file to be loaded\n",
        "\t\t:return: a list of strings where each string is a line from the file\n",
        "\t \"\"\"\n",
        "\t file = open(filename,'rt')\n",
        "\t lines = list()\n",
        "   # read all text as lines\n",
        "\t while 1:\n",
        "\n",
        "\t\t line = file.readline()   \n",
        "\t\t if not line:    \n",
        "\t\t   break\n",
        "\t\t pass\n",
        "\t\t lines.append(line.strip(\"\\n\"))  \n",
        "   # close the file\n",
        "\t file.close()\n",
        "\t return lines\n",
        "\n",
        "# turn a doc into clean tokens\n",
        "def clean_doc(doc):\n",
        "\t\"\"\"\n",
        "\tclean_doc function takes a document as input, tokenizes it by splitting on white space,\n",
        "\tconverts the tokens to lower case, applies stemming using Porter Stemmer algorithm, removes\n",
        "\tpunctuation from each token, removes any non-alphabetic tokens, removes stop words from the\n",
        "\ttokens, and removes tokens with a length of 1 character. The function returns the cleaned\n",
        "\ttokens as a list.\n",
        "\n",
        "\t:param doc: a string containing the document to be cleaned\n",
        "\t:return: a list of cleaned tokens\n",
        "\t\"\"\"\n",
        "\t# split into tokens by white space\n",
        "\ttokens = doc.split()\n",
        " \n",
        "\t# convert to lower case\n",
        "\ttokens = [word.lower() for word in tokens]\n",
        "\n",
        " \t# stemming of words\n",
        "\tfrom nltk.stem.porter import PorterStemmer\n",
        "\tporter = PorterStemmer()\n",
        "\ttokens = [porter.stem(word) for word in tokens]\n",
        "\n",
        "\t# remove punctuation from each token\n",
        "\ttable = str.maketrans('', '', punctuation)\n",
        "\ttokens = [w.translate(table) for w in tokens]\n",
        "\t# remove remaining tokens that are not alphabetic\n",
        "\ttokens = [word for word in tokens if word.isalpha()]\n",
        "\t# filter out stop words\n",
        "\tstop_words = set(stopwords.words('english'))\n",
        "\ttokens = [w for w in tokens if not w in stop_words]\n",
        "\t# filter out short tokens\n",
        "\ttokens = [word for word in tokens if len(word) > 1]\n",
        "\treturn tokens\n",
        "\n",
        "# load doc, clean and return line of tokens\n",
        "def doc_to_line(doc):\n",
        "\t\"\"\"\n",
        "\tdoc_to_line function takes a document as input, cleans it using the clean_doc function,\n",
        "\tfilters the resulting tokens by vocabulary (which is not implemented in the current code),\n",
        "\tand finally joins the remaining tokens into a single string separated by a space character.\n",
        "\n",
        "\t:param doc: a string containing the document to be processed\n",
        "\t:return: a string containing cleaned and filtered tokens joined by a space character\n",
        "\t\"\"\"\n",
        "\t# clean doc\n",
        "\ttokens = clean_doc(doc)\n",
        "\t# filter by vocab\n",
        "\t# tokens = [w for w in tokens if w in vocab]\n",
        "\treturn ' '.join(tokens)\n",
        "\n",
        "# load all docs in a directory\n",
        "def process_docs(files):\n",
        "\t\"\"\"\n",
        "\tprocess_docs function takes a list of filenames as input. It iterates over each filename\n",
        "\tin the list, applies doc_to_line function to convert each document to a string of cleaned\n",
        "\ttokens, and appends the resulting string to a list of lines. The function then returns\n",
        "\tthe list of lines containing cleaned and filtered tokens for all documents in the input.\n",
        "\n",
        "\t:param files: a list of strings containing filenames of documents to be processed\n",
        "\t:return: a list of strings containing cleaned and filtered tokens for all documents\n",
        "\t\"\"\"\n",
        "\tlines = list()\n",
        "\t# walk through all files in the folder\n",
        "\tfor doc in files:\n",
        "\t\t# print(len(doc))\n",
        "\t\tline = doc_to_line(doc)\n",
        "\t\t# add to list\n",
        "\t\tlines.append(line)\n",
        "\treturn lines\n",
        "\n"
      ]
    },
    {
      "cell_type": "markdown",
      "source": [
        "# TASK 2:\n",
        "## Latent Semantic Indexing (LSI)\n",
        "### Develop a Latent Semantic Indexing (LSI) model. Develop functionality such that for each query, the LSI model retrieves the top 10 most similar reviews from the dataset. (5 marks)"
      ],
      "metadata": {
        "id": "i8dkT4dOLXiK"
      }
    },
    {
      "cell_type": "code",
      "source": [
        "# prepare words encoding of docs\n",
        "def prepare_data(train_docs, mode, vocab):\n",
        "\t# encode training data set\n",
        "\tvectorizer = CountVectorizer(vocabulary=vocab)\n",
        "\ttransformer = TfidfTransformer(norm='l2')\n",
        "\tXtrain = transformer.fit_transform(vectorizer.fit_transform(train_docs))\n",
        "\treturn Xtrain\n",
        "\n",
        "# load the dataset #########################################\n",
        "ArRe_train_lines = load_doc_lines(Data_path + 'JewelleryReviewsLSA.csv')\n",
        "\n",
        "train_docs = process_docs(ArRe_train_lines)    ## WE WILL BE USING THIS VARIABLE ALOTTT\n",
        "\n",
        "# generate vocabulary\n",
        "vocab = []\n",
        "for ll in train_docs:\n",
        "  tt = ll.split()\n",
        "  for ww in tt:\n",
        "    if ww not in vocab:\n",
        "      vocab.append(ww)\n",
        "\n",
        "# First, prepare the training data using the prepare_data function with 'tfidf' method and given vocabulary\n",
        "Xtrain = prepare_data(train_docs, 'tfidf', vocab)\n",
        "# Create an instance of TruncatedSVD model with 30 components and fit it to the training data\n",
        "trunc_SVD_model = TruncatedSVD(n_components=50)\n",
        "approx_Xtrain = trunc_SVD_model.fit_transform(Xtrain)\n",
        "# Print the shape of the approximated Xtrain\n",
        "print(\"Approximated Xtrain shape: \" + str(approx_Xtrain.shape))"
      ],
      "metadata": {
        "colab": {
          "base_uri": "https://localhost:8080/"
        },
        "id": "Hhu66ArcxsAp",
        "outputId": "bb309af2-b7df-4bb8-96dc-7e05d229095d"
      },
      "execution_count": 57,
      "outputs": [
        {
          "output_type": "stream",
          "name": "stdout",
          "text": [
            "Approximated Xtrain shape: (204, 50)\n"
          ]
        }
      ]
    },
    {
      "cell_type": "code",
      "source": [
        "# Load the CSV file 'JewelleryReviewsLSA.csv' from the Dataset folder in Google Drive into a pandas DataFrame object 'df'\n",
        "df = pd.read_csv(Data_path +'JewelleryReviewsLSA.csv')"
      ],
      "metadata": {
        "id": "QkqpeAjL-I2i"
      },
      "execution_count": 58,
      "outputs": []
    },
    {
      "cell_type": "markdown",
      "source": [
        "### Query Processing"
      ],
      "metadata": {
        "id": "8dW6kJ5NMjSJ"
      }
    },
    {
      "cell_type": "code",
      "source": [
        "\n",
        "# specify the CSV file name\n",
        "csv_file  = Data_path + \"JewelleryReviewsQueryRelevantID.csv\"\n",
        "\n",
        "column_names = ['Query1Text', 'Query2Text', 'Query3Text', 'Query4Text','Query5Text', 'Query6Text', 'Query7Text','Query8Text']\n",
        "\n",
        "# create an empty list to store the data\n",
        "Query = []\n",
        "\n",
        "# open the CSV file and read its contents\n",
        "with open(csv_file, 'r') as file:\n",
        "    # create a CSV reader object\n",
        "    reader = csv.DictReader(file)\n",
        "    # retrieve the first row of the CSV file\n",
        "    first_row = next(reader)\n",
        "    # loop through the column names and retrieve the corresponding data\n",
        "    for column_name in column_names:\n",
        "        Query.append(first_row[column_name])\n"
      ],
      "metadata": {
        "id": "Fl_vk3b06N-P"
      },
      "execution_count": 59,
      "outputs": []
    },
    {
      "cell_type": "code",
      "source": [
        "# preprocess query\n",
        "def preprocess_query(review, mode, vocab):\n",
        "    \"\"\"\n",
        "    This function preprocesses a Query  by cleaning it, converting it to a line, encoding it using the given vocabulary \n",
        "    and mode, and returning the encoded matrix.\n",
        "    \n",
        "    Args:\n",
        "    Query (str): The Query to be preprocessed\n",
        "    mode (str): The mode used for encoding. Can be either 'l1' or 'l2'\n",
        "    vocab (list): The vocabulary used for encoding\n",
        "    \n",
        "    Returns:\n",
        "    encoded (scipy.sparse.csr_matrix): The encoded matrix of the Query\n",
        "    \"\"\"\n",
        "    # clean\n",
        "    tokens = clean_doc(review)\n",
        "    # convert to line\n",
        "    line = ' '.join(tokens)\n",
        "    # encode\n",
        "    vectorizer = TfidfVectorizer(vocabulary=vocab)\n",
        "    transformer = TfidfTransformer(norm='l2')\n",
        "    encoded = transformer.fit_transform(vectorizer.fit_transform([line]))\n",
        "    return encoded\n",
        "\n",
        "top_indexes=[]   # Empty array for indexes\n",
        "indexestemp=[]\n",
        "\n",
        "for query in Query:     # Go through each query\n",
        "  # retrieval\n",
        "  encoded_query = preprocess_query(query, 'tfidf', vocab)\n",
        "  \n",
        "  transformed_query = trunc_SVD_model.transform(encoded_query)  # Fit the encoded query\n",
        "\n",
        "  similarities = cosine_similarity(approx_Xtrain, transformed_query)  # Find the similarity\n",
        "\n",
        "  Top_n_reviews=10  # We are taking only top 10 reviews\n",
        "  \n",
        "  indexes = np.argsort(similarities.flat)[::-1]   # Flaten the similarity table\n",
        "\n",
        "  top_indexes=[]\n",
        "  for i in range(Top_n_reviews):    # extract top 10 and put them in a array so that we get the output we have\n",
        "    top_indexes.append(indexes[i])\n",
        "  indexestemp.append(top_indexes)\n",
        "indexestemp # Just to show how everything looks\n"
      ],
      "metadata": {
        "colab": {
          "base_uri": "https://localhost:8080/"
        },
        "id": "pjOlN4056eOU",
        "outputId": "45d444d5-845e-4569-af17-85294827f86e"
      },
      "execution_count": 60,
      "outputs": [
        {
          "output_type": "execute_result",
          "data": {
            "text/plain": [
              "[[105, 107, 118, 112, 115, 111, 113, 108, 104, 109],\n",
              " [121, 123, 122, 120, 125, 124, 6, 101, 99, 185],\n",
              " [98, 110, 97, 96, 134, 154, 131, 137, 126, 127],\n",
              " [143, 152, 141, 142, 29, 146, 144, 149, 148, 8],\n",
              " [158, 7, 154, 155, 156, 135, 43, 99, 137, 100],\n",
              " [160, 159, 161, 162, 170, 183, 165, 166, 187, 102],\n",
              " [171, 174, 173, 1, 176, 182, 40, 189, 180, 184],\n",
              " [185, 194, 186, 188, 189, 190, 187, 183, 191, 177]]"
            ]
          },
          "metadata": {},
          "execution_count": 60
        }
      ]
    },
    {
      "cell_type": "markdown",
      "source": [
        "Now that we have all the indexes we need to convert them into IDs so that we can match it with the query IDs."
      ],
      "metadata": {
        "id": "HcAyExs5P9P8"
      }
    },
    {
      "cell_type": "code",
      "source": [
        "def index2ID(indexestemp):\n",
        "  \"\"\"\n",
        "    Takes in a 2D list of index values and converts them to their corresponding IDs from a pandas DataFrame.\n",
        "\n",
        "    Args:\n",
        "    indexestemp (list): A 2D list of index values.\n",
        "\n",
        "    Returns:\n",
        "    list: A 2D list of corresponding IDs from a pandas DataFrame.\n",
        "\n",
        "    Example:\n",
        "    Suppose we have a 2D list of index values:\n",
        "    [[1, 3, 5],\n",
        "     [2, 4, 6]]\n",
        "    This function would return a 2D list of corresponding IDs:\n",
        "    [['ID_1', 'ID_3', 'ID_5'],\n",
        "     ['ID_2', 'ID_4', 'ID_6']]\n",
        "    \"\"\"\n",
        "  queryValstemp=[]\n",
        "\n",
        "  for Q in range(len(Query)):  #  Iterate through each query in the list of queries\n",
        "    queryVals=[]\n",
        "\n",
        "    for i in range(len(top_indexes)): # Iterate through each index value in the list of top indexes for the query\n",
        "      # Get the ID corresponding to the index value and append it to the queryVals list\n",
        "        queryVals.append(df[\"ID\"][abs((indexestemp[Q][i]-1))])  # -1 is there to match the correct ID and Index\n",
        "    queryValstemp.append(queryVals)  # Append the queryVals list to the queryValstemp list\n",
        "  return queryValstemp\n",
        "queryValstemp=index2ID(indexestemp)\n",
        "queryValstemp"
      ],
      "metadata": {
        "colab": {
          "base_uri": "https://localhost:8080/"
        },
        "id": "zEs2oJiM7ubN",
        "outputId": "06b5c1ad-308f-46a2-aa7f-37b5dabca80c"
      },
      "execution_count": 61,
      "outputs": [
        {
          "output_type": "execute_result",
          "data": {
            "text/plain": [
              "[[58481, 2033, 17273, 49525, 41876, 56494, 45278, 48779, 36164, 34523],\n",
              " [25299, 7432, 55017, 57123, 40871, 2114, 1816, 22058, 51907, 642],\n",
              " [41889, 9726, 10758, 4375, 2780, 13373, 22408, 31657, 33251, 17304],\n",
              " [30640, 53660, 28648, 37486, 12483, 2134, 2131, 51474, 26535, 54548],\n",
              " [33571, 265, 13373, 17607, 41459, 17944, 45856, 51907, 31657, 38305],\n",
              " [46500, 45860, 27474, 43945, 52375, 943, 41319, 39932, 37794, 10612],\n",
              " [209, 47345, 216, 32767, 33632, 36165, 42026, 3494, 51356, 37864],\n",
              " [642, 53409, 10642, 45518, 3494, 735, 37794, 943, 10037, 38637]]"
            ]
          },
          "metadata": {},
          "execution_count": 61
        }
      ]
    },
    {
      "cell_type": "code",
      "source": [
        "### FOR LATER USE ###\n",
        "def index2ID1D(indexestemp):\n",
        "  ''' SAME AS ABOVE BUT RETURNS 1D LISTS RATHER THAN 2D '''\n",
        "  queryValstemp=[]\n",
        "  queryVals=[]\n",
        "  for i in range(len(top_indexes)):\n",
        "    queryValstemp.append(df[\"ID\"][abs((indexestemp[i]-1))])\n",
        "  return queryValstemp"
      ],
      "metadata": {
        "id": "35DJePcOw5_y"
      },
      "execution_count": 62,
      "outputs": []
    },
    {
      "cell_type": "code",
      "source": [
        "### FOR LATER USE ###\n",
        "def index2Review(indexestemp):\n",
        "  ''' SAME AS ABOVE BUT RETURNS Review RATHER THAN IDs '''\n",
        "  queryRevstemp=[]\n",
        "\n",
        "  for Q in range(len(Query)):\n",
        "    queryVals=[]\n",
        "    for i in range(len(top_indexes)):\n",
        "        queryVals.append(df[\"Reviews\"][abs((indexestemp[Q][i]-1))])\n",
        "    queryRevstemp.append(queryVals)\n",
        "  return queryRevstemp\n"
      ],
      "metadata": {
        "id": "rMXZEO0vYQsV"
      },
      "execution_count": 63,
      "outputs": []
    },
    {
      "cell_type": "code",
      "source": [
        "### FOR LATER USE ###\n",
        "def index2Review1D(indexestemp):\n",
        "  ''' SAME AS ABOVE BUT RETURNS 1D LISTS RATHER THAN 2D '''\n",
        "  queryRevstemp=[]\n",
        "  queryVals=[]\n",
        "  for i in range(len(top_indexes)):\n",
        "    queryVals.append(df[\"Reviews\"][abs((indexestemp[i]-1))])\n",
        "  return queryVals"
      ],
      "metadata": {
        "id": "X2S3NxfZbO6x"
      },
      "execution_count": 64,
      "outputs": []
    },
    {
      "cell_type": "markdown",
      "source": [
        "Now that we have ID of the retrived we need query relevent IDs from JewelleryReviewsQueryRelevantID.csv"
      ],
      "metadata": {
        "id": "wYcbPxLLSL5i"
      }
    },
    {
      "cell_type": "code",
      "source": [
        "import csv\n",
        "\n",
        "# Define the CSV file path\n",
        "csv_path = Data_path + \"JewelleryReviewsQueryRelevantID.csv\"\n",
        "\n",
        "# Define the columns to extract data from\n",
        "columns_to_extract = ['Query1', 'Query2', 'Query3', 'Query4','Query5', 'Query6', 'Query7','Query8']\n",
        "\n",
        "# Create an empty 2D array\n",
        "data = []\n",
        "\n",
        "# Create an empty 2D array\n",
        "data_array = [[] for i in range(len(columns_to_extract))]\n",
        "\n",
        "# Open the CSV file for reading\n",
        "with open(csv_path, 'r') as csv_file:\n",
        "    # Create a CSV reader object\n",
        "    csv_reader = csv.DictReader(csv_file)\n",
        "    \n",
        "    # Loop over each row in the CSV file\n",
        "    for row in csv_reader:\n",
        "        # Loop over each column to extract\n",
        "        for i in range(len(columns_to_extract)):\n",
        "          if row[columns_to_extract[i]] != '':\n",
        "            data_array[i].append(int(row[columns_to_extract[i]]))"
      ],
      "metadata": {
        "id": "R4QKMR00Nxr-"
      },
      "execution_count": 65,
      "outputs": []
    },
    {
      "cell_type": "code",
      "source": [
        "def precision(queryValstemp):\n",
        "    \"\"\"\n",
        "    Calculates precision score for a given set of query values.\n",
        "\n",
        "    Parameters:\n",
        "        queryValstemp (list): A list of query values.\n",
        "\n",
        "    Returns:\n",
        "        float: The precision score as a percentage.\n",
        "\n",
        "    \"\"\"\n",
        "    # Initialize an empty list to store recall values for each query\n",
        "    recall=[]\n",
        "    # Iterate through each query in the list\n",
        "    for Q in range(len(Query)):\n",
        "      count=0\n",
        "      # Iterate through the top indexes for each query\n",
        "      for i in range(len(top_indexes)):\n",
        "        # Check if the value at the index is present in the data array for the query\n",
        "        if queryValstemp[Q][i] in data_array[Q]:\n",
        "          # If it is, increment the count\n",
        "          count+=1\n",
        "          # Append the count to the recall list for the current query\n",
        "      recall.append(count)\n",
        "      # Calculate the sum of recall values across all queries\n",
        "    sum = 0\n",
        "    # Loop through the array and add each number to the sum\n",
        "    for num in recall:\n",
        "        sum += num\n",
        "        # Calculate the precision score as a percentage\n",
        "    pre_score=(sum/80)*100\n",
        "    return pre_score  \n",
        "score=precision(queryValstemp)\n",
        "score"
      ],
      "metadata": {
        "colab": {
          "base_uri": "https://localhost:8080/"
        },
        "id": "aC2cGMR_N0Gv",
        "outputId": "b49633d2-d57f-45c8-fc6b-395bed7bf5c2"
      },
      "execution_count": 66,
      "outputs": [
        {
          "output_type": "execute_result",
          "data": {
            "text/plain": [
              "68.75"
            ]
          },
          "metadata": {},
          "execution_count": 66
        }
      ]
    },
    {
      "cell_type": "markdown",
      "source": [
        "### Empirically tune your LSI model (weighting scheme and SVD dimensions). Present the results using tables and graphs. Provide brief remarks on your observations. (5 marks)"
      ],
      "metadata": {
        "id": "ryjOuy0cWkLP"
      }
    },
    {
      "cell_type": "code",
      "source": [
        "N_comp_arr=[1,10,20,30,40,50,60,70,80,90,100,110,120,130,140,150,160]  # Different N commponents\n",
        "weighting_scheme =[\"binary\", \"count\", \"tfidf\"]  # Different Weighing Schemes\n",
        "highest=[]\n",
        "score_1 = 0\n",
        "second_highest=[]\n",
        "score_2 = 0\n",
        " ###################################\n",
        "def evaluate_lsi_model(train_docs, weighting_scheme ,vocab):\n",
        "\n",
        "    '''\n",
        "    Evaluates an LSI (Latent Semantic Indexing) model by converting a list of training documents into a matrix of features\n",
        "    using a given weighting scheme and vocabulary.\n",
        "    Args:\n",
        "\n",
        "    train_docs (list): A list of training documents to be converted into a matrix of features.\n",
        "    weighting_scheme (str): A string specifying the weighting scheme to be used. Must be one of \"binary\", \"count\", or \"tfidf\".\n",
        "    vocab (list): A list of terms to be included in the matrix of features. Only terms in this list will be considered.\n",
        "\n",
        "    Returns:\n",
        "    Xtrain (scipy.sparse matrix): A matrix of features representing the training documents, where each row corresponds to\n",
        "    a document and each column corresponds to a term in the vocabulary. The weighting of each term is determined by the\n",
        "    specified weighting scheme.\n",
        "    '''\n",
        "    # Convert the reviews into a matrix of features using the given weighting scheme\n",
        "    if weighting_scheme == \"binary\":\n",
        "        vectorizer = CountVectorizer(binary=True,vocabulary=vocab)\n",
        "        transformer = CountVectorizer(norm='l2')\n",
        "    elif weighting_scheme == \"count\":\n",
        "        vectorizer = CountVectorizer(vocabulary=vocab)\n",
        "        transformer = CountVectorizer(norm='l2')\n",
        "    elif weighting_scheme == \"tfidf\":\n",
        "        vectorizer = TfidfVectorizer(vocabulary=vocab)\n",
        "        transformer = TfidfTransformer(norm='l2')\n",
        "    else:\n",
        "        raise ValueError(\"Invalid weighting scheme\")\n",
        "\n",
        "    #transformer = CountTransformer(norm='l2')\n",
        "    Xtrain = transformer.fit_transform(vectorizer.fit_transform(train_docs))\n",
        "    return Xtrain\n",
        "  ###################################\n",
        "\n",
        "print('READ TO UNDERSTAND OUTPUT')\n",
        "print('__________________________________________ Seperates the weighing scheme')\n",
        "print('################################################################# Seperates different N_Components')\n",
        "\n",
        "for n in range(len(N_comp_arr)):   # Try different N compoents\n",
        "  for w in range(len(weighting_scheme)):  # Try different Weighing Schemes\n",
        "    Temp_score=0     # Set temporary highs to zero\n",
        "    Temp_score_2=0\n",
        "    Xtrain =  prepare_data(train_docs, weighting_scheme[w], vocab)  # Prepare data with the chosen weighing scheme\n",
        "\n",
        "    trunc_SVD_model = TruncatedSVD(n_components=N_comp_arr[n])    \n",
        "    approx_Xtrain = trunc_SVD_model.fit_transform(Xtrain)   # fit Xtrain\n",
        "    #print(\"Approximated Xtrain shape: \" + str(approx_Xtrain.shape))\n",
        "\n",
        "    top_indexes=[]\n",
        "    indexestemp=[]\n",
        "\n",
        "   \n",
        "    for query in Query:     # Go through each query\n",
        "      # retrieval\n",
        "      encoded_query = preprocess_query(query, 'tfidf', vocab)\n",
        "      \n",
        "      transformed_query = trunc_SVD_model.transform(encoded_query)  # Fit the encoded query\n",
        "\n",
        "      similarities = cosine_similarity(approx_Xtrain, transformed_query)  # Find the similarity\n",
        "\n",
        "      Top_n_reviews=10  # We are taking only top 10 reviews\n",
        "      \n",
        "      indexes = np.argsort(similarities.flat)[::-1]   # Flaten the similarity table\n",
        "\n",
        "      top_indexes=[]\n",
        "      for i in range(Top_n_reviews):    # extract top 10 and put them in a array so that we get the output we have\n",
        "        top_indexes.append(indexes[i])\n",
        "      indexestemp.append(top_indexes)\n",
        "    queryValstemp=index2ID(indexestemp)  # Call index2ID function and convert index to ID\n",
        "    score=precision(queryValstemp)    # Calculate the score \n",
        "    ##### HIGH SCORE PART START #####   # Very self explanatory\n",
        "    Temp_score=score\n",
        "    Temp_score_2=score\n",
        "    if Temp_score > score_1:\n",
        "      score_1=Temp_score\n",
        "      highest=[score,N_comp_arr[n],weighting_scheme[w]]\n",
        "    if (Temp_score > score_2) & (score_1 > Temp_score):\n",
        "      score_2=Temp_score_2\n",
        "      second_highest=[score,N_comp_arr[n],weighting_scheme[w]]\n",
        "    ###### HIGH SCORE PART END ######\n",
        "    print(score)  # Print the score\n",
        "    print('__________________________________________')\n",
        "  print('#################################################################')\n",
        "print(highest)  # At the end print the highest and second highest.\n",
        "print(second_highest)"
      ],
      "metadata": {
        "colab": {
          "base_uri": "https://localhost:8080/"
        },
        "id": "_ZHDvcIDgovC",
        "outputId": "9fa30dc6-3d74-4125-8e20-974c139e0bf1"
      },
      "execution_count": 67,
      "outputs": [
        {
          "output_type": "stream",
          "name": "stdout",
          "text": [
            "READ TO UNDERSTAND OUTPUT\n",
            "__________________________________________ Seperates the weighing scheme\n",
            "################################################################# Seperates different N_Components\n",
            "0.0\n",
            "__________________________________________\n",
            "0.0\n",
            "__________________________________________\n",
            "0.0\n",
            "__________________________________________\n",
            "#################################################################\n",
            "66.25\n",
            "__________________________________________\n",
            "66.25\n",
            "__________________________________________\n",
            "63.74999999999999\n",
            "__________________________________________\n",
            "#################################################################\n",
            "66.25\n",
            "__________________________________________\n",
            "66.25\n",
            "__________________________________________\n",
            "68.75\n",
            "__________________________________________\n",
            "#################################################################\n",
            "66.25\n",
            "__________________________________________\n",
            "70.0\n",
            "__________________________________________\n",
            "70.0\n",
            "__________________________________________\n",
            "#################################################################\n",
            "70.0\n",
            "__________________________________________\n",
            "70.0\n",
            "__________________________________________\n",
            "68.75\n",
            "__________________________________________\n",
            "#################################################################\n",
            "70.0\n",
            "__________________________________________\n",
            "68.75\n",
            "__________________________________________\n",
            "71.25\n",
            "__________________________________________\n",
            "#################################################################\n",
            "66.25\n",
            "__________________________________________\n",
            "67.5\n",
            "__________________________________________\n",
            "66.25\n",
            "__________________________________________\n",
            "#################################################################\n",
            "67.5\n",
            "__________________________________________\n",
            "65.0\n",
            "__________________________________________\n",
            "66.25\n",
            "__________________________________________\n",
            "#################################################################\n",
            "66.25\n",
            "__________________________________________\n",
            "65.0\n",
            "__________________________________________\n",
            "65.0\n",
            "__________________________________________\n",
            "#################################################################\n",
            "63.74999999999999\n",
            "__________________________________________\n",
            "63.74999999999999\n",
            "__________________________________________\n",
            "63.74999999999999\n",
            "__________________________________________\n",
            "#################################################################\n",
            "63.74999999999999\n",
            "__________________________________________\n",
            "63.74999999999999\n",
            "__________________________________________\n",
            "62.5\n",
            "__________________________________________\n",
            "#################################################################\n",
            "63.74999999999999\n",
            "__________________________________________\n",
            "63.74999999999999\n",
            "__________________________________________\n",
            "65.0\n",
            "__________________________________________\n",
            "#################################################################\n",
            "63.74999999999999\n",
            "__________________________________________\n",
            "63.74999999999999\n",
            "__________________________________________\n",
            "62.5\n",
            "__________________________________________\n",
            "#################################################################\n",
            "63.74999999999999\n",
            "__________________________________________\n",
            "63.74999999999999\n",
            "__________________________________________\n",
            "65.0\n",
            "__________________________________________\n",
            "#################################################################\n",
            "62.5\n",
            "__________________________________________\n",
            "62.5\n",
            "__________________________________________\n",
            "63.74999999999999\n",
            "__________________________________________\n",
            "#################################################################\n",
            "63.74999999999999\n",
            "__________________________________________\n",
            "62.5\n",
            "__________________________________________\n",
            "63.74999999999999\n",
            "__________________________________________\n",
            "#################################################################\n",
            "63.74999999999999\n",
            "__________________________________________\n",
            "63.74999999999999\n",
            "__________________________________________\n",
            "65.0\n",
            "__________________________________________\n",
            "#################################################################\n",
            "[71.25, 50, 'tfidf']\n",
            "[68.75, 40, 'tfidf']\n"
          ]
        }
      ]
    },
    {
      "cell_type": "markdown",
      "source": [
        "Here we see we ran alot of models. Out of all the models the our highest precision was 72.5% and we got that with N_components set at 30 and weighing scheme as 'binary'. Second best was 71.25% with 40 as N_Components and tfidf as weighing scheme. Also 30-40 is the sweetspot for the highest precision."
      ],
      "metadata": {
        "id": "a2sX9v9vcTt4"
      }
    },
    {
      "cell_type": "markdown",
      "source": [
        "Now that we have all the score and highest and second highest. We will show the best one via graphs and all. Graphs may look crazy but they are correct. I did not use interpolation mainly because it was messing with my results."
      ],
      "metadata": {
        "id": "0SyI19V-h_C6"
      }
    },
    {
      "cell_type": "markdown",
      "source": [
        "Block below shows the result for best tuned model."
      ],
      "metadata": {
        "id": "6XuY-2Wq537T"
      }
    },
    {
      "cell_type": "code",
      "source": [
        "\n",
        "import matplotlib.pyplot as plt\n",
        "# compute Recall, Precision, F1-measure\n",
        "def compute_R_P_F1(re_mark, QuRe_ID):\n",
        "  \"\"\"\n",
        "  compute_R_P_F1 function takes two input lists: re_mark, which is a binary list of whether\n",
        "  each query was correctly answered or not, and QuRe_ID, which is a list of query ids. The\n",
        "  function calculates the Recall, Precision, and F1 scores at each point while iterating\n",
        "  over the re_mark list. The function returns a tuple of three lists containing Recall,\n",
        "  Precision, and F1 scores at each point.\n",
        "\n",
        "  :param re_mark: a binary list of whether each query was correctly answered or not\n",
        "  :param QuRe_ID: a list of query ids\n",
        "  :return: a tuple containing three lists, Recall, Precision, and F1 scores at each point\n",
        "  \"\"\"\n",
        "  Recall = []\n",
        "  Precision = []\n",
        "  F1measure = []\n",
        "  for i in range(len(re_mark)):\n",
        "    r = sum(re_mark[:(i+1)])\n",
        "    #print(r)\n",
        "    Re = r/(len(QuRe_ID))\n",
        "    Pr = r/(i+1)\n",
        "    #print(Pr)   \n",
        "    # avoid divisor to be 0\n",
        "    FD = Re + Pr \n",
        "    if FD == 0:\n",
        "      FD=1\n",
        "    F1 = 2*Re*Pr/FD\n",
        "\n",
        "    Recall.append(Re)\n",
        "    Precision.append(Pr)\n",
        "    F1measure.append(F1)\n",
        "  return Recall, Precision, F1measure\n",
        "\n",
        "#######################################################\n",
        "#######################################################\n",
        "\n",
        "Xtrain =  prepare_data(train_docs, highest[2], vocab)\n",
        "\n",
        "trunc_SVD_model = TruncatedSVD(n_components=highest[1])\n",
        "approx_Xtrain = trunc_SVD_model.fit_transform(Xtrain)\n",
        "\n",
        "AllRecall = []\n",
        "AllPrecision = []\n",
        "AllF1measure = []\n",
        "# loop queries\n",
        "j = 0\n",
        "for j in range(len(Query)):\n",
        "  # retrieval\n",
        "  encoded_query = preprocess_query(Query[j], 'tfidf', vocab)\n",
        "  transformed_query = trunc_SVD_model.transform(encoded_query)\n",
        "  similarities = cosine_similarity(approx_Xtrain, transformed_query)\n",
        "\n",
        "  # rank the index\n",
        "  Indexes = np.argsort(similarities.flat)[::-1]\n",
        "  indexes = index2ID1D(Indexes)\n",
        "  #print(indexes)\n",
        "  #print(data_array[j])\n",
        "  # Mark the relevant index\n",
        "  re_mark = []\n",
        "  for i in range(len(indexes)):\n",
        "    if (indexes[i]) in data_array[j]:\n",
        "      re_mark.append(1)\n",
        "    else:\n",
        "      re_mark.append(0)\n",
        "  # print(re_mark)\n",
        "\n",
        "  # compute Recall, Precision, F1-measure\n",
        "  Recall, Precision, F1measure = compute_R_P_F1(re_mark=re_mark, QuRe_ID=data_array[j])\n",
        "  \n",
        "  #for i in range(10):\n",
        "    #print(\"Top \" + str(i+1) + ' result: ID%d '%(Indexes[i]), ArRe_train_lines[Indexes[i]])\n",
        "  Recall = np.array(Recall)\n",
        "  Precision = np.array(Precision)\n",
        "  F1measure = np.array(F1measure)\n",
        "\n",
        "  # save\n",
        "  AllRecall.append(Recall)\n",
        "  AllPrecision.append(Precision)\n",
        "  AllF1measure.append(F1measure)\n",
        "\n",
        "  j += 1\n",
        "\n",
        "# compute average Recall, average Precision, average F1-measure\n",
        "AllRecall = np.array(AllRecall)\n",
        "AllPrecision = np.array(AllPrecision)\n",
        "AllF1measure = np.array(AllF1measure)\n",
        "AveRecall = (AllRecall[0] + AllRecall[1])/2\n",
        "AvePrecision = (AllPrecision[0] + AllPrecision[1])/2\n",
        "AveF1measure = (AllF1measure[0] + AllF1measure[1])/2\n",
        "\n",
        "print(\"\\nAverage Recall, average Precision, average F1-measure: \")\n",
        "print(\"average Recall@1~10: \", np.around(AveRecall[:10],2))\n",
        "print(\"average Precision@1~10: \", np.around(AvePrecision[:10],2))\n",
        "print(\"average F1measure@1~10: \", np.around(AveF1measure[:10],2))\n",
        "\n",
        "# plot average R/P curve\n",
        "# plotting the precision-recall curve\n",
        "plt.plot(AveRecall, AvePrecision, '-o')\n",
        "\n",
        "# axis labels\n",
        "plt.xlabel('Recall')\n",
        "plt.ylabel('Precision')\n",
        "\n",
        "# title\n",
        "plt.title('Precision-Recall Curve')\n",
        "\n",
        "# show the plot\n",
        "plt.show()\n",
        "#####################################################################\n",
        "#####################################################################"
      ],
      "metadata": {
        "colab": {
          "base_uri": "https://localhost:8080/",
          "height": 386
        },
        "id": "OBsoPDgg6gLY",
        "outputId": "eb0d2a1d-f695-427e-eb48-ac7c1e5d8a99"
      },
      "execution_count": 68,
      "outputs": [
        {
          "output_type": "stream",
          "name": "stdout",
          "text": [
            "\n",
            "Average Recall, average Precision, average F1-measure: \n",
            "average Recall@1~10:  [0.11 0.23 0.34 0.46 0.57 0.69 0.72 0.75 0.78 0.81]\n",
            "average Precision@1~10:  [1.   1.   1.   1.   1.   1.   0.93 0.88 0.83 0.8 ]\n",
            "average F1measure@1~10:  [0.2  0.36 0.49 0.6  0.69 0.77 0.77 0.76 0.76 0.76]\n"
          ]
        },
        {
          "output_type": "display_data",
          "data": {
            "text/plain": [
              "<Figure size 432x288 with 1 Axes>"
            ],
            "image/png": "[encoded data removed]"
          },
          "metadata": {
            "needs_background": "light"
          }
        }
      ]
    },
    {
      "cell_type": "markdown",
      "source": [
        "Block below shows the result for second best tuned model."
      ],
      "metadata": {
        "id": "Y5rYuwJC7HSF"
      }
    },
    {
      "cell_type": "code",
      "source": [
        "Xtrain =  prepare_data(train_docs, second_highest[2], vocab)\n",
        "\n",
        "trunc_SVD_model = TruncatedSVD(n_components=second_highest[1])\n",
        "approx_Xtrain = trunc_SVD_model.fit_transform(Xtrain)\n",
        "\n",
        "AllRecall = []\n",
        "AllPrecision = []\n",
        "AllF1measure = []\n",
        "# loop queries\n",
        "j = 0\n",
        "for j in range(len(Query)):\n",
        "  # retrieval\n",
        "  encoded_query = preprocess_query(Query[j], 'tfidf', vocab)\n",
        "  transformed_query = trunc_SVD_model.transform(encoded_query)\n",
        "  similarities = cosine_similarity(approx_Xtrain, transformed_query)\n",
        "\n",
        "  # rank the index\n",
        "  Indexes = np.argsort(similarities.flat)[::-1]\n",
        "  indexes = index2ID1D(Indexes)\n",
        "  #print(indexes)\n",
        "  #print(data_array[j])\n",
        "  # Mark the relevant index\n",
        "  re_mark = []\n",
        "  for i in range(len(indexes)):\n",
        "    if (indexes[i]) in data_array[j]:\n",
        "      re_mark.append(1)\n",
        "    else:\n",
        "      re_mark.append(0)\n",
        "  # print(re_mark)\n",
        "\n",
        "  # compute Recall, Precision, F1-measure\n",
        "  Recall, Precision, F1measure = compute_R_P_F1(re_mark=re_mark, QuRe_ID=data_array[j])\n",
        "  \n",
        "  #for i in range(10):\n",
        "    #print(\"Top \" + str(i+1) + ' result: ID%d '%(Indexes[i]), ArRe_train_lines[Indexes[i]])\n",
        "  Recall = np.array(Recall)\n",
        "  Precision = np.array(Precision)\n",
        "  F1measure = np.array(F1measure)\n",
        "\n",
        "  # save\n",
        "  AllRecall.append(Recall)\n",
        "  AllPrecision.append(Precision)\n",
        "  AllF1measure.append(F1measure)\n",
        "\n",
        "  j += 1\n",
        "\n",
        "# compute average Recall, average Precision, average F1-measure\n",
        "AllRecall = np.array(AllRecall)\n",
        "AllPrecision = np.array(AllPrecision)\n",
        "AllF1measure = np.array(AllF1measure)\n",
        "AveRecall = (AllRecall[0] + AllRecall[1])/2\n",
        "AvePrecision = (AllPrecision[0] + AllPrecision[1])/2\n",
        "AveF1measure = (AllF1measure[0] + AllF1measure[1])/2\n",
        "\n",
        "print(\"\\nAverage Recall, average Precision, average F1-measure: \")\n",
        "print(\"average Recall@1~10: \", np.around(AveRecall[:10],2))\n",
        "print(\"average Precision@1~10: \", np.around(AvePrecision[:10],2))\n",
        "print(\"average F1measure@1~10: \", np.around(AveF1measure[:10],2))\n",
        "\n",
        "# plot average R/P curve\n",
        "# plotting the precision-recall curve\n",
        "plt.plot(AveRecall, AvePrecision, '-o')\n",
        "\n",
        "# axis labels\n",
        "plt.xlabel('Recall')\n",
        "plt.ylabel('Precision')\n",
        "\n",
        "# title\n",
        "plt.title('Precision-Recall Curve')\n",
        "\n",
        "# show the plot\n",
        "plt.show()\n",
        "#####################################################################\n",
        "#####################################################################"
      ],
      "metadata": {
        "colab": {
          "base_uri": "https://localhost:8080/",
          "height": 386
        },
        "id": "Vba9TSM96FhT",
        "outputId": "ca7f5ecf-75cb-4cd4-b325-cb83505af8dd"
      },
      "execution_count": 69,
      "outputs": [
        {
          "output_type": "stream",
          "name": "stdout",
          "text": [
            "\n",
            "Average Recall, average Precision, average F1-measure: \n",
            "average Recall@1~10:  [0.11 0.23 0.34 0.46 0.57 0.69 0.72 0.75 0.78 0.81]\n",
            "average Precision@1~10:  [1.   1.   1.   1.   1.   1.   0.93 0.88 0.83 0.8 ]\n",
            "average F1measure@1~10:  [0.2  0.36 0.49 0.6  0.69 0.77 0.77 0.76 0.76 0.76]\n"
          ]
        },
        {
          "output_type": "display_data",
          "data": {
            "text/plain": [
              "<Figure size 432x288 with 1 Axes>"
            ],
            "image/png": "[encoded data removed]"
          },
          "metadata": {
            "needs_background": "light"
          }
        }
      ]
    },
    {
      "cell_type": "markdown",
      "source": [
        "# Task 3\n",
        "## Neural information retrieval\n"
      ],
      "metadata": {
        "id": "ozBnJX6vit5i"
      }
    },
    {
      "cell_type": "markdown",
      "source": [
        "### 3a) Develop a neural information retrieval model (5 marks). Compare its performance to that of your best-tuned LSI model (from Task 2). Present all results in tables and graphs and explain the findings (max 100 words) (10 marks)"
      ],
      "metadata": {
        "id": "qE1Y8ZZ0i13Z"
      }
    },
    {
      "cell_type": "markdown",
      "source": [
        "For this task I took massive Help from \n",
        "https://towardsdatascience.com/bert-for-measuring-text-similarity-eec91c6bf9e1\n",
        "and \n",
        "https://www.sbert.net/docs/pretrained_models.html"
      ],
      "metadata": {
        "id": "aa_CRLIc7aFe"
      }
    },
    {
      "cell_type": "code",
      "source": [
        "test_docs = process_docs(Query) # Preprocess all the queries and put them into a variable called test_docs "
      ],
      "metadata": {
        "id": "q_GA70am66I5"
      },
      "execution_count": 70,
      "outputs": []
    },
    {
      "cell_type": "code",
      "source": [
        "!pip install --quiet sentence_transformers   # Install Sentence Transformers. This partiular gave me a sleepless night :)"
      ],
      "metadata": {
        "id": "gFxp6bzv75z8"
      },
      "execution_count": 71,
      "outputs": []
    },
    {
      "cell_type": "code",
      "source": [
        "from sentence_transformers import SentenceTransformer          # Import SentenceTransformer \n",
        "model = SentenceTransformer('all-mpnet-base-v2') # I am using a pretrained model all-mpnet-base-v2. The other models especially BERT yielded poor results. :("
      ],
      "metadata": {
        "id": "kMFWUmVCBTxA"
      },
      "execution_count": 72,
      "outputs": []
    },
    {
      "cell_type": "code",
      "source": [
        "sentence_embeddings = model.encode(train_docs)  # Encode preprocessed reviews"
      ],
      "metadata": {
        "id": "ksR_TeieH_Nl"
      },
      "execution_count": 73,
      "outputs": []
    },
    {
      "cell_type": "code",
      "source": [
        "sentence_embeddings.shape  # Look at the shape"
      ],
      "metadata": {
        "colab": {
          "base_uri": "https://localhost:8080/"
        },
        "id": "uTA2LqplIEV-",
        "outputId": "84e8ca1d-8c4d-4077-8509-55029835e676"
      },
      "execution_count": 74,
      "outputs": [
        {
          "output_type": "execute_result",
          "data": {
            "text/plain": [
              "(204, 768)"
            ]
          },
          "metadata": {},
          "execution_count": 74
        }
      ]
    },
    {
      "cell_type": "code",
      "source": [
        "top_indexes=[]\n",
        "indexestemp=[]\n",
        "\n",
        "for query in Query:\n",
        "  # retrieval\n",
        "  Query_embeddings = model.encode(query) #embed queries one by one\n",
        "  similarities=cosine_similarity( sentence_embeddings,[Query_embeddings]) # Find similarity\n",
        "  Top_n_reviews=10  # We are taking only top 10 reviews\n",
        "  indexes = np.argsort(similarities.flat)[::-1]   # Flaten the similarity table\n",
        "  top_indexes=[]\n",
        "  for i in range(Top_n_reviews):    # extract top 10 and put them in a array so that we get the output we have\n",
        "    top_indexes.append(indexes[i])\n",
        "  indexestemp.append(top_indexes)"
      ],
      "metadata": {
        "id": "RBQ_3hitkfME"
      },
      "execution_count": 75,
      "outputs": []
    },
    {
      "cell_type": "code",
      "source": [
        "queryValstemp=index2ID(indexestemp)  # Again convert indexes to IDs"
      ],
      "metadata": {
        "id": "b-PTOxnNR-rc"
      },
      "execution_count": 76,
      "outputs": []
    },
    {
      "cell_type": "code",
      "source": [
        "score=precision(queryValstemp)  # Calculate the precision for Neural Model\n",
        "score"
      ],
      "metadata": {
        "colab": {
          "base_uri": "https://localhost:8080/"
        },
        "id": "ghnlz_BASMMV",
        "outputId": "0d0f93b9-8a3c-40e6-c512-f6d17d9c7d89"
      },
      "execution_count": 77,
      "outputs": [
        {
          "output_type": "execute_result",
          "data": {
            "text/plain": [
              "50.0"
            ]
          },
          "metadata": {},
          "execution_count": 77
        }
      ]
    },
    {
      "cell_type": "markdown",
      "source": [
        "At this point I would love to point out that I used 2 to 3 different types of BERT all gave me around 20%. This model seems to be working best."
      ],
      "metadata": {
        "id": "eBDVS4K2O3cE"
      }
    },
    {
      "cell_type": "code",
      "source": [
        "import numpy as np\n",
        "import matplotlib.pyplot as plt\n",
        "AllRecall = []\n",
        "AllPrecision = []\n",
        "AllF1measure = []\n",
        "\n",
        "\n",
        "for j in range(len(Query)) :\n",
        "  # retrieval\n",
        "  Query_embeddings = model.encode(Query[j]) # Embed queries one by one\n",
        "  similarities=cosine_similarity(sentence_embeddings, [Query_embeddings]) # Find the similarity\n",
        "\n",
        "  Indexes = np.argsort(similarities.flat)[::-1] # Flaten Though I dont think we need this.\n",
        "  indexes = index2ID1D(Indexes)   # Remember we said earlier we'll access this function later on.\n",
        "  # Mark the relevant index\n",
        "  re_mark = []\n",
        "  for i in range(len(indexes)):\n",
        "    if (indexes[i]) in data_array[j]:\n",
        "      re_mark.append(1)\n",
        "    else:\n",
        "      re_mark.append(0)\n",
        "  # print(re_mark)\n",
        "\n",
        "  # compute Recall, Precision, F1-measure\n",
        "  Recall, Precision, F1measure = compute_R_P_F1(re_mark=re_mark, QuRe_ID=data_array[j])\n",
        "  \n",
        "  Recall = np.array(Recall)\n",
        "  Precision = np.array(Precision)\n",
        "  F1measure = np.array(F1measure)\n",
        "  # save\n",
        "  AllRecall.append(Recall)\n",
        "  AllPrecision.append(Precision)\n",
        "  AllF1measure.append(F1measure)\n",
        "\n",
        "  j += 1\n",
        "\n",
        "# compute average Recall, average Precision, average F1-measure\n",
        "AllRecall = np.array(AllRecall)\n",
        "AllPrecision = np.array(AllPrecision)\n",
        "AllF1measure = np.array(AllF1measure)\n",
        "AveRecall = (AllRecall[0] + AllRecall[1])/2\n",
        "AvePrecision = (AllPrecision[0] + AllPrecision[1])/2\n",
        "AveF1measure = (AllF1measure[0] + AllF1measure[1])/2\n",
        "\n",
        "print(\"\\nAverage Recall, average Precision, average F1-measure: \")\n",
        "print(\"average Recall@1~10: \", np.around(AveRecall[:10],2))\n",
        "print(\"average Precision@1~10: \", np.around(AvePrecision[:10],2))\n",
        "print(\"average F1measure@1~10: \", np.around(AveF1measure[:10],2))\n",
        "\n",
        "# plot average R/P curve\n",
        "# plotting the precision-recall curve\n",
        "plt.plot(AveRecall, AvePrecision, '-o')\n",
        "\n",
        "# axis labels\n",
        "plt.xlabel('Recall')\n",
        "plt.ylabel('Precision')\n",
        "\n",
        "# title\n",
        "plt.title('Precision-Recall Curve')\n",
        "\n",
        "# show the plot\n",
        "plt.show()\n",
        "#####################################################################\n",
        "#####################################################################"
      ],
      "metadata": {
        "colab": {
          "base_uri": "https://localhost:8080/",
          "height": 386
        },
        "id": "HI8oWsUbUGif",
        "outputId": "c09fd6fc-b4f1-49b3-ae7c-3e09f1fe3126"
      },
      "execution_count": 78,
      "outputs": [
        {
          "output_type": "stream",
          "name": "stdout",
          "text": [
            "\n",
            "Average Recall, average Precision, average F1-measure: \n",
            "average Recall@1~10:  [0.11 0.23 0.34 0.46 0.54 0.62 0.62 0.62 0.62 0.66]\n",
            "average Precision@1~10:  [1.   1.   1.   1.   0.9  0.83 0.71 0.62 0.56 0.55]\n",
            "average F1measure@1~10:  [0.2  0.36 0.49 0.6  0.65 0.68 0.64 0.6  0.56 0.57]\n"
          ]
        },
        {
          "output_type": "display_data",
          "data": {
            "text/plain": [
              "<Figure size 432x288 with 1 Axes>"
            ],
            "image/png": "[encoded data removed]"
          },
          "metadata": {
            "needs_background": "light"
          }
        }
      ]
    },
    {
      "cell_type": "markdown",
      "source": [
        "So now lets do some talking. We see out neural model gives us less precision score than our best tuned LSI model. Our best tuned LSI gives us 70% while this neural only gives 50 at best. one potential reason why a neural model may give less precision than LSI is that neural models are generally more complex and require more data to train effectively. This means that if the amount of available data is limited, the neural model may not be able to learn as effectively as LSI.\n",
        "\n",
        "In addition, LSI is a linear algebra-based method that reduces the dimensionality of a large matrix of word frequencies, while neural models typically use more complex architectures that involve many layers of non-linear transformations. This can make neural models more prone to overfitting, which occurs when the model learns to fit the training data too closely and does not generalize well to new data."
      ],
      "metadata": {
        "id": "OsCcrAMqVB1N"
      }
    },
    {
      "cell_type": "markdown",
      "source": [
        "### 3b) Develop an interactive interface that will allow the user to type in their own query (5 marks) and to interact withthe results (10 marks)."
      ],
      "metadata": {
        "id": "QzZmHz4SU6PE"
      }
    },
    {
      "cell_type": "code",
      "source": [
        "import ipywidgets as widgets\n",
        "user_input='I just love the ring' # Use the global variable JUST A PLACEHOLDER\n",
        "# Create a text box widget\n",
        "text_box = widgets.Text(\n",
        "    placeholder='Type something',\n",
        "    description='Input:',\n",
        "    disabled=False\n",
        ")\n",
        "\n",
        "# Create a submit button widget\n",
        "button = widgets.Button(description='Submit')\n",
        "\n",
        "# Create a text output widget\n",
        "output = widgets.Output()\n",
        "\n",
        "\n",
        "\n",
        "# Define a callback function for the submit button\n",
        "def on_button_clicked(button):\n",
        " # Use the global variable\n",
        "    with output:\n",
        "        # Clear the output widget\n",
        "        output.clear_output()\n",
        "        # Get the user input from the text box\n",
        "        user_input = str(text_box.value)\n",
        "        # Print the user input\n",
        "        print('User input:', user_input)\n",
        "\n",
        "# Link the button to the callback function\n",
        "button.on_click(on_button_clicked)\n",
        "print('Enter a query of your choice. And see the reviews relevent to it')\n",
        "# Display the widgets\n",
        "display(text_box)\n",
        "display(button)\n",
        "display(output)\n",
        "\n",
        "# Use the user input later in the code\n",
        "#print('User input:', user_input.upper())"
      ],
      "metadata": {
        "colab": {
          "base_uri": "https://localhost:8080/",
          "height": 100,
          "referenced_widgets": [
            "17134722617f4e52b5cf14ae7d836226",
            "12125758226543b480608c87df4ed3b6",
            "300fcb4712c34f3bb26c68df31dbcdc3",
            "7f6f1c3ad7cd41149049296ecd9cc3dd",
            "ec238f451b2f47af9a77a4bddaae918b",
            "a744f0ebff2044ee9ef44b302eadaeb5",
            "2a3436bd6b134449a497ec956c13cad6",
            "7f52aebcda9544e7ae0055ba3da631a6"
          ]
        },
        "id": "p1jo8lfXmm4J",
        "outputId": "1c8a372e-5535-4ea8-e7b1-777051f075f3"
      },
      "execution_count": 79,
      "outputs": [
        {
          "output_type": "stream",
          "name": "stdout",
          "text": [
            "Enter a query of your choice. And see the reviews relevent to it\n"
          ]
        },
        {
          "output_type": "display_data",
          "data": {
            "text/plain": [
              "Text(value='', description='Input:', placeholder='Type something')"
            ],
            "application/vnd.jupyter.widget-view+json": {
              "version_major": 2,
              "version_minor": 0,
              "model_id": "17134722617f4e52b5cf14ae7d836226"
            }
          },
          "metadata": {}
        },
        {
          "output_type": "display_data",
          "data": {
            "text/plain": [
              "Button(description='Submit', style=ButtonStyle())"
            ],
            "application/vnd.jupyter.widget-view+json": {
              "version_major": 2,
              "version_minor": 0,
              "model_id": "7f6f1c3ad7cd41149049296ecd9cc3dd"
            }
          },
          "metadata": {}
        },
        {
          "output_type": "display_data",
          "data": {
            "text/plain": [
              "Output()"
            ],
            "application/vnd.jupyter.widget-view+json": {
              "version_major": 2,
              "version_minor": 0,
              "model_id": "2a3436bd6b134449a497ec956c13cad6"
            }
          },
          "metadata": {}
        }
      ]
    },
    {
      "cell_type": "code",
      "source": [
        "### Get index of reviews similar to the query the user entered\n",
        "top_indexes=[]\n",
        "indexestemp=[]\n",
        "  # retrieval\n",
        "Query_embeddings = model.encode(user_input) #embed User Entered Query\n",
        "similarities=cosine_similarity( sentence_embeddings,[Query_embeddings]) # Find similarity\n",
        "Top_n_reviews=10  # We are taking only top 10 reviews\n",
        "indexes = np.argsort(similarities.flat)[::-1]   # Flaten the similarity table\n",
        "top_indexes=[]\n",
        "for i in range(Top_n_reviews):    # extract top 10 and put them in a array so that we get the output we have\n",
        "  top_indexes.append(indexes[i])\n",
        "indexestemp.append(top_indexes)\n",
        "indexestemp = [item for sublist in indexestemp for item in sublist] # Flaten convert 2D to 1D\n",
        "for i in range(len(indexestemp)):  # This is just here incase user enters something totally irrelevant\n",
        "    if indexestemp[i] > 200:\n",
        "        indexestemp[i] = 200\n",
        "\n",
        "indexestemp"
      ],
      "metadata": {
        "colab": {
          "base_uri": "https://localhost:8080/"
        },
        "id": "wr20IRx4msET",
        "outputId": "8773ffa3-0d01-4129-da53-bc90e4006089"
      },
      "execution_count": 80,
      "outputs": [
        {
          "output_type": "execute_result",
          "data": {
            "text/plain": [
              "[52, 88, 9, 104, 49, 51, 53, 21, 92, 77]"
            ]
          },
          "metadata": {},
          "execution_count": 80
        }
      ]
    },
    {
      "cell_type": "code",
      "source": [
        "import ipywidgets as widgets\n",
        "from IPython.display import display\n",
        "options=0\n",
        "# Define a dropdown menu widget with options \"1\" and \"2\"\n",
        "number_select = widgets.Dropdown(\n",
        "    options=[\"Indexes\", \"Acutal Reviews\"],\n",
        "    value=\"Indexes\",\n",
        "    description=\"Select an option:\",\n",
        "    disabled=False,\n",
        ")\n",
        "\n",
        "# Define a text widget to display the output\n",
        "output_text = widgets.HTML(\n",
        "    value=\"\",\n",
        ")\n",
        "\n",
        "# Define a callback function for the dropdown menu\n",
        "def on_number_select(change):\n",
        "    # Get the selected option from the dropdown menu\n",
        "    selected_option = change.new\n",
        "    \n",
        "    # Execute different actions based on the selected option\n",
        "    if selected_option == \"Indexes\":\n",
        "        queryValstemp=index2ID1D(indexestemp)\n",
        "        for val in queryValstemp:\n",
        "          print('ID ', val)\n",
        "    elif selected_option == \"Acutal Reviews\":\n",
        "        queryValstemp=index2Review1D(indexestemp)\n",
        "        for val in queryValstemp:\n",
        "          print('Review ', val)\n",
        "    else:\n",
        "        output_text.value = \"Invalid option selected.\"\n",
        "    \n",
        "# Link the dropdown menu to the callback function\n",
        "number_select.observe(on_number_select, names=\"value\")\n",
        "\n",
        "# Display the widgets\n",
        "display(number_select)\n",
        "display(output_text)\n",
        "\n",
        "  \n"
      ],
      "metadata": {
        "colab": {
          "base_uri": "https://localhost:8080/",
          "height": 51,
          "referenced_widgets": [
            "241e7749c11344668925fd1364ebb804",
            "fb75b3c4895542f393072440716e8deb",
            "b80c51601561461c82447f1d84950a81",
            "52dbb063e31e45e38cd5dba57ceeb30b",
            "81bd2aed77614fdba784fe08e4e60e4e",
            "6e65c6bfe1b5401f9cce572de7fba51f"
          ]
        },
        "id": "3_qACbQnohX7",
        "outputId": "9e690211-5ffa-4e7f-9b58-bf5df0cbb903"
      },
      "execution_count": 81,
      "outputs": [
        {
          "output_type": "display_data",
          "data": {
            "text/plain": [
              "Dropdown(description='Select an option:', options=('Indexes', 'Acutal Reviews'), value='Indexes')"
            ],
            "application/vnd.jupyter.widget-view+json": {
              "version_major": 2,
              "version_minor": 0,
              "model_id": "241e7749c11344668925fd1364ebb804"
            }
          },
          "metadata": {}
        },
        {
          "output_type": "display_data",
          "data": {
            "text/plain": [
              "HTML(value='')"
            ],
            "application/vnd.jupyter.widget-view+json": {
              "version_major": 2,
              "version_minor": 0,
              "model_id": "52dbb063e31e45e38cd5dba57ceeb30b"
            }
          },
          "metadata": {}
        }
      ]
    },
    {
      "cell_type": "markdown",
      "source": [
        "# TASK 4\n",
        "## Topic modelling and visualisation of search results."
      ],
      "metadata": {
        "id": "vmkzcQKPcA3l"
      }
    },
    {
      "cell_type": "markdown",
      "source": [
        "For this particular task I took help from https://towardsdatascience.com/end-to-end-topic-modeling-in-python-latent-dirichlet-allocation-lda-35ce4ed6b3e0"
      ],
      "metadata": {
        "id": "RdQojn9R_gbE"
      }
    },
    {
      "cell_type": "markdown",
      "source": [
        "### 4a) Extend your answer to Task 3 to include topic modelling functionality. For this, implement and tune a topic modelof your choice (e.g. Latent Dirichlet Allocation (LDA), Gensim, BERTopic) that, takes the top n search results and clusters them into topics (n can be user-defined or set to 50) (10 marks). Evaluate the performance of the model using suitable evaluation metrics, and explain the findings (max 100 words) (5 marks)."
      ],
      "metadata": {
        "id": "n1UefEjccG_5"
      }
    },
    {
      "cell_type": "markdown",
      "source": [
        "First off we'll run the same code as Q3 but insted of 10 we'll retrieve 50 reviews."
      ],
      "metadata": {
        "id": "EtIkHfwYkbUO"
      }
    },
    {
      "cell_type": "code",
      "source": [
        "top_indexes=[]\n",
        "indexestemp=[]\n",
        "\n",
        "for query in Query:\n",
        "  # retrieval\n",
        "  Query_embeddings = model.encode(query) #embed queries one by one\n",
        "  similarities=cosine_similarity( sentence_embeddings,[Query_embeddings]) # Find similarity\n",
        "  Top_n_reviews=50  # We are taking only top 10 reviews\n",
        "  indexes = np.argsort(similarities.flat)[::-1]   # Flaten the similarity table\n",
        "  top_indexes=[]\n",
        "  for i in range(Top_n_reviews):    # extract top 10 and put them in a array so that we get the output we have\n",
        "    top_indexes.append(indexes[i])\n",
        "  indexestemp.append(top_indexes)"
      ],
      "metadata": {
        "id": "E8cCCRYTo20k"
      },
      "execution_count": 82,
      "outputs": []
    },
    {
      "cell_type": "code",
      "source": [
        "queryRevstemp=index2Review(indexestemp)"
      ],
      "metadata": {
        "id": "0DyUgyN5L2T0"
      },
      "execution_count": 83,
      "outputs": []
    },
    {
      "cell_type": "markdown",
      "source": [
        "Choose any one query for evaluation and all."
      ],
      "metadata": {
        "id": "BiljqmmJk9EN"
      }
    },
    {
      "cell_type": "code",
      "source": [
        "import ipywidgets as widgets\n",
        "from IPython.display import display\n",
        "data= queryRevstemp[3]\n",
        "# Define a dropdown menu widget with options \"1\" and \"2\"\n",
        "number_select = widgets.Dropdown(\n",
        "    options=[\"1\", \"2\",\"3\", \"4\",\"5\", \"6\",\"7\", \"8\"],\n",
        "    value=\"1\",\n",
        "    description=\"Select an Query:\",\n",
        "    disabled=False,\n",
        ")\n",
        "\n",
        "# Define a text widget to display the output\n",
        "output_text = widgets.HTML(\n",
        "    value=\"\",\n",
        ")\n",
        "\n",
        "# Define a callback function for the dropdown menu\n",
        "def on_number_select(change):\n",
        "    # Get the selected option from the dropdown menu\n",
        "    selected_option = change.new\n",
        "    global data\n",
        "    # Execute different actions based on the selected option\n",
        "    if selected_option == \"1\":\n",
        "        data = queryRevstemp[0]\n",
        "    elif selected_option == \"2\":\n",
        "        data = queryRevstemp[1]\n",
        "    elif selected_option == \"3\":\n",
        "        data = queryRevstemp[2]\n",
        "    elif selected_option == \"4\":\n",
        "        data = queryRevstemp[3]\n",
        "    elif selected_option == \"5\":\n",
        "        data = queryRevstemp[4]\n",
        "    elif selected_option == \"6\":\n",
        "        data = queryRevstemp[5]\n",
        "    elif selected_option == \"7\":\n",
        "        data = queryRevstemp[6]\n",
        "    elif selected_option == \"8\":\n",
        "        data = queryRevstemp[7]\n",
        "    else:\n",
        "        output_text.value = \"Invalid option selected.\"\n",
        "    \n",
        "# Link the dropdown menu to the callback function\n",
        "number_select.observe(on_number_select, names=\"value\")\n",
        "\n",
        "# Display the widgets\n",
        "display(number_select)\n",
        "display(output_text)"
      ],
      "metadata": {
        "colab": {
          "base_uri": "https://localhost:8080/",
          "height": 51,
          "referenced_widgets": [
            "f7f129b480154784bb3718d461192c1b",
            "68b2f812bf074ee58ee74bae77aa839d",
            "82f75ce23d254e83a17bd12f588c3588",
            "a38552fbfc8e4c598bf1752e4be9b271",
            "b3600941c36245aea9d1507ae82ad523",
            "4362101bc505490f843ba7ce184c55c0"
          ]
        },
        "id": "MbUeUdyavfvt",
        "outputId": "d6b71404-ab58-4836-ce26-f99fad05545c"
      },
      "execution_count": 84,
      "outputs": [
        {
          "output_type": "display_data",
          "data": {
            "text/plain": [
              "Dropdown(description='Select an Query:', options=('1', '2', '3', '4', '5', '6', '7', '8'), value='1')"
            ],
            "application/vnd.jupyter.widget-view+json": {
              "version_major": 2,
              "version_minor": 0,
              "model_id": "f7f129b480154784bb3718d461192c1b"
            }
          },
          "metadata": {}
        },
        {
          "output_type": "display_data",
          "data": {
            "text/plain": [
              "HTML(value='')"
            ],
            "application/vnd.jupyter.widget-view+json": {
              "version_major": 2,
              "version_minor": 0,
              "model_id": "a38552fbfc8e4c598bf1752e4be9b271"
            }
          },
          "metadata": {}
        }
      ]
    },
    {
      "cell_type": "markdown",
      "source": [
        "Here is a beautiful Word Cloud"
      ],
      "metadata": {
        "id": "9SPdyRJKpZRd"
      }
    },
    {
      "cell_type": "code",
      "source": [
        "#### Copied from https://towardsdatascience.com/end-to-end-topic-modeling-in-python-latent-dirichlet-allocation-lda-35ce4ed6b3e0\n",
        "# Import the wordcloud library\n",
        "from wordcloud import WordCloud        \n",
        "# Join the different processed titles together.\n",
        "long_string = ','.join(list(data))\n",
        "# Create a WordCloud object\n",
        "wordcloud = WordCloud(background_color=\"Black\", max_words=1000, contour_width=20, contour_color='yellow')\n",
        "# Generate a word cloud\n",
        "wordcloud.generate(long_string)\n",
        "# Visualize the word cloud\n",
        "wordcloud.to_image()"
      ],
      "metadata": {
        "colab": {
          "base_uri": "https://localhost:8080/",
          "height": 273
        },
        "id": "85b1A5lGREiX",
        "outputId": "8dd37002-0848-442a-cf76-10e97a1de079"
      },
      "execution_count": 85,
      "outputs": [
        {
          "output_type": "stream",
          "name": "stderr",
          "text": [
            "/usr/local/lib/python3.9/dist-packages/wordcloud/wordcloud.py:106: MatplotlibDeprecationWarning: The get_cmap function was deprecated in Matplotlib 3.7 and will be removed two minor releases later. Use ``matplotlib.colormaps[name]`` or ``matplotlib.colormaps.get_cmap(obj)`` instead.\n",
            "  self.colormap = plt.cm.get_cmap(colormap)\n"
          ]
        },
        {
          "output_type": "execute_result",
          "data": {
            "text/plain": [
              "<PIL.Image.Image image mode=RGB size=400x200 at 0x7F0A75ABCA30>"
            ],
            "image/png": "[encoded data removed]"
          },
          "metadata": {},
          "execution_count": 85
        }
      ]
    },
    {
      "cell_type": "code",
      "source": [
        "!pip install --quiet pyLDAvis  # Install pyLDAvis"
      ],
      "metadata": {
        "id": "xnK4Mn2BBHMx"
      },
      "execution_count": 86,
      "outputs": []
    },
    {
      "cell_type": "markdown",
      "source": [
        "Here you may think we are preprocessing the data again but no. Its Raw data that we are trying to process again.\n",
        "\n"
      ],
      "metadata": {
        "id": "P3Azd-4bpfii"
      }
    },
    {
      "cell_type": "code",
      "source": [
        "#### Copied from https://towardsdatascience.com/end-to-end-topic-modeling-in-python-latent-dirichlet-allocation-lda-35ce4ed6b3e0\n",
        "import gensim\n",
        "from gensim.utils import simple_preprocess\n",
        "import nltk\n",
        "nltk.download('stopwords')\n",
        "from nltk.corpus import stopwords\n",
        "stop_words = stopwords.words('english')\n",
        "stop_words.extend(['from', 'subject', 're', 'edu', 'use'])\n",
        "def sent_to_words(sentences):\n",
        "    for sentence in sentences:\n",
        "        # deacc=True removes punctuations\n",
        "        yield(gensim.utils.simple_preprocess(str(sentence), deacc=True))\n",
        "def remove_stopwords(texts):\n",
        "    return [[word for word in simple_preprocess(str(doc)) \n",
        "             if word not in stop_words] for doc in texts]\n",
        "#data = queryRevstemp[0]\n",
        "data_words = list(sent_to_words(data))\n",
        "# remove stop words\n",
        "data_words = remove_stopwords(data_words)\n",
        "print(data_words[:1][0][:30])"
      ],
      "metadata": {
        "colab": {
          "base_uri": "https://localhost:8080/"
        },
        "id": "26yT9uB5R34r",
        "outputId": "0048ce11-baaf-4a05-e6be-3b8be183839b"
      },
      "execution_count": 87,
      "outputs": [
        {
          "output_type": "stream",
          "name": "stdout",
          "text": [
            "['lapel', 'pin', 'perfect', 'detail', 'wear', 'colors', 'plan', 'wear', 'lapel', 'wear', 'suit', 'pinis', 'nice', 'enough', 'wear', 'formal', 'occasions', 'wear', 'pride']\n"
          ]
        },
        {
          "output_type": "stream",
          "name": "stderr",
          "text": [
            "[nltk_data] Downloading package stopwords to /root/nltk_data...\n",
            "[nltk_data]   Package stopwords is already up-to-date!\n"
          ]
        }
      ]
    },
    {
      "cell_type": "code",
      "source": [
        "## Copied from https://towardsdatascience.com/end-to-end-topic-modeling-in-python-latent-dirichlet-allocation-lda-35ce4ed6b3e0\n",
        "import gensim.corpora as corpora\n",
        "# Create Dictionary\n",
        "id2word = corpora.Dictionary(data_words)\n",
        "# Create Corpus\n",
        "texts = data_words\n",
        "# Term Document Frequency\n",
        "corpus = [id2word.doc2bow(text) for text in texts]\n",
        "# View\n",
        "print(corpus[:1][0][:30])"
      ],
      "metadata": {
        "colab": {
          "base_uri": "https://localhost:8080/"
        },
        "id": "TVK2uAkTSeVW",
        "outputId": "525cc9e6-47bc-4b33-ef62-2edbb0c8cfa7"
      },
      "execution_count": 88,
      "outputs": [
        {
          "output_type": "stream",
          "name": "stdout",
          "text": [
            "[(0, 1), (1, 1), (2, 1), (3, 1), (4, 2), (5, 1), (6, 1), (7, 1), (8, 1), (9, 1), (10, 1), (11, 1), (12, 1), (13, 5)]\n"
          ]
        }
      ]
    },
    {
      "cell_type": "code",
      "source": [
        "## Copied from https://towardsdatascience.com/end-to-end-topic-modeling-in-python-latent-dirichlet-allocation-lda-35ce4ed6b3e0\n",
        "from pprint import pprint\n",
        "# number of topics\n",
        "num_topics = 10\n",
        "# Build LDA model\n",
        "lda_model = gensim.models.LdaMulticore(corpus=corpus,\n",
        "                                       id2word=id2word,\n",
        "                                       num_topics=num_topics)\n",
        "# Print the Keyword in the 10 topics\n",
        "#pprint(lda_model.print_topics())\n",
        "doc_lda = lda_model[corpus]"
      ],
      "metadata": {
        "colab": {
          "base_uri": "https://localhost:8080/"
        },
        "id": "WbScqwFSSi33",
        "outputId": "173b1031-837e-4458-b861-db978db53723"
      },
      "execution_count": 89,
      "outputs": [
        {
          "output_type": "stream",
          "name": "stderr",
          "text": [
            "WARNING:gensim.models.ldamulticore:too few updates, training might not converge; consider increasing the number of passes or iterations to improve accuracy\n",
            "/usr/local/lib/python3.9/dist-packages/gensim/models/ldamodel.py:1077: DeprecationWarning: Calling np.sum(generator) is deprecated, and in the future will give a different result. Use np.sum(np.fromiter(generator)) or the python sum builtin instead.\n",
            "  \n",
            "/usr/local/lib/python3.9/dist-packages/gensim/models/ldamodel.py:1077: DeprecationWarning: Calling np.sum(generator) is deprecated, and in the future will give a different result. Use np.sum(np.fromiter(generator)) or the python sum builtin instead.\n",
            "  \n",
            "/usr/local/lib/python3.9/dist-packages/gensim/models/ldamodel.py:1077: DeprecationWarning: Calling np.sum(generator) is deprecated, and in the future will give a different result. Use np.sum(np.fromiter(generator)) or the python sum builtin instead.\n",
            "  \n",
            "/usr/local/lib/python3.9/dist-packages/gensim/models/ldamodel.py:1077: DeprecationWarning: Calling np.sum(generator) is deprecated, and in the future will give a different result. Use np.sum(np.fromiter(generator)) or the python sum builtin instead.\n",
            "  \n",
            "/usr/local/lib/python3.9/dist-packages/gensim/models/ldamodel.py:1077: DeprecationWarning: Calling np.sum(generator) is deprecated, and in the future will give a different result. Use np.sum(np.fromiter(generator)) or the python sum builtin instead.\n",
            "  \n",
            "/usr/local/lib/python3.9/dist-packages/gensim/models/ldamodel.py:1077: DeprecationWarning: Calling np.sum(generator) is deprecated, and in the future will give a different result. Use np.sum(np.fromiter(generator)) or the python sum builtin instead.\n",
            "  \n",
            "/usr/local/lib/python3.9/dist-packages/gensim/models/ldamodel.py:1077: DeprecationWarning: Calling np.sum(generator) is deprecated, and in the future will give a different result. Use np.sum(np.fromiter(generator)) or the python sum builtin instead.\n",
            "  \n",
            "/usr/local/lib/python3.9/dist-packages/gensim/models/ldamodel.py:1077: DeprecationWarning: Calling np.sum(generator) is deprecated, and in the future will give a different result. Use np.sum(np.fromiter(generator)) or the python sum builtin instead.\n",
            "  \n",
            "/usr/local/lib/python3.9/dist-packages/gensim/models/ldamodel.py:1077: DeprecationWarning: Calling np.sum(generator) is deprecated, and in the future will give a different result. Use np.sum(np.fromiter(generator)) or the python sum builtin instead.\n",
            "  \n",
            "/usr/local/lib/python3.9/dist-packages/gensim/models/ldamodel.py:1077: DeprecationWarning: Calling np.sum(generator) is deprecated, and in the future will give a different result. Use np.sum(np.fromiter(generator)) or the python sum builtin instead.\n",
            "  \n",
            "/usr/local/lib/python3.9/dist-packages/gensim/models/ldamodel.py:1077: DeprecationWarning: Calling np.sum(generator) is deprecated, and in the future will give a different result. Use np.sum(np.fromiter(generator)) or the python sum builtin instead.\n",
            "  \n",
            "/usr/local/lib/python3.9/dist-packages/gensim/models/ldamodel.py:1077: DeprecationWarning: Calling np.sum(generator) is deprecated, and in the future will give a different result. Use np.sum(np.fromiter(generator)) or the python sum builtin instead.\n",
            "  \n",
            "/usr/local/lib/python3.9/dist-packages/gensim/models/ldamodel.py:1077: DeprecationWarning: Calling np.sum(generator) is deprecated, and in the future will give a different result. Use np.sum(np.fromiter(generator)) or the python sum builtin instead.\n",
            "  \n",
            "/usr/local/lib/python3.9/dist-packages/gensim/models/ldamodel.py:1077: DeprecationWarning: Calling np.sum(generator) is deprecated, and in the future will give a different result. Use np.sum(np.fromiter(generator)) or the python sum builtin instead.\n",
            "  \n",
            "/usr/local/lib/python3.9/dist-packages/gensim/models/ldamodel.py:1077: DeprecationWarning: Calling np.sum(generator) is deprecated, and in the future will give a different result. Use np.sum(np.fromiter(generator)) or the python sum builtin instead.\n",
            "  \n",
            "/usr/local/lib/python3.9/dist-packages/gensim/models/ldamodel.py:1077: DeprecationWarning: Calling np.sum(generator) is deprecated, and in the future will give a different result. Use np.sum(np.fromiter(generator)) or the python sum builtin instead.\n",
            "  \n",
            "/usr/local/lib/python3.9/dist-packages/gensim/models/ldamodel.py:1077: DeprecationWarning: Calling np.sum(generator) is deprecated, and in the future will give a different result. Use np.sum(np.fromiter(generator)) or the python sum builtin instead.\n",
            "  \n",
            "/usr/local/lib/python3.9/dist-packages/gensim/models/ldamodel.py:1077: DeprecationWarning: Calling np.sum(generator) is deprecated, and in the future will give a different result. Use np.sum(np.fromiter(generator)) or the python sum builtin instead.\n",
            "  \n",
            "/usr/local/lib/python3.9/dist-packages/gensim/models/ldamodel.py:1077: DeprecationWarning: Calling np.sum(generator) is deprecated, and in the future will give a different result. Use np.sum(np.fromiter(generator)) or the python sum builtin instead.\n",
            "  \n",
            "/usr/local/lib/python3.9/dist-packages/gensim/models/ldamodel.py:1077: DeprecationWarning: Calling np.sum(generator) is deprecated, and in the future will give a different result. Use np.sum(np.fromiter(generator)) or the python sum builtin instead.\n",
            "  \n",
            "/usr/local/lib/python3.9/dist-packages/gensim/models/ldamodel.py:1077: DeprecationWarning: Calling np.sum(generator) is deprecated, and in the future will give a different result. Use np.sum(np.fromiter(generator)) or the python sum builtin instead.\n",
            "  \n",
            "/usr/local/lib/python3.9/dist-packages/gensim/models/ldamodel.py:1077: DeprecationWarning: Calling np.sum(generator) is deprecated, and in the future will give a different result. Use np.sum(np.fromiter(generator)) or the python sum builtin instead.\n",
            "  \n",
            "/usr/local/lib/python3.9/dist-packages/gensim/models/ldamodel.py:1077: DeprecationWarning: Calling np.sum(generator) is deprecated, and in the future will give a different result. Use np.sum(np.fromiter(generator)) or the python sum builtin instead.\n",
            "  \n",
            "/usr/local/lib/python3.9/dist-packages/gensim/models/ldamodel.py:1077: DeprecationWarning: Calling np.sum(generator) is deprecated, and in the future will give a different result. Use np.sum(np.fromiter(generator)) or the python sum builtin instead.\n",
            "  \n",
            "/usr/local/lib/python3.9/dist-packages/gensim/models/ldamodel.py:1077: DeprecationWarning: Calling np.sum(generator) is deprecated, and in the future will give a different result. Use np.sum(np.fromiter(generator)) or the python sum builtin instead.\n",
            "  \n",
            "/usr/local/lib/python3.9/dist-packages/gensim/models/ldamodel.py:1077: DeprecationWarning: Calling np.sum(generator) is deprecated, and in the future will give a different result. Use np.sum(np.fromiter(generator)) or the python sum builtin instead.\n",
            "  \n",
            "/usr/local/lib/python3.9/dist-packages/gensim/models/ldamodel.py:1077: DeprecationWarning: Calling np.sum(generator) is deprecated, and in the future will give a different result. Use np.sum(np.fromiter(generator)) or the python sum builtin instead.\n",
            "  \n",
            "/usr/local/lib/python3.9/dist-packages/gensim/models/ldamodel.py:1077: DeprecationWarning: Calling np.sum(generator) is deprecated, and in the future will give a different result. Use np.sum(np.fromiter(generator)) or the python sum builtin instead.\n",
            "  \n",
            "/usr/local/lib/python3.9/dist-packages/gensim/models/ldamodel.py:1077: DeprecationWarning: Calling np.sum(generator) is deprecated, and in the future will give a different result. Use np.sum(np.fromiter(generator)) or the python sum builtin instead.\n",
            "  \n",
            "/usr/local/lib/python3.9/dist-packages/gensim/models/ldamodel.py:1077: DeprecationWarning: Calling np.sum(generator) is deprecated, and in the future will give a different result. Use np.sum(np.fromiter(generator)) or the python sum builtin instead.\n",
            "  \n",
            "/usr/local/lib/python3.9/dist-packages/gensim/models/ldamodel.py:1077: DeprecationWarning: Calling np.sum(generator) is deprecated, and in the future will give a different result. Use np.sum(np.fromiter(generator)) or the python sum builtin instead.\n",
            "  \n",
            "/usr/local/lib/python3.9/dist-packages/gensim/models/ldamodel.py:1077: DeprecationWarning: Calling np.sum(generator) is deprecated, and in the future will give a different result. Use np.sum(np.fromiter(generator)) or the python sum builtin instead.\n",
            "  \n",
            "/usr/local/lib/python3.9/dist-packages/gensim/models/ldamodel.py:1077: DeprecationWarning: Calling np.sum(generator) is deprecated, and in the future will give a different result. Use np.sum(np.fromiter(generator)) or the python sum builtin instead.\n",
            "  \n",
            "/usr/local/lib/python3.9/dist-packages/gensim/models/ldamodel.py:1077: DeprecationWarning: Calling np.sum(generator) is deprecated, and in the future will give a different result. Use np.sum(np.fromiter(generator)) or the python sum builtin instead.\n",
            "  \n",
            "/usr/local/lib/python3.9/dist-packages/gensim/models/ldamodel.py:1077: DeprecationWarning: Calling np.sum(generator) is deprecated, and in the future will give a different result. Use np.sum(np.fromiter(generator)) or the python sum builtin instead.\n",
            "  \n",
            "/usr/local/lib/python3.9/dist-packages/gensim/models/ldamodel.py:1077: DeprecationWarning: Calling np.sum(generator) is deprecated, and in the future will give a different result. Use np.sum(np.fromiter(generator)) or the python sum builtin instead.\n",
            "  \n",
            "/usr/local/lib/python3.9/dist-packages/gensim/models/ldamodel.py:1077: DeprecationWarning: Calling np.sum(generator) is deprecated, and in the future will give a different result. Use np.sum(np.fromiter(generator)) or the python sum builtin instead.\n",
            "  \n",
            "/usr/local/lib/python3.9/dist-packages/gensim/models/ldamodel.py:1077: DeprecationWarning: Calling np.sum(generator) is deprecated, and in the future will give a different result. Use np.sum(np.fromiter(generator)) or the python sum builtin instead.\n",
            "  \n",
            "/usr/local/lib/python3.9/dist-packages/gensim/models/ldamodel.py:1077: DeprecationWarning: Calling np.sum(generator) is deprecated, and in the future will give a different result. Use np.sum(np.fromiter(generator)) or the python sum builtin instead.\n",
            "  \n",
            "/usr/local/lib/python3.9/dist-packages/gensim/models/ldamodel.py:1077: DeprecationWarning: Calling np.sum(generator) is deprecated, and in the future will give a different result. Use np.sum(np.fromiter(generator)) or the python sum builtin instead.\n",
            "  \n",
            "/usr/local/lib/python3.9/dist-packages/gensim/models/ldamodel.py:1077: DeprecationWarning: Calling np.sum(generator) is deprecated, and in the future will give a different result. Use np.sum(np.fromiter(generator)) or the python sum builtin instead.\n",
            "  \n",
            "/usr/local/lib/python3.9/dist-packages/gensim/models/ldamodel.py:1077: DeprecationWarning: Calling np.sum(generator) is deprecated, and in the future will give a different result. Use np.sum(np.fromiter(generator)) or the python sum builtin instead.\n",
            "  \n",
            "/usr/local/lib/python3.9/dist-packages/gensim/models/ldamodel.py:1077: DeprecationWarning: Calling np.sum(generator) is deprecated, and in the future will give a different result. Use np.sum(np.fromiter(generator)) or the python sum builtin instead.\n",
            "  \n",
            "/usr/local/lib/python3.9/dist-packages/gensim/models/ldamodel.py:1077: DeprecationWarning: Calling np.sum(generator) is deprecated, and in the future will give a different result. Use np.sum(np.fromiter(generator)) or the python sum builtin instead.\n",
            "  \n",
            "/usr/local/lib/python3.9/dist-packages/gensim/models/ldamodel.py:1077: DeprecationWarning: Calling np.sum(generator) is deprecated, and in the future will give a different result. Use np.sum(np.fromiter(generator)) or the python sum builtin instead.\n",
            "  \n",
            "/usr/local/lib/python3.9/dist-packages/gensim/models/ldamodel.py:1077: DeprecationWarning: Calling np.sum(generator) is deprecated, and in the future will give a different result. Use np.sum(np.fromiter(generator)) or the python sum builtin instead.\n",
            "  \n",
            "/usr/local/lib/python3.9/dist-packages/gensim/models/ldamodel.py:1077: DeprecationWarning: Calling np.sum(generator) is deprecated, and in the future will give a different result. Use np.sum(np.fromiter(generator)) or the python sum builtin instead.\n",
            "  \n",
            "/usr/local/lib/python3.9/dist-packages/gensim/models/ldamodel.py:1077: DeprecationWarning: Calling np.sum(generator) is deprecated, and in the future will give a different result. Use np.sum(np.fromiter(generator)) or the python sum builtin instead.\n",
            "  \n",
            "/usr/local/lib/python3.9/dist-packages/gensim/models/ldamodel.py:1077: DeprecationWarning: Calling np.sum(generator) is deprecated, and in the future will give a different result. Use np.sum(np.fromiter(generator)) or the python sum builtin instead.\n",
            "  \n",
            "/usr/local/lib/python3.9/dist-packages/gensim/models/ldamodel.py:1077: DeprecationWarning: Calling np.sum(generator) is deprecated, and in the future will give a different result. Use np.sum(np.fromiter(generator)) or the python sum builtin instead.\n",
            "  \n"
          ]
        }
      ]
    },
    {
      "cell_type": "code",
      "source": [
        "from gensim.models.coherencemodel import CoherenceModel\n",
        "from tabulate import tabulate\n",
        "# Calculate the coherence score\n",
        "coherence_model_lda = CoherenceModel(model=lda_model, texts=texts, dictionary=id2word, coherence='c_v')\n",
        "coherence_lda = coherence_model_lda.get_coherence()\n",
        "\n",
        "# Create a list of topic keywords and probabilities\n",
        "topic_keywords = []\n",
        "for topic_id, topic in lda_model.show_topics(num_topics=num_topics, formatted=False):\n",
        "    topic_keywords.append(', '.join([word for word, prob in topic]))\n",
        "\n",
        "# Create a list of topic keywords and probabilities\n",
        "topic_keywords = []\n",
        "for topic_id, topic in lda_model.show_topics(num_topics=num_topics, formatted=False):\n",
        "    topic_keywords.append([word for word, prob in topic])\n",
        "\n",
        "# Add the coherence score as a row in the topic keywords list\n",
        "topic_keywords.append(['Coherence Score: {}'.format(round(coherence_lda, 4))])\n",
        "\n",
        "# Display the topic keywords in a table format using the tabulate library\n",
        "headers = ['Topic {}'.format(i) for i in range(1, num_topics+1)]\n",
        "print(tabulate(topic_keywords, headers=headers))"
      ],
      "metadata": {
        "colab": {
          "base_uri": "https://localhost:8080/"
        },
        "id": "rc0YrIV8nyDl",
        "outputId": "5c990a8d-4180-4af2-98f2-d8b3140b6e0c"
      },
      "execution_count": 90,
      "outputs": [
        {
          "output_type": "stream",
          "name": "stdout",
          "text": [
            "Topic 1                  Topic 2     Topic 3    Topic 4    Topic 5    Topic 6     Topic 7    Topic 8    Topic 9      Topic 10\n",
            "-----------------------  ----------  ---------  ---------  ---------  ----------  ---------  ---------  -----------  -----------\n",
            "ring                     beautiful   look       wear       band       one         pretty     everyone   hand         turned\n",
            "wearing                  classy      work       pinky      ring       wanted      found      hand       looking      gold\n",
            "ring                     wear        would      love       thumb      gold        much       gorgeous   wanted       wearing\n",
            "look                     beautiful   wearing    necklace   money      looking     every      delicate   simple       pretty\n",
            "wear                     like        got        hard       look       good        quality    picture    silver       completely\n",
            "wear                     wearing     perfect    item       elegant    enough      dress      still      compliments  daily\n",
            "ring                     beautiful   got        love       feb        engagement  durable    occasions  ery          dressy\n",
            "wear                     ring        bracelet   one        nice       quality     lapel      recommend  perfect      comfortable\n",
            "ring                     engagement  wear       like       looking    look        price      quite      definitely   rings\n",
            "wear                     ring        one        pretty     wearing    finger      something  index      work         going\n",
            "Coherence Score: 0.3487\n"
          ]
        }
      ]
    },
    {
      "cell_type": "markdown",
      "source": [
        "A coherence score of 0.3704 suggests that the topics generated by the LDA model are somewhat coherent, but may require further refinement or optimization. It is important to note that the coherence score alone is not sufficient to evaluate the quality of a topic model, and should be used in conjunction with other evaluation metrics, such as human judgement or domain-specific relevance measures. Additionally, coherence score can be influenced by the number of topics, the size and quality of the corpus, and the hyperparameters of the LDA model, among other factors."
      ],
      "metadata": {
        "id": "7Db9KvOKqBO7"
      }
    },
    {
      "cell_type": "markdown",
      "source": [
        "### Add functionality that will enable the user to interactively visualise the topics and keywords (15 marks)"
      ],
      "metadata": {
        "id": "qaLF09EOqDHx"
      }
    },
    {
      "cell_type": "code",
      "source": [
        "import pyLDAvis.gensim_models as gensimvis\n",
        "import pyLDAvis.gensim\n",
        "import pickle \n",
        "import pyLDAvis\n",
        "\n",
        "# set the lambda parameter for the visualization\n",
        "LDAvis_prepared = pyLDAvis.gensim.prepare(lda_model, corpus, id2word)\n",
        "# display the visualization with a fixed size\n",
        "pyLDAvis.display(LDAvis_prepared)"
      ],
      "metadata": {
        "colab": {
          "base_uri": "https://localhost:8080/",
          "height": 897
        },
        "id": "EEbMWHoTSr61",
        "outputId": "fabfdee2-4f0c-4d58-e0d0-4fae55c22c59"
      },
      "execution_count": 91,
      "outputs": [
        {
          "output_type": "stream",
          "name": "stderr",
          "text": [
            "/usr/local/lib/python3.9/dist-packages/pyLDAvis/_prepare.py:243: FutureWarning: In a future version of pandas all arguments of DataFrame.drop except for the argument 'labels' will be keyword-only.\n",
            "  default_term_info = default_term_info.sort_values(\n"
          ]
        },
        {
          "output_type": "execute_result",
          "data": {
            "text/plain": [
              "<IPython.core.display.HTML object>"
            ],
            "text/html": [
              "\n",
              "<link rel=\"stylesheet\" type=\"text/css\" href=\"https://cdn.jsdelivr.net/gh/bmabey/pyLDAvis@3.4.0/pyLDAvis/js/ldavis.v1.0.0.css\">\n",
              "\n",
              "\n",
              "<div id=\"ldavis_el5791396829115468324869487708\" style=\"background-color:white;\"></div>\n",
              "<script type=\"text/javascript\">\n",
              "\n",
              "var ldavis_el5791396829115468324869487708_data = {\"mdsDat\": {\"x\": [-0.12023758780782791, -0.02715182449913739, 0.09730062995067419, -0.13050013481303194, 0.03895860234652209, 0.012531706260502287, 0.04636805296130282, 0.052427905540879054, -0.022243885333469396, 0.05254653539358639], \"y\": [0.04742524737057994, 0.006088723729463735, 0.13968472899988696, 0.00299375459007214, 0.025651573553655046, -0.014651299702757886, -0.06123763321628272, -0.09319332069115585, -0.03140770910167808, -0.02135406553178333], \"topics\": [1, 2, 3, 4, 5, 6, 7, 8, 9, 10], \"cluster\": [1, 1, 1, 1, 1, 1, 1, 1, 1, 1], \"Freq\": [31.228765872220254, 16.436187385287894, 15.066546606789256, 14.502650599477104, 7.095230276176225, 3.858491091531252, 3.7665332060656787, 3.361425634150559, 2.556251710419854, 2.1279176178819244]}, \"tinfo\": {\"Term\": [\"wear\", \"ring\", \"wearing\", \"beautiful\", \"like\", \"got\", \"engagement\", \"pretty\", \"look\", \"work\", \"perfect\", \"love\", \"pinky\", \"looking\", \"compliments\", \"quality\", \"many\", \"money\", \"hard\", \"necklace\", \"classy\", \"absolutely\", \"elegant\", \"still\", \"enough\", \"item\", \"every\", \"wanted\", \"gold\", \"hand\", \"thumb\", \"things\", \"wears\", \"gorgeous\", \"buying\", \"fiance\", \"different\", \"hold\", \"fell\", \"everything\", \"claws\", \"sharp\", \"support\", \"stuck\", \"without\", \"jersey\", \"garnet\", \"sports\", \"regrets\", \"scratched\", \"awhile\", \"team\", \"holder\", \"pro\", \"lover\", \"local\", \"oversized\", \"hat\", \"night\", \"manner\", \"would\", \"ring\", \"much\", \"great\", \"gold\", \"wanted\", \"love\", \"low\", \"stone\", \"actually\", \"skeptical\", \"necklaces\", \"recommend\", \"want\", \"looks\", \"first\", \"price\", \"bought\", \"wear\", \"finger\", \"pinky\", \"purchased\", \"wearing\", \"like\", \"size\", \"rings\", \"look\", \"one\", \"fits\", \"nice\", \"band\", \"turned\", \"beautiful\", \"often\", \"hamsa\", \"long\", \"given\", \"egypt\", \"replace\", \"anything\", \"pinkie\", \"seemed\", \"purpose\", \"image\", \"shirt\", \"compliment\", \"made\", \"sparklier\", \"flexible\", \"clothing\", \"picks\", \"serves\", \"smooth\", \"closes\", \"finish\", \"classic\", \"amazing\", \"firmly\", \"clic\", \"attention\", \"always\", \"hand\", \"everyone\", \"look\", \"ring\", \"looked\", \"pretty\", \"one\", \"wear\", \"since\", \"rings\", \"prettier\", \"heart\", \"right\", \"lot\", \"price\", \"finger\", \"much\", \"want\", \"looks\", \"perfect\", \"good\", \"dainty\", \"lovely\", \"lapel\", \"true\", \"bracelet\", \"received\", \"stones\", \"necklace\", \"compliments\", \"recently\", \"easily\", \"truly\", \"claddagh\", \"gift\", \"owned\", \"crisp\", \"plan\", \"pride\", \"several\", \"pinis\", \"lost\", \"pin\", \"design\", \"formal\", \"years\", \"pleasure\", \"quickly\", \"length\", \"part\", \"become\", \"light\", \"anticipated\", \"quality\", \"wear\", \"nice\", \"recommend\", \"perfect\", \"extremely\", \"one\", \"comfortable\", \"would\", \"ring\", \"wearing\", \"love\", \"colors\", \"rings\", \"lovely\", \"last\", \"sturdy\", \"detail\", \"afford\", \"date\", \"prom\", \"fair\", \"save\", \"real\", \"surprised\", \"flowers\", \"man\", \"debt\", \"marriage\", \"see\", \"masonic\", \"guy\", \"mr\", \"feminine\", \"getting\", \"go\", \"please\", \"buy\", \"life\", \"find\", \"titanium\", \"told\", \"around\", \"quite\", \"definitely\", \"engagement\", \"taste\", \"picture\", \"looking\", \"ring\", \"like\", \"price\", \"fits\", \"wear\", \"rings\", \"look\", \"beautiful\", \"gold\", \"one\", \"money\", \"get\", \"bought\", \"old\", \"love\", \"online\", \"comfortable\", \"suited\", \"celtic\", \"classify\", \"enjoy\", \"wish\", \"weekends\", \"friends\", \"days\", \"blue\", \"events\", \"charm\", \"best\", \"passed\", \"honor\", \"memory\", \"dressing\", \"sparkle\", \"going\", \"something\", \"casual\", \"pendant\", \"dainty\", \"away\", \"really\", \"index\", \"awesome\", \"good\", \"pretty\", \"everyday\", \"great\", \"wear\", \"one\", \"ring\", \"wearing\", \"finger\", \"work\", \"fits\", \"comfortable\", \"classy\", \"found\", \"end\", \"outside\", \"knotfinally\", \"green\", \"turn\", \"piece\", \"trinity\", \"still\", \"work\", \"pinky\", \"hand\", \"wearing\", \"wanted\", \"right\", \"looking\", \"gold\", \"finger\", \"receive\", \"daily\", \"dress\", \"fashionable\", \"suitable\", \"dressy\", \"ery\", \"durable\", \"feb\", \"son\", \"forward\", \"wear\", \"ring\", \"look\", \"one\", \"pretty\", \"comfortable\", \"beautiful\", \"love\", \"quality\", \"like\", \"looks\", \"hard\", \"completely\", \"bending\", \"shape\", \"thought\", \"hooks\", \"plastic\", \"easy\", \"material\", \"saved\", \"going\", \"got\", \"silver\", \"money\", \"good\", \"picture\", \"like\", \"quality\", \"look\", \"wear\", \"daily\", \"dress\", \"receive\", \"fashionable\", \"suitable\", \"dressy\", \"ery\", \"durable\", \"feb\", \"june\", \"ring\", \"engagement\", \"right\", \"finger\", \"fits\", \"love\", \"wearing\", \"way\", \"around\", \"find\", \"simple\", \"worth\", \"layed\", \"june\", \"forward\", \"yet\", \"well\", \"son\", \"sparkle\", \"delicate\", \"eye\", \"think\", \"wedding\", \"money\", \"necklace\", \"catch\", \"every\", \"looking\", \"pretty\", \"wearing\", \"beautiful\", \"look\", \"receive\", \"dress\", \"daily\", \"suitable\", \"fashionable\", \"ery\", \"dressy\", \"durable\", \"ring\", \"wear\", \"comfortable\", \"nice\", \"finger\", \"like\", \"one\", \"perfect\", \"feb\", \"durable\", \"ery\", \"dressy\", \"fashionable\", \"suitable\", \"occasions\", \"absolutely\", \"got\", \"engagement\", \"love\", \"wearing\", \"beautiful\", \"receive\", \"daily\", \"dress\", \"son\", \"yet\", \"worth\", \"well\", \"simple\", \"june\", \"forward\", \"layed\", \"saved\", \"material\", \"shape\", \"plastic\", \"easy\", \"thought\", \"ring\", \"wear\", \"look\", \"comfortable\", \"one\", \"looking\", \"would\", \"pretty\", \"finger\", \"good\", \"pinky\", \"want\", \"catch\", \"nice\", \"quality\", \"perfect\", \"dainty\", \"dress\", \"daily\", \"receive\", \"still\", \"item\", \"enough\", \"elegant\", \"many\", \"compliments\", \"perfect\", \"wearing\", \"fashionable\", \"suitable\", \"ery\", \"dressy\", \"durable\", \"feb\", \"well\", \"son\", \"forward\", \"layed\", \"yet\", \"june\", \"simple\", \"worth\", \"material\", \"saved\", \"easy\", \"plastic\", \"shape\", \"wear\", \"ring\", \"look\", \"one\", \"finger\", \"comfortable\", \"looking\", \"beautiful\", \"pretty\", \"sparkle\", \"would\", \"love\", \"looks\", \"pinky\", \"quality\", \"nice\", \"dainty\", \"good\", \"everyday\"], \"Freq\": [25.0, 62.0, 6.0, 6.0, 5.0, 3.0, 3.0, 4.0, 8.0, 3.0, 3.0, 4.0, 3.0, 3.0, 2.0, 3.0, 1.0, 2.0, 1.0, 2.0, 1.0, 2.0, 1.0, 1.0, 1.0, 1.0, 2.0, 3.0, 4.0, 2.0, 2.603070420217307, 1.7636631586604719, 1.663327129859628, 2.1582131454501243, 0.923838880182876, 0.9238380227849408, 0.9238371653870054, 0.9238373797364893, 0.9238367366880379, 0.9238358792901026, 0.9238362008143283, 0.9238359864648444, 0.9238359864648444, 0.9238356649406188, 0.9238358792901026, 0.9238353434163931, 0.9238348075426835, 0.9238343788437159, 0.9238341644942321, 0.9238337357952644, 0.9238333070962969, 0.9238333070962969, 0.9238325568731035, 0.9238322353488777, 0.9238318066499102, 0.9238312707762005, 0.9238310564267168, 0.9238305205530072, 0.9238301990287815, 0.9238303062035235, 3.3669526057248147, 33.469385800715806, 2.3043999221105134, 1.763681378366596, 2.5575685261426697, 2.1092040651213155, 2.603522483278671, 1.3340237326714346, 1.3313977371452244, 1.6488036662342995, 1.3055063558205409, 1.2461518048301723, 1.763310768109081, 1.7632840815983462, 1.763277329589606, 1.2339627142583245, 1.9728529288752343, 1.6701434434449258, 5.209059423006231, 1.9948417563228509, 1.4957061550409922, 1.171232266072621, 2.0834924158388106, 1.8850521650625984, 1.3688612040525958, 1.7420207199786995, 1.945072164025469, 1.9086201051574758, 1.3833782371934098, 1.3686852231263842, 2.1759588484253394, 1.5417257757584462, 4.234471364686402, 0.8075776148300536, 0.8075772199758658, 0.8075762610442667, 0.8075755277436321, 0.8075752457049264, 0.8075746816275152, 0.8075734970649516, 0.8075727073565758, 0.8075716920172356, 0.8075717484249767, 0.8075714099785299, 0.8075703946391898, 0.8075699433772607, 0.8075690408534028, 0.8075689844456616, 0.8075686459992149, 0.8075681947372859, 0.8075666153205344, 0.8075666717282756, 0.8075653179424885, 0.8075647538650773, 0.8075652051270062, 0.8075642461954071, 0.8075639641567015, 0.8075629488173613, 0.8075590566832237, 1.2521678054287666, 1.251225344890059, 1.5417317549790055, 1.542104046070427, 3.0955101727835155, 8.432756937810497, 1.3003129406333167, 1.5422000520458208, 2.1089040333481535, 2.346939060119268, 1.017555938835531, 1.1815386574274882, 0.9147170117205863, 0.9108497533968344, 0.9197051482682225, 0.8903798354046963, 0.884350581179126, 0.8986573893760055, 0.834552191489959, 0.8079315734056096, 0.8079249736998981, 0.8075811121100034, 0.8075802659938865, 0.8075802659938865, 0.8075787993926172, 1.4960150233232177, 1.4959890662895068, 2.5384260220676342, 1.4101750094267174, 1.2837714942679062, 1.4959917550659072, 1.4261295880994418, 0.7836287833639121, 0.7836280594625735, 0.7836278526336197, 0.7836278009263812, 0.7836275940974273, 0.7836275940974273, 0.7836272838539965, 0.7836270253178041, 0.7836269219033272, 0.7836267667816118, 0.7836262497092271, 0.7836261462947502, 0.7836259394657963, 0.7836259911730348, 0.7836256809296039, 0.7836256809296039, 0.7836193726465109, 0.7836185453306954, 0.7836170975280183, 0.7836158048470566, 0.7836150292384796, 0.7836151326529566, 0.7836030848663935, 2.048433959147288, 8.775556438936405, 2.2083840964793517, 1.4960034409018008, 1.4960009589543544, 1.0138041758909633, 2.208407054493232, 1.4960005452964467, 1.4959906175066608, 2.920850275829329, 1.0453323543033801, 0.7836343160384281, 0.7836308516534508, 0.7836302311665891, 0.7836291453145814, 0.7836287833639121, 0.7836278009263812, 0.7836275940974273, 0.8010289699930315, 0.8010281238691949, 0.8010263818495311, 0.8010266307094831, 0.801025485953704, 0.8010235946180692, 0.8010233955301075, 0.8010220019143766, 0.8010229973541844, 0.8010206580706359, 0.8010203096667032, 0.8010210064745686, 0.8010206580706359, 0.8010190653669433, 0.8010179703831547, 0.8010191649109242, 0.8010171740313085, 0.8010169749433469, 0.801017870839174, 0.8010160292755294, 0.8010169749433469, 0.8010157804155774, 0.801016228363491, 0.8010146356597984, 0.8010129931841155, 1.2676817450091749, 1.2604686886174783, 2.2574052397673627, 0.9697373529280219, 1.114649199764349, 1.5292315636434064, 14.50199396541825, 1.5376762777093615, 1.2717301987077203, 1.1307701483645958, 2.182990937843216, 1.1771125499873334, 1.287218744398037, 1.0429460777008757, 0.8409022571644728, 0.8410316643394938, 0.801032702892311, 0.801029915660849, 0.8010289699930315, 0.8010276759212813, 0.8010253366377329, 0.8010243909699154, 0.8010234950740883, 0.6596320885885286, 0.659631455481015, 0.6596309684752353, 0.659629750960786, 0.6596296535596301, 0.6596290204521166, 0.659628241242869, 0.6596274620336215, 0.6596271698301537, 0.6596268776266859, 0.6596268776266859, 0.6596254653099248, 0.659623517286806, 0.6596232250833381, 0.6596213744613754, 0.6595931281261532, 0.6596100759272865, 0.6596334035041338, 0.6596366177422798, 0.6596325268937303, 0.659631455481015, 0.6596052058694896, 0.659625027004723, 0.659631455481015, 0.659634621018583, 0.6596312606787031, 0.6595999462070689, 1.2592742208276322, 0.6596160173977987, 0.6596300918648319, 4.857281882100197, 1.2593043177848173, 1.8590678118642203, 0.6596452377445803, 0.6596391501723341, 0.6596337931087575, 0.6596320885885286, 0.6596290204521166, 0.8638019289138393, 0.4724631025107574, 0.43332241875508615, 0.4097986107633104, 0.38565820009285845, 0.3841476797862568, 0.3571421138804337, 0.44363969487047605, 0.29058912150185706, 0.35145756792428445, 0.8573046920463483, 0.716577061722886, 0.4684670764576097, 1.1390628777615102, 0.47698833373207405, 0.4376357772236577, 0.45024315943937465, 0.44410388158764635, 0.35384240762918256, 0.050498576206680246, 0.050498016730192524, 0.05049786113613973, 0.050499830890637906, 0.05049966536504982, 0.05049928134568547, 0.05049883111608589, 0.050498632485380196, 0.05049782472051035, 0.05049875828482714, 0.050498523238492056, 0.3963062095752834, 0.5795938585586868, 0.05050585933255586, 0.05050550510779736, 0.05050503501512721, 0.05050495225233317, 0.05050410476132219, 0.050503988893410526, 0.05050370749991079, 0.050502783867129294, 0.050502717656894056, 0.9371733358672827, 0.49090414009382205, 0.49090388156473, 0.49090357132981965, 0.49090357132981965, 0.4909027440367253, 0.49090077921562614, 0.49089938315852943, 0.490899072923619, 0.4908949881639656, 0.49090108945053657, 0.9371794371538535, 0.4909042952112772, 0.49090077921562614, 0.4909090521465698, 0.4909049673869164, 0.9371823326796839, 0.4909053810334636, 0.4909129817887681, 1.3834948579289619, 0.044629796359817175, 0.04462921790097385, 0.044629117720950705, 0.04463133137630086, 0.04463085309748068, 0.044630478230297296, 0.044630352197364956, 0.04462929869131509, 0.0446291823532237, 0.04462965093720293, 0.044701702995140424, 0.04465656381567904, 0.044651435244816705, 0.04464876270032826, 0.044642441664029114, 0.04464234148400597, 0.04464042836872525, 0.04463826641919348, 0.04463770735003206, 0.044636802498210094, 0.460308557060808, 0.4603071727220496, 0.46030634211879456, 0.46030523464778783, 0.4603048654907856, 0.46030477320153507, 0.46030421946603167, 0.4603041733214064, 0.4603049116354109, 0.4603094338086883, 0.4603066651311715, 0.4603048193461603, 0.46030588067254175, 0.4603106335689456, 0.4603107720028214, 0.4603055115155395, 0.46030947995331356, 0.4603098491103158, 0.4603082801930563, 0.460314832729846, 0.46031520188684827, 0.4603165400809814, 0.041848154016656834, 0.04184780216388907, 0.04184774159906839, 0.04184958738407958, 0.04184887214238775, 0.04184874236062915, 0.04184854624597171, 0.04184811652414879, 0.041903634276438444, 0.041878009589212804, 0.04185374328439384, 0.04185336835931344, 0.04185271368244228, 0.041852679073973324, 0.04185234740947913, 0.04185197248439873, 0.38952681218043617, 0.3895251628825976, 0.3895206360864023, 0.3895202149890818, 0.38951674093618777, 0.389515547827113, 0.38952253102434453, 0.3895201097147517, 0.3895285316611615, 0.38952575943713497, 0.3895270929119832, 0.3895134072490672, 0.38953249699426284, 0.03541315295436133, 0.035413126635778794, 0.03541301478180304, 0.0354133481505151, 0.03541328016084356, 0.0354132494558306, 0.035413168306867804, 0.035413027941094306, 0.035413023554663886, 0.03541301478180304, 0.03541279984671237, 0.035413177079728644, 0.03541307619182894, 0.03541298407679009, 0.03541301039537262, 0.035412986270005296, 0.035412885382105595, 1.0977940471494243, 0.035436140042986744, 0.03542180299515311, 0.03541875442600996, 0.035418723720997004, 0.035418039437851205, 0.03541789029921687, 0.035417760899519424, 0.03541756351015044, 0.03541750429333975, 0.03541673228158551, 0.03541667525799003, 0.03541653927864695, 0.03541653708543174, 0.0354162059099349, 0.03541617520492194, 0.03541592298517269, 0.35061688327674473, 0.35061548112936863, 0.35061524743813927, 0.3506166495855154, 0.3506180225214878, 0.3506171461793778, 0.35061755513902915, 0.35061393292497417, 0.35061624062586405, 0.3506193078232493, 0.35062520852679047, 0.0318767032599607, 0.0318764294030513, 0.03187607886620727, 0.031875972974868966, 0.03187576119219237, 0.03187558227234489, 0.03187601314054901, 0.031875852477828835, 0.03187583422070154, 0.03187581596357424, 0.03187579040359603, 0.031875545758090304, 0.03187546542673021, 0.03187528285545728, 0.031876024094825386, 0.03187607886620727, 0.031875673557981356, 0.031875545758090304, 0.031875450821028384, 0.35063747731633155, 0.031907021045543896, 0.03188274271766931, 0.03188096082204549, 0.03187977410877143, 0.031879613446051246, 0.03187942722335285, 0.031879387057672806, 0.031879241000654465, 0.03187914606359254, 0.031878959840894144, 0.031878591046922825, 0.031878587395497364, 0.03187854722981732, 0.031878415778500806, 0.031878361007118924, 0.031878361007118924, 0.03187822955580241, 0.03187815652729324], \"Total\": [25.0, 62.0, 6.0, 6.0, 5.0, 3.0, 3.0, 4.0, 8.0, 3.0, 3.0, 4.0, 3.0, 3.0, 2.0, 3.0, 1.0, 2.0, 1.0, 2.0, 1.0, 2.0, 1.0, 1.0, 1.0, 1.0, 2.0, 3.0, 4.0, 2.0, 3.0851940514604057, 2.2453997598357396, 2.232772273679302, 3.026066892815424, 1.4055493769762448, 1.4055492930955762, 1.4055486116805695, 1.4055490844316847, 1.4055486685309955, 1.4055481843299702, 1.4055487005812792, 1.4055483992515856, 1.4055485432300412, 1.4055483399309185, 1.405548706271866, 1.4055481008666293, 1.4055477755550447, 1.4055476010295354, 1.4055473276917922, 1.4055474852146657, 1.4055473230801903, 1.4055474434529507, 1.4055471121763252, 1.40554711295923, 1.4055468517907612, 1.40554664681275, 1.4055466082082906, 1.4055460890561373, 1.40554598246669, 1.4055463184334107, 5.340283810024706, 62.97995505566334, 3.7798897920597057, 2.8450794253150358, 4.358078737282976, 3.5567544504987243, 4.879989211671147, 2.1882899784844416, 2.187942508247443, 2.9456879969869756, 2.1844994218568847, 2.1766086136031375, 3.6701421826017238, 3.6919061550224934, 3.707725060695151, 2.174987508875545, 4.464425298424663, 3.6773450322357855, 25.57958043645809, 5.645412061979253, 3.355908589136416, 2.1666489271865146, 6.389497902330753, 5.343770988504616, 2.9270825172451005, 5.148546122933108, 8.240437081912152, 8.530559259015373, 3.5227320211088924, 5.064037982611495, 2.7673748326746406, 2.034018476131677, 6.4695107069484585, 1.2998561674237572, 1.2998563896597066, 1.2998560023848527, 1.2998558452466855, 1.299855771368169, 1.2998555483442813, 1.2998552106134553, 1.2998550520005057, 1.299854817010154, 1.299855054802223, 1.299854858224566, 1.2998543715564874, 1.2998542343113326, 1.2998538240112152, 1.2998540693645455, 1.2998538856750088, 1.2998540064794342, 1.2998535577266994, 1.2998536700495977, 1.2998533382221336, 1.2998526713829983, 1.2998534105659545, 1.2998528792983888, 1.2998528010945614, 1.299852103597846, 1.2998514996363733, 2.0316702257481647, 2.0316655178599916, 2.5747233369631384, 2.8738202226791527, 8.240437081912152, 62.97995505566334, 2.8719238955362068, 4.491637907670096, 8.530559259015373, 25.57958043645809, 2.838922872239401, 5.148546122933108, 2.1242901392978495, 2.124847278314743, 3.4051396532449143, 3.6271619400048283, 4.464425298424663, 5.645412061979253, 3.7798897920597057, 3.6919061550224934, 3.707725060695151, 3.8832503624664394, 2.3458125980131816, 1.8995276319707675, 2.8521058909728976, 1.990478743088961, 1.9904730440503176, 3.4269454211969252, 1.9930999660754183, 1.996961292546977, 2.408944122181911, 2.3113672681881785, 1.2780848939909524, 1.2780849582957585, 1.2780846253140472, 1.2780847679598577, 1.2780844853683573, 1.278084594172343, 1.2780845222461263, 1.278084400635625, 1.2780844376910963, 1.2780847008337375, 1.2780843373837707, 1.2780843695878434, 1.2780842225801168, 1.2780843255799899, 1.2780841341583442, 1.2780843592529834, 1.278082717149986, 1.278082471389791, 1.2780826836623904, 1.2780820691423602, 1.27808177694962, 1.2780820941452133, 1.2780787988738846, 3.9208501620093723, 25.57958043645809, 5.064037982611495, 3.6701421826017238, 3.8832503624664394, 2.0052123799636243, 8.530559259015373, 4.158212387509988, 5.340283810024706, 62.97995505566334, 6.389497902330753, 4.879989211671147, 2.0122460259968276, 5.148546122933108, 2.8521058909728976, 2.0538775672159932, 2.0122492409293695, 2.012248982646765, 1.2939043393152219, 1.293904112751029, 1.293903467026562, 1.293903999879045, 1.293903567497566, 1.2939030714446156, 1.2939031687093243, 1.293901172825356, 1.2939029926895669, 1.2939007847575807, 1.2939006729523859, 1.2939023299346164, 1.2939024832899215, 1.2939017796106265, 1.2939001612317678, 1.2939021229568648, 1.2938998263682584, 1.2938999033907181, 1.2939014813127143, 1.2938993315035903, 1.2939010068146792, 1.2938992223400696, 1.293901244662063, 1.2939007709466193, 1.2938983265738346, 2.0622162213644675, 2.063325831105385, 3.9443028267838085, 2.1079011390041598, 2.4717903715321468, 3.588452219769015, 62.97995505566334, 5.343770988504616, 4.464425298424663, 3.5227320211088924, 25.57958043645809, 5.148546122933108, 8.240437081912152, 6.4695107069484585, 4.358078737282976, 8.530559259015373, 2.158661476769314, 2.846153562423997, 3.6773450322357855, 2.121510252064869, 4.879989211671147, 2.1337521228617295, 4.158212387509988, 1.1653657263786454, 1.1653658850341955, 1.165366242183788, 1.165365995364051, 1.1653659856719298, 1.165366034824221, 1.165365457426693, 1.1653653662215062, 1.1653660700073833, 1.1653656100428753, 1.1653658487671519, 1.1653659147527538, 1.1653655279399115, 1.165365784088501, 1.1653653148813081, 1.1653633118226057, 1.583837448836258, 1.6116513221035385, 1.8777554533319054, 1.8777548635456964, 1.8995294558559586, 1.8995276319707675, 1.9423928495299785, 1.994794669842204, 2.0052160438284905, 2.005219492064058, 2.3458125980131816, 4.491637907670096, 2.7176149917411685, 2.8450794253150358, 25.57958043645809, 8.530559259015373, 62.97995505566334, 6.389497902330753, 5.645412061979253, 3.865823409413671, 3.5227320211088924, 4.158212387509988, 1.656393334238677, 1.1047514323234147, 1.1208294147099715, 1.1304921561738535, 1.1832681505407012, 1.1842683414206403, 1.2021791046215664, 1.8507562516323546, 1.2463169928542326, 1.5247043460999212, 3.865823409413671, 3.355908589136416, 2.5747233369631384, 6.389497902330753, 3.5567544504987243, 3.4051396532449143, 3.588452219769015, 4.358078737282976, 5.645412061979253, 0.8844449993680175, 0.8844447912382711, 0.8844437233658158, 0.9198236033368509, 0.919825384585427, 0.9198219258894346, 0.9198214776963852, 0.919818216109395, 0.9198172641486153, 0.9841639130714839, 0.9841636157273506, 25.57958043645809, 62.97995505566334, 8.240437081912152, 8.530559259015373, 4.491637907670096, 4.158212387509988, 6.4695107069484585, 4.879989211671147, 3.9208501620093723, 5.343770988504616, 3.707725060695151, 1.458261841928689, 1.0119750777422358, 1.011975021118224, 1.0119749503713227, 1.0119752587354562, 1.0119756447569759, 1.0119760394188333, 1.01197668800833, 1.0119761637136415, 1.0119782030223652, 1.6116513221035385, 3.3842721762865424, 1.7895054814957538, 2.158661476769314, 2.3458125980131816, 2.4717903715321468, 5.343770988504616, 3.9208501620093723, 8.240437081912152, 25.57958043645809, 0.8844447912382711, 0.8844437233658158, 0.8844449993680175, 0.9198236033368509, 0.919825384585427, 0.9198219258894346, 0.9198214776963852, 0.919818216109395, 0.9198172641486153, 0.9841636122931007, 62.97995505566334, 3.9443028267838085, 3.4051396532449143, 5.645412061979253, 3.5227320211088924, 4.879989211671147, 6.389497902330753, 2.133755229293988, 1.2938983265738346, 1.2938992223400696, 0.9841619015330592, 0.9841630151710364, 0.984163162527406, 0.9841636122931007, 0.9841636157273506, 0.9841636996951668, 0.9841638055013171, 0.9841639130714839, 1.583837448836258, 1.7183268184891425, 1.8108984057785817, 1.8117374941246596, 1.8240201286177635, 2.158661476769314, 2.408944122181911, 2.4307179979203624, 2.53641057113677, 3.588452219769015, 4.491637907670096, 6.389497902330753, 6.4695107069484585, 8.240437081912152, 0.8844449993680175, 0.8844437233658158, 0.8844447912382711, 0.919825384585427, 0.9198236033368509, 0.9198214776963852, 0.9198219258894346, 0.919818216109395, 62.97995505566334, 25.57958043645809, 4.158212387509988, 5.064037982611495, 5.645412061979253, 5.343770988504616, 8.530559259015373, 3.8832503624664394, 0.9198172641486153, 0.919818216109395, 0.9198214776963852, 0.9198219258894346, 0.9198236033368509, 0.919825384585427, 1.6322136644492315, 2.424219689571176, 3.3842721762865424, 3.9443028267838085, 4.879989211671147, 6.389497902330753, 6.4695107069484585, 0.8844449993680175, 0.8844447912382711, 0.8844437233658158, 0.9841639130714839, 0.9841636996951668, 0.9841630151710364, 0.9841638055013171, 0.9841619015330592, 0.9841636122931007, 0.9841636157273506, 0.984163162527406, 1.0119782030223652, 1.0119761637136415, 1.0119749503713227, 1.0119760394188333, 1.01197668800833, 1.0119752587354562, 62.97995505566334, 25.57958043645809, 8.240437081912152, 4.158212387509988, 8.530559259015373, 3.588452219769015, 5.340283810024706, 4.491637907670096, 5.645412061979253, 2.3458125980131816, 3.355908589136416, 3.6919061550224934, 2.4307179979203624, 5.064037982611495, 3.9208501620093723, 3.8832503624664394, 1.8995276319707675, 0.8844437233658158, 0.8844447912382711, 0.8844449993680175, 1.5247043460999212, 1.596832848413525, 1.5968364600824092, 1.6186089801517163, 1.724304409518291, 2.3113672681881785, 3.8832503624664394, 6.389497902330753, 0.9198236033368509, 0.919825384585427, 0.9198214776963852, 0.9198219258894346, 0.919818216109395, 0.9198172641486153, 0.9841638055013171, 0.9841639130714839, 0.9841636157273506, 0.984163162527406, 0.9841636996951668, 0.9841636122931007, 0.9841619015330592, 0.9841630151710364, 1.0119761637136415, 1.0119782030223652, 1.01197668800833, 1.0119760394188333, 1.0119749503713227, 25.57958043645809, 62.97995505566334, 8.240437081912152, 8.530559259015373, 5.645412061979253, 4.158212387509988, 3.588452219769015, 6.4695107069484585, 4.491637907670096, 1.583837448836258, 5.340283810024706, 4.879989211671147, 3.707725060695151, 3.355908589136416, 3.9208501620093723, 5.064037982611495, 1.8995276319707675, 2.3458125980131816, 2.7176149917411685], \"Category\": [\"Default\", \"Default\", \"Default\", \"Default\", \"Default\", \"Default\", \"Default\", \"Default\", \"Default\", \"Default\", \"Default\", \"Default\", \"Default\", \"Default\", \"Default\", \"Default\", \"Default\", \"Default\", \"Default\", \"Default\", \"Default\", \"Default\", \"Default\", \"Default\", \"Default\", \"Default\", \"Default\", \"Default\", \"Default\", \"Default\", \"Topic1\", \"Topic1\", \"Topic1\", \"Topic1\", \"Topic1\", \"Topic1\", \"Topic1\", \"Topic1\", \"Topic1\", \"Topic1\", \"Topic1\", \"Topic1\", \"Topic1\", \"Topic1\", \"Topic1\", \"Topic1\", \"Topic1\", \"Topic1\", \"Topic1\", \"Topic1\", \"Topic1\", \"Topic1\", \"Topic1\", \"Topic1\", \"Topic1\", \"Topic1\", \"Topic1\", \"Topic1\", \"Topic1\", \"Topic1\", \"Topic1\", \"Topic1\", \"Topic1\", \"Topic1\", \"Topic1\", \"Topic1\", \"Topic1\", \"Topic1\", \"Topic1\", \"Topic1\", \"Topic1\", \"Topic1\", \"Topic1\", \"Topic1\", \"Topic1\", \"Topic1\", \"Topic1\", \"Topic1\", \"Topic1\", \"Topic1\", \"Topic1\", \"Topic1\", \"Topic1\", \"Topic1\", \"Topic1\", \"Topic1\", \"Topic1\", \"Topic1\", \"Topic1\", \"Topic1\", \"Topic2\", \"Topic2\", \"Topic2\", \"Topic2\", \"Topic2\", \"Topic2\", \"Topic2\", \"Topic2\", \"Topic2\", \"Topic2\", \"Topic2\", \"Topic2\", \"Topic2\", \"Topic2\", \"Topic2\", \"Topic2\", \"Topic2\", \"Topic2\", \"Topic2\", \"Topic2\", \"Topic2\", \"Topic2\", \"Topic2\", \"Topic2\", \"Topic2\", \"Topic2\", \"Topic2\", \"Topic2\", \"Topic2\", \"Topic2\", \"Topic2\", \"Topic2\", \"Topic2\", \"Topic2\", \"Topic2\", \"Topic2\", \"Topic2\", \"Topic2\", \"Topic2\", \"Topic2\", \"Topic2\", \"Topic2\", \"Topic2\", \"Topic2\", \"Topic2\", \"Topic2\", \"Topic2\", \"Topic2\", \"Topic2\", \"Topic2\", \"Topic2\", \"Topic2\", \"Topic2\", \"Topic2\", \"Topic3\", \"Topic3\", \"Topic3\", \"Topic3\", \"Topic3\", \"Topic3\", \"Topic3\", \"Topic3\", \"Topic3\", \"Topic3\", \"Topic3\", \"Topic3\", \"Topic3\", \"Topic3\", \"Topic3\", \"Topic3\", \"Topic3\", \"Topic3\", \"Topic3\", \"Topic3\", \"Topic3\", \"Topic3\", \"Topic3\", \"Topic3\", \"Topic3\", \"Topic3\", \"Topic3\", \"Topic3\", \"Topic3\", \"Topic3\", \"Topic3\", \"Topic3\", \"Topic3\", \"Topic3\", \"Topic3\", \"Topic3\", \"Topic3\", \"Topic3\", \"Topic3\", \"Topic3\", \"Topic3\", \"Topic3\", \"Topic3\", \"Topic3\", \"Topic3\", \"Topic3\", \"Topic3\", \"Topic3\", \"Topic4\", \"Topic4\", \"Topic4\", \"Topic4\", \"Topic4\", \"Topic4\", \"Topic4\", \"Topic4\", \"Topic4\", \"Topic4\", \"Topic4\", \"Topic4\", \"Topic4\", \"Topic4\", \"Topic4\", \"Topic4\", \"Topic4\", \"Topic4\", \"Topic4\", \"Topic4\", \"Topic4\", \"Topic4\", \"Topic4\", \"Topic4\", \"Topic4\", \"Topic4\", \"Topic4\", \"Topic4\", \"Topic4\", \"Topic4\", \"Topic4\", \"Topic4\", \"Topic4\", \"Topic4\", \"Topic4\", \"Topic4\", \"Topic4\", \"Topic4\", \"Topic4\", \"Topic4\", \"Topic4\", \"Topic4\", \"Topic4\", \"Topic4\", \"Topic4\", \"Topic4\", \"Topic4\", \"Topic4\", \"Topic5\", \"Topic5\", \"Topic5\", \"Topic5\", \"Topic5\", \"Topic5\", \"Topic5\", \"Topic5\", \"Topic5\", \"Topic5\", \"Topic5\", \"Topic5\", \"Topic5\", \"Topic5\", \"Topic5\", \"Topic5\", \"Topic5\", \"Topic5\", \"Topic5\", \"Topic5\", \"Topic5\", \"Topic5\", \"Topic5\", \"Topic5\", \"Topic5\", \"Topic5\", \"Topic5\", \"Topic5\", \"Topic5\", \"Topic5\", \"Topic5\", \"Topic5\", \"Topic5\", \"Topic5\", \"Topic5\", \"Topic5\", \"Topic5\", \"Topic5\", \"Topic6\", \"Topic6\", \"Topic6\", \"Topic6\", \"Topic6\", \"Topic6\", \"Topic6\", \"Topic6\", \"Topic6\", \"Topic6\", \"Topic6\", \"Topic6\", \"Topic6\", \"Topic6\", \"Topic6\", \"Topic6\", \"Topic6\", \"Topic6\", \"Topic6\", \"Topic6\", \"Topic6\", \"Topic6\", \"Topic6\", \"Topic6\", \"Topic6\", \"Topic6\", \"Topic6\", \"Topic6\", \"Topic6\", \"Topic6\", \"Topic6\", \"Topic6\", \"Topic6\", \"Topic6\", \"Topic6\", \"Topic6\", \"Topic6\", \"Topic6\", \"Topic6\", \"Topic6\", \"Topic6\", \"Topic7\", \"Topic7\", \"Topic7\", \"Topic7\", \"Topic7\", \"Topic7\", \"Topic7\", \"Topic7\", \"Topic7\", \"Topic7\", \"Topic7\", \"Topic7\", \"Topic7\", \"Topic7\", \"Topic7\", \"Topic7\", \"Topic7\", \"Topic7\", \"Topic7\", \"Topic7\", \"Topic7\", \"Topic7\", \"Topic7\", \"Topic7\", \"Topic7\", \"Topic7\", \"Topic7\", \"Topic7\", \"Topic7\", \"Topic7\", \"Topic7\", \"Topic7\", \"Topic7\", \"Topic7\", \"Topic7\", \"Topic7\", \"Topic7\", \"Topic7\", \"Topic7\", \"Topic7\", \"Topic8\", \"Topic8\", \"Topic8\", \"Topic8\", \"Topic8\", \"Topic8\", \"Topic8\", \"Topic8\", \"Topic8\", \"Topic8\", \"Topic8\", \"Topic8\", \"Topic8\", \"Topic8\", \"Topic8\", \"Topic8\", \"Topic8\", \"Topic8\", \"Topic8\", \"Topic8\", \"Topic8\", \"Topic8\", \"Topic8\", \"Topic8\", \"Topic8\", \"Topic8\", \"Topic8\", \"Topic8\", \"Topic8\", \"Topic8\", \"Topic8\", \"Topic8\", \"Topic8\", \"Topic8\", \"Topic8\", \"Topic8\", \"Topic8\", \"Topic8\", \"Topic9\", \"Topic9\", \"Topic9\", \"Topic9\", \"Topic9\", \"Topic9\", \"Topic9\", \"Topic9\", \"Topic9\", \"Topic9\", \"Topic9\", \"Topic9\", \"Topic9\", \"Topic9\", \"Topic9\", \"Topic9\", \"Topic9\", \"Topic9\", \"Topic9\", \"Topic9\", \"Topic9\", \"Topic9\", \"Topic9\", \"Topic9\", \"Topic9\", \"Topic9\", \"Topic9\", \"Topic9\", \"Topic9\", \"Topic9\", \"Topic9\", \"Topic9\", \"Topic9\", \"Topic9\", \"Topic9\", \"Topic9\", \"Topic9\", \"Topic9\", \"Topic9\", \"Topic9\", \"Topic9\", \"Topic9\", \"Topic9\", \"Topic9\", \"Topic9\", \"Topic9\", \"Topic9\", \"Topic10\", \"Topic10\", \"Topic10\", \"Topic10\", \"Topic10\", \"Topic10\", \"Topic10\", \"Topic10\", \"Topic10\", \"Topic10\", \"Topic10\", \"Topic10\", \"Topic10\", \"Topic10\", \"Topic10\", \"Topic10\", \"Topic10\", \"Topic10\", \"Topic10\", \"Topic10\", \"Topic10\", \"Topic10\", \"Topic10\", \"Topic10\", \"Topic10\", \"Topic10\", \"Topic10\", \"Topic10\", \"Topic10\", \"Topic10\", \"Topic10\", \"Topic10\", \"Topic10\", \"Topic10\", \"Topic10\", \"Topic10\", \"Topic10\", \"Topic10\", \"Topic10\", \"Topic10\", \"Topic10\", \"Topic10\", \"Topic10\", \"Topic10\", \"Topic10\", \"Topic10\", \"Topic10\", \"Topic10\", \"Topic10\"], \"logprob\": [30.0, 29.0, 28.0, 27.0, 26.0, 25.0, 24.0, 23.0, 22.0, 21.0, 20.0, 19.0, 18.0, 17.0, 16.0, 15.0, 14.0, 13.0, 12.0, 11.0, 10.0, 9.0, 8.0, 7.0, 6.0, 5.0, 4.0, 3.0, 2.0, 1.0, -4.4821, -4.8714, -4.9299, -4.6695, -5.518, -5.518, -5.518, -5.518, -5.518, -5.518, -5.518, -5.518, -5.518, -5.518, -5.518, -5.518, -5.518, -5.518, -5.518, -5.518, -5.518, -5.518, -5.518, -5.518, -5.518, -5.518, -5.518, -5.518, -5.518, -5.518, -4.2247, -1.9281, -4.6039, -4.8714, -4.4997, -4.6924, -4.4819, -5.1506, -5.1525, -4.9387, -5.1722, -5.2187, -4.8716, -4.8716, -4.8716, -5.2285, -4.7593, -4.9258, -3.7884, -4.7482, -5.0362, -5.2807, -4.7047, -4.8048, -5.1248, -4.8837, -4.7735, -4.7924, -5.1142, -5.1249, -4.0194, -4.364, -3.3536, -5.0106, -5.0106, -5.0106, -5.0106, -5.0106, -5.0106, -5.0106, -5.0106, -5.0106, -5.0106, -5.0106, -5.0106, -5.0106, -5.0106, -5.0106, -5.0106, -5.0106, -5.0106, -5.0106, -5.0106, -5.0106, -5.0106, -5.0106, -5.0106, -5.0106, -5.0106, -4.572, -4.5728, -4.364, -4.3638, -3.667, -2.6648, -4.5343, -4.3637, -4.0507, -3.9438, -4.7795, -4.6301, -4.886, -4.8903, -4.8806, -4.913, -4.9198, -4.9038, -4.9778, -5.0102, -5.0102, -5.0106, -5.0106, -5.0106, -5.0106, -4.3071, -4.3071, -3.7784, -4.3662, -4.4601, -4.3071, -4.3549, -4.9537, -4.9537, -4.9537, -4.9537, -4.9537, -4.9537, -4.9537, -4.9537, -4.9537, -4.9537, -4.9537, -4.9537, -4.9537, -4.9537, -4.9537, -4.9537, -4.9537, -4.9537, -4.9537, -4.9537, -4.9537, -4.9537, -4.9537, -3.9928, -2.5379, -3.9176, -4.3071, -4.3071, -4.6962, -3.9176, -4.3071, -4.3071, -3.638, -4.6656, -4.9537, -4.9537, -4.9537, -4.9537, -4.9537, -4.9537, -4.9537, -4.8936, -4.8936, -4.8936, -4.8936, -4.8936, -4.8936, -4.8936, -4.8936, -4.8936, -4.8936, -4.8936, -4.8936, -4.8936, -4.8936, -4.8936, -4.8936, -4.8936, -4.8936, -4.8936, -4.8936, -4.8936, -4.8936, -4.8936, -4.8936, -4.8936, -4.4346, -4.4403, -3.8575, -4.7025, -4.5632, -4.247, -1.9975, -4.2415, -4.4314, -4.5489, -3.8911, -4.5087, -4.4193, -4.6297, -4.845, -4.8449, -4.8936, -4.8936, -4.8936, -4.8936, -4.8936, -4.8936, -4.8936, -4.3729, -4.3729, -4.3729, -4.3729, -4.3729, -4.3729, -4.3729, -4.3729, -4.3729, -4.3729, -4.3729, -4.3729, -4.3729, -4.3729, -4.3729, -4.373, -4.3729, -4.3729, -4.3729, -4.3729, -4.3729, -4.373, -4.3729, -4.3729, -4.3729, -4.3729, -4.373, -3.7263, -4.3729, -4.3729, -2.3764, -3.7263, -3.3368, -4.3729, -4.3729, -4.3729, -4.3729, -4.3729, -3.4941, -4.0975, -4.184, -4.2398, -4.3005, -4.3044, -4.3773, -4.1604, -4.5835, -4.3934, -3.5017, -3.681, -4.106, -3.2175, -4.088, -4.1741, -4.1457, -4.1594, -4.3866, -6.3335, -6.3335, -6.3335, -6.3335, -6.3335, -6.3335, -6.3335, -6.3335, -6.3335, -6.3335, -6.3335, -4.2733, -3.8931, -6.3334, -6.3334, -6.3334, -6.3334, -6.3334, -6.3334, -6.3334, -6.3334, -6.3334, -3.3885, -4.0351, -4.0351, -4.0351, -4.0351, -4.0351, -4.0351, -4.0351, -4.0351, -4.0351, -4.0351, -3.3885, -4.0351, -4.0351, -4.0351, -4.0351, -3.3885, -4.0351, -4.0351, -2.999, -6.4329, -6.4329, -6.4329, -6.4329, -6.4329, -6.4329, -6.4329, -6.4329, -6.4329, -6.4329, -6.4313, -6.4323, -6.4324, -6.4325, -6.4326, -6.4326, -6.4327, -6.4327, -6.4327, -6.4328, -3.9856, -3.9856, -3.9856, -3.9856, -3.9856, -3.9856, -3.9857, -3.9857, -3.9856, -3.9856, -3.9856, -3.9856, -3.9856, -3.9856, -3.9856, -3.9856, -3.9856, -3.9856, -3.9856, -3.9856, -3.9856, -3.9856, -6.3835, -6.3835, -6.3835, -6.3835, -6.3835, -6.3835, -6.3835, -6.3835, -6.3822, -6.3828, -6.3834, -6.3834, -6.3834, -6.3834, -6.3834, -6.3834, -3.8788, -3.8788, -3.8788, -3.8788, -3.8788, -3.8788, -3.8788, -3.8788, -3.8788, -3.8788, -3.8788, -3.8788, -3.8788, -6.2766, -6.2766, -6.2766, -6.2766, -6.2766, -6.2766, -6.2766, -6.2766, -6.2766, -6.2766, -6.2766, -6.2766, -6.2766, -6.2766, -6.2766, -6.2766, -6.2766, -2.8427, -6.276, -6.2764, -6.2765, -6.2765, -6.2765, -6.2765, -6.2765, -6.2765, -6.2765, -6.2765, -6.2765, -6.2765, -6.2765, -6.2765, -6.2765, -6.2766, -3.8006, -3.8006, -3.8006, -3.8006, -3.8006, -3.8006, -3.8006, -3.8006, -3.8006, -3.8006, -3.8006, -6.1984, -6.1985, -6.1985, -6.1985, -6.1985, -6.1985, -6.1985, -6.1985, -6.1985, -6.1985, -6.1985, -6.1985, -6.1985, -6.1985, -6.1985, -6.1985, -6.1985, -6.1985, -6.1985, -3.8006, -6.1975, -6.1983, -6.1983, -6.1983, -6.1984, -6.1984, -6.1984, -6.1984, -6.1984, -6.1984, -6.1984, -6.1984, -6.1984, -6.1984, -6.1984, -6.1984, -6.1984, -6.1984], \"loglift\": [30.0, 29.0, 28.0, 27.0, 26.0, 25.0, 24.0, 23.0, 22.0, 21.0, 20.0, 19.0, 18.0, 17.0, 16.0, 15.0, 14.0, 13.0, 12.0, 11.0, 10.0, 9.0, 8.0, 7.0, 6.0, 5.0, 4.0, 3.0, 2.0, 1.0, 0.9939, 0.9223, 0.8694, 0.8258, 0.7442, 0.7442, 0.7442, 0.7442, 0.7442, 0.7442, 0.7442, 0.7442, 0.7442, 0.7442, 0.7442, 0.7442, 0.7442, 0.7442, 0.7442, 0.7442, 0.7442, 0.7442, 0.7442, 0.7442, 0.7442, 0.7442, 0.7442, 0.7442, 0.7442, 0.7442, 0.7026, 0.5316, 0.669, 0.6856, 0.6309, 0.6413, 0.5356, 0.6689, 0.6671, 0.5835, 0.649, 0.6061, 0.4308, 0.4249, 0.4206, 0.597, 0.3472, 0.3745, -0.4276, 0.1236, 0.3557, 0.5487, 0.0432, 0.1219, 0.4038, 0.0802, -0.2799, -0.3334, 0.2291, -0.1445, 1.5653, 1.5286, 1.3818, 1.3297, 1.3297, 1.3297, 1.3297, 1.3297, 1.3297, 1.3297, 1.3297, 1.3297, 1.3297, 1.3297, 1.3297, 1.3297, 1.3297, 1.3297, 1.3297, 1.3297, 1.3297, 1.3297, 1.3297, 1.3297, 1.3297, 1.3297, 1.3297, 1.3297, 1.3297, 1.3217, 1.321, 1.2928, 1.1832, 0.8266, -0.205, 1.0133, 0.7367, 0.4082, -0.583, 0.7797, 0.3338, 0.9631, 0.9586, 0.4967, 0.4011, 0.1866, -0.032, 0.2951, 0.2863, 0.282, 0.2353, 0.7393, 0.9504, 0.5439, 1.6071, 1.6071, 1.5926, 1.5467, 1.4509, 1.4163, 1.4098, 1.4035, 1.4035, 1.4035, 1.4035, 1.4035, 1.4035, 1.4035, 1.4035, 1.4035, 1.4035, 1.4035, 1.4035, 1.4035, 1.4035, 1.4035, 1.4035, 1.4035, 1.4035, 1.4035, 1.4035, 1.4035, 1.4035, 1.4035, 1.2435, 0.8229, 1.0628, 0.9953, 0.9388, 1.2107, 0.5413, 0.8704, 0.6202, -1.1782, 0.0824, 0.0637, 0.9496, 0.0102, 0.6008, 0.9291, 0.9496, 0.9496, 1.4513, 1.4513, 1.4513, 1.4513, 1.4513, 1.4513, 1.4513, 1.4513, 1.4513, 1.4513, 1.4513, 1.4513, 1.4513, 1.4513, 1.4513, 1.4513, 1.4513, 1.4513, 1.4513, 1.4513, 1.4513, 1.4513, 1.4513, 1.4513, 1.4513, 1.4442, 1.438, 1.3728, 1.1544, 1.1344, 1.0779, 0.4623, 0.6852, 0.6751, 0.7945, -0.5303, 0.4552, 0.0743, 0.1058, 0.2855, -0.3859, 0.9395, 0.663, 0.4068, 0.9569, 0.1238, 0.9511, 0.2839, 2.0766, 2.0766, 2.0766, 2.0766, 2.0766, 2.0766, 2.0766, 2.0766, 2.0766, 2.0766, 2.0766, 2.0766, 2.0766, 2.0766, 2.0766, 2.0766, 1.7698, 1.7524, 1.5996, 1.5996, 1.5881, 1.588, 1.5657, 1.5391, 1.5339, 1.5339, 1.377, 1.3741, 1.2299, 1.1841, 0.9844, 0.7327, -0.877, 0.375, 0.4988, 0.8775, 0.9704, 0.8046, 2.6038, 2.4055, 2.3046, 2.2402, 2.1338, 2.129, 2.0411, 1.8266, 1.7989, 1.7874, 1.7488, 1.7109, 1.5509, 1.5304, 1.2458, 1.2032, 1.1792, 0.9712, 0.4851, 0.3919, 0.3919, 0.3919, 0.3527, 0.3527, 0.3527, 0.3527, 0.3527, 0.3526, 0.2851, 0.285, -0.9125, -1.4334, -1.8398, -1.8744, -1.233, -1.1559, -1.5979, -1.316, -1.0971, -1.4068, -1.0413, 2.8369, 2.5556, 2.5556, 2.5556, 2.5556, 2.5556, 2.5556, 2.5556, 2.5556, 2.5556, 2.0902, 1.995, 1.9856, 1.798, 1.7149, 1.6626, 1.5382, 1.2012, 0.4585, 0.3618, 0.2925, 0.2924, 0.2924, 0.2533, 0.2533, 0.2533, 0.2532, 0.2532, 0.2532, 0.1856, -3.9715, -1.202, -1.0551, -1.5608, -1.0893, -1.4152, -1.6848, -0.588, -0.0878, -0.0878, 2.6329, 2.6329, 2.6329, 2.6329, 2.6329, 2.6329, 2.6329, 2.6329, 2.1571, 2.0756, 2.0231, 2.0227, 2.0159, 1.8475, 1.7378, 1.7288, 1.6862, 1.3392, 1.1147, 0.7623, 0.7499, 0.5079, 0.3419, 0.3419, 0.3419, 0.3027, 0.3027, 0.3027, 0.3027, 0.3027, -3.9224, -3.022, -1.2059, -1.4029, -1.5116, -1.4567, -1.9245, -1.1375, 2.8074, 2.8074, 2.8074, 2.8074, 2.8074, 2.8073, 2.2339, 1.8383, 1.5047, 1.3515, 1.1387, 0.8691, 0.8567, 0.4488, 0.4488, 0.4487, 0.3419, 0.3419, 0.3419, 0.3419, 0.3419, 0.3419, 0.3419, 0.3419, 0.314, 0.314, 0.314, 0.314, 0.314, 0.314, -0.3829, -2.9152, -1.7829, -1.099, -1.8175, -0.9516, -1.3492, -1.1761, -1.4048, -0.5266, -0.8847, -0.9801, -0.5621, -1.2961, -1.0403, -1.0306, -0.3156, 2.9248, 2.9248, 2.9248, 2.3802, 2.3339, 2.3339, 2.3204, 2.2571, 1.9641, 1.4453, 0.9473, 0.4877, 0.4877, 0.4877, 0.4877, 0.4877, 0.4877, 0.4201, 0.4201, 0.4201, 0.4201, 0.4201, 0.4201, 0.4201, 0.4201, 0.3922, 0.3922, 0.3922, 0.3922, 0.3922, -0.4398, -3.7377, -1.7047, -1.7394, -1.3266, -1.0208, -0.8735, -1.4629, -1.098, -0.0556, -1.2711, -1.1809, -0.9062, -0.8065, -0.9621, -1.218, -0.2374, -0.4484, -0.5956]}, \"token.table\": {\"Topic\": [2, 4, 1, 3, 4, 2, 2, 3, 2, 4, 2, 5, 1, 5, 1, 2, 2, 4, 3, 5, 5, 1, 3, 4, 3, 4, 1, 3, 5, 2, 3, 5, 5, 3, 2, 5, 6, 1, 2, 2, 2, 2, 3, 1, 3, 4, 5, 2, 3, 3, 2, 5, 4, 5, 4, 4, 2, 3, 2, 3, 1, 5, 3, 2, 2, 1, 4, 5, 3, 5, 1, 3, 1, 3, 5, 1, 2, 1, 2, 3, 1, 4, 1, 4, 1, 4, 1, 2, 3, 4, 5, 2, 2, 1, 4, 1, 4, 5, 2, 4, 3, 5, 1, 1, 3, 4, 4, 3, 2, 4, 5, 1, 4, 2, 5, 1, 1, 2, 7, 1, 5, 4, 2, 2, 7, 1, 1, 2, 1, 1, 5, 2, 1, 5, 3, 1, 3, 3, 3, 4, 3, 1, 2, 4, 7, 1, 2, 1, 2, 3, 4, 1, 2, 4, 5, 1, 2, 4, 3, 1, 2, 3, 4, 1, 3, 4, 1, 2, 3, 1, 1, 2, 4, 1, 1, 4, 4, 5, 4, 4, 1, 2, 3, 1, 4, 1, 2, 3, 1, 3, 2, 1, 4, 1, 2, 3, 4, 5, 1, 4, 1, 3, 3, 5, 2, 5, 1, 2, 3, 2, 4, 2, 3, 3, 2, 1, 3, 6, 3, 4, 3, 1, 2, 1, 2, 5, 1, 2, 4, 3, 1, 4, 1, 4, 2, 3, 4, 3, 4, 4, 1, 5, 3, 3, 1, 3, 1, 2, 1, 2, 4, 1, 2, 3, 4, 5, 6, 9, 1, 2, 3, 4, 4, 1, 4, 2, 2, 3, 1, 2, 1, 2, 3, 1, 2, 1, 2, 3, 5, 5, 2, 1, 1, 3, 1, 2, 3, 5, 1, 4, 1, 4, 1, 1, 1, 1, 4, 4, 1, 3, 3, 2, 1, 2, 3, 1, 4, 1, 4, 1, 2, 3, 4, 5, 7, 1, 3, 5, 6, 1, 1, 5, 5, 1, 1, 4, 5, 6, 1, 3, 3], \"Freq\": [0.4125038684826834, 0.4125038684826834, 0.678958532623183, 0.3394792663115915, 0.7728546613648687, 0.4922070051439014, 0.7693178790382529, 0.782424370767358, 0.7693164529671415, 0.7728582528180095, 0.4922058645771358, 0.5148289133385044, 0.4986985235070987, 0.4986985235070987, 0.7114666177219472, 0.7227065796746514, 0.6182847793580237, 0.15457119483950593, 0.7824225476296878, 0.8580995782875304, 0.8580994639681455, 0.5438706410380051, 0.27193532051900254, 0.27193532051900254, 0.8754151675261269, 0.772857652564005, 0.7114655780726094, 0.532550877334295, 0.532550877334295, 0.41140107608351323, 0.41140107608351323, 0.8580996001703421, 0.8580996268750337, 0.7824207165822418, 0.7693178327533206, 0.8580993371887047, 0.6037213379994837, 0.7114659204525888, 0.7693186493070515, 0.7693179558080491, 0.7693171656318787, 0.49695712506358136, 0.49695712506358136, 0.24048795655645136, 0.24048795655645136, 0.24048795655645136, 0.24048795655645136, 0.7693170307898436, 0.4326443546048285, 0.7824208670038378, 0.5264466718825753, 0.5264466718825753, 0.7728547966926653, 0.8580999821904142, 0.7728567845233631, 0.4846544277809338, 0.5819614692851391, 0.7824209873994064, 0.49695639487151, 0.49695639487151, 0.7114659654526868, 0.8581014949200858, 0.7824206000620129, 0.7693161210858382, 0.6178144395975533, 0.2535302292738516, 0.5070604585477032, 0.8580995189306241, 0.6262382059765796, 0.8580998026561026, 0.3942579373306347, 0.3942579373306347, 0.3679697098518369, 0.3679697098518369, 0.3679697098518369, 0.3479688785360896, 0.6959377570721792, 0.7114661817707114, 0.4987002922942958, 0.4987002922942958, 0.5522120936265653, 0.7728548641116193, 0.7114659366759222, 0.7728559852075746, 0.711465620531603, 0.7728577177683584, 0.3542699767603518, 0.1771349883801759, 0.1771349883801759, 0.1771349883801759, 0.1771349883801759, 0.7693175183227786, 0.7693182918519047, 0.459772755438487, 0.459772755438487, 0.2838705851049147, 0.2838705851049147, 0.2838705851049147, 0.7693172371298518, 0.7728565527275975, 0.7824211045844249, 0.8580999150327955, 0.7114663886861508, 0.3513513863771726, 0.3513513863771726, 0.3513513863771726, 0.7728573569770221, 0.7824208895797601, 0.7693160773610407, 0.7728573109708554, 0.6204816055961739, 0.6883767322364479, 0.22945891074548264, 0.42629151230876833, 0.42629151230876833, 0.6609239223192515, 0.29548450831081474, 0.29548450831081474, 0.29548450831081474, 0.7029680725973194, 0.3514840362986597, 0.7728561902905255, 0.7693157551518388, 0.7767824881561763, 0.6857479029125562, 0.71146724236665, 0.470622058444181, 0.470622058444181, 0.7114657261538019, 0.7114667244782831, 0.8580996745001888, 0.7693166615277885, 0.49869938108550843, 0.49869938108550843, 0.6262396223834658, 0.7114662240185323, 0.5023917002239028, 0.4868839389270355, 0.7824219925540852, 0.7728566518869913, 0.782422353447338, 0.37426753584731626, 0.18713376792365813, 0.37426753584731626, 0.18713376792365813, 0.7114669600383758, 0.7693159843592634, 0.24270557254663366, 0.3640583588199505, 0.12135278627331683, 0.12135278627331683, 0.348198641877066, 0.348198641877066, 0.5573433551607211, 0.27867167758036054, 0.5394143220600681, 0.26970716103003406, 0.26970716103003406, 0.782420960458565, 0.2756976436510218, 0.2756976436510218, 0.2756976436510218, 0.2756976436510218, 0.614755457414762, 0.20491848580492067, 0.20491848580492067, 0.35061811805973464, 0.35061811805973464, 0.35061811805973464, 0.7114668562815482, 0.4569778273593231, 0.7693172736255088, 0.7728554657110372, 0.7114671262591878, 0.5799440020450707, 0.7728568513054626, 0.772855769978403, 0.8581000199940304, 0.4632500328382268, 0.7728571569602554, 0.5291159557618151, 0.26455797788090757, 0.41511963303418015, 0.4594303237386392, 0.4594303237386392, 0.19747087273707725, 0.19747087273707725, 0.3949417454741545, 0.7114672963207015, 0.612664886822545, 0.7693158866814814, 0.47136232267871364, 0.47136232267871364, 0.23445121700389512, 0.23445121700389512, 0.23445121700389512, 0.11722560850194756, 0.11722560850194756, 0.46865799887703335, 0.46865799887703335, 0.7114669795793838, 0.7824208229718753, 0.7824223687537034, 0.8580998631114151, 0.5264461664003962, 0.5264461664003962, 0.25751623167681925, 0.25751623167681925, 0.25751623167681925, 0.7693174312257834, 0.4045650519223226, 0.5403196661462074, 0.7824210504541417, 0.7824209801733372, 0.7693165468418789, 0.29798189475039677, 0.29798189475039677, 0.29798189475039677, 0.7824209414516551, 0.7728563684659054, 0.7824219720535096, 0.47074548881092776, 0.47074548881092776, 0.22263593382992003, 0.44527186765984006, 0.22263593382992003, 0.4479859928904464, 0.2239929964452232, 0.2239929964452232, 0.7824209187669436, 0.7114667240819884, 0.7728551823870115, 0.46154224039357516, 0.46154224039357516, 0.7693165451836883, 0.5100934535521838, 0.2550467267760919, 0.7824221225040328, 0.4849152041575684, 0.7728554186702108, 0.5013047283102595, 0.5013047283102595, 0.5017309803928622, 0.7824206394282593, 0.5449380161566988, 0.2724690080783494, 0.7114666153876247, 0.7693162530819454, 0.2936737114576355, 0.2936737114576355, 0.2936737114576355, 0.5239762392785726, 0.12702454285541154, 0.04763420357077933, 0.23817101785389663, 0.031756135713852884, 0.015878067856926442, 0.015878067856926442, 0.38845917900811333, 0.19422958950405667, 0.19422958950405667, 0.19422958950405667, 0.7728551223751696, 0.7114665356519582, 0.7728558615784641, 0.7693166859204618, 0.7693173647475593, 0.7824207576756583, 0.7114660729808177, 0.7693169495614866, 0.3522462726192978, 0.3522462726192978, 0.3522462726192978, 0.3416371059266125, 0.3416371059266125, 0.4577707780531122, 0.7693175611394312, 0.5325507100648231, 0.5325507100648231, 0.6313779237476428, 0.7693171284133965, 0.7114664770282558, 0.45705040065289787, 0.5007608328374625, 0.7114661030079898, 0.4969563310845847, 0.4969563310845847, 0.8580997169939804, 0.7114660001012384, 0.7728553605734698, 0.4744055503819464, 0.4744055503819464, 0.711466556791097, 0.8907099910558057, 0.5519563420434425, 0.9723861611168094, 0.7728565098190139, 0.7728567927727555, 0.8023640901420002, 0.5023931386506738, 0.7824208039074744, 0.9832752374027725, 0.5417255791508099, 0.27086278957540494, 0.27086278957540494, 0.5623103950062007, 0.28115519750310036, 0.4686573165802516, 0.4686573165802516, 0.1954684132689524, 0.07818736530758096, 0.3518431438841143, 0.07818736530758096, 0.1954684132689524, 0.03909368265379048, 0.3130136405977131, 0.15650682029885654, 0.15650682029885654, 0.15650682029885654, 0.8957474183895497, 0.5482395639777269, 0.8580994898747293, 0.85809952606727, 0.7114659175721063, 0.25867710293359464, 0.25867710293359464, 0.25867710293359464, 0.25867710293359464, 0.561767895999917, 0.18725596533330569, 0.7824209667853861], \"Term\": [\"absolutely\", \"absolutely\", \"actually\", \"actually\", \"afford\", \"always\", \"amazing\", \"anticipated\", \"anything\", \"around\", \"attention\", \"away\", \"awesome\", \"awesome\", \"awhile\", \"band\", \"beautiful\", \"beautiful\", \"become\", \"best\", \"blue\", \"bought\", \"bought\", \"bought\", \"bracelet\", \"buy\", \"buying\", \"casual\", \"casual\", \"catch\", \"catch\", \"celtic\", \"charm\", \"claddagh\", \"classic\", \"classify\", \"classy\", \"claws\", \"clic\", \"closes\", \"clothing\", \"colors\", \"colors\", \"comfortable\", \"comfortable\", \"comfortable\", \"comfortable\", \"compliment\", \"compliments\", \"crisp\", \"dainty\", \"dainty\", \"date\", \"days\", \"debt\", \"definitely\", \"delicate\", \"design\", \"detail\", \"detail\", \"different\", \"dressing\", \"easily\", \"egypt\", \"elegant\", \"engagement\", \"engagement\", \"enjoy\", \"enough\", \"events\", \"every\", \"every\", \"everyday\", \"everyday\", \"everyday\", \"everyone\", \"everyone\", \"everything\", \"extremely\", \"extremely\", \"eye\", \"fair\", \"fell\", \"feminine\", \"fiance\", \"find\", \"finger\", \"finger\", \"finger\", \"finger\", \"finger\", \"finish\", \"firmly\", \"first\", \"first\", \"fits\", \"fits\", \"fits\", \"flexible\", \"flowers\", \"formal\", \"friends\", \"garnet\", \"get\", \"get\", \"get\", \"getting\", \"gift\", \"given\", \"go\", \"going\", \"gold\", \"gold\", \"good\", \"good\", \"gorgeous\", \"got\", \"got\", \"got\", \"great\", \"great\", \"guy\", \"hamsa\", \"hand\", \"hard\", \"hat\", \"heart\", \"heart\", \"hold\", \"holder\", \"honor\", \"image\", \"index\", \"index\", \"item\", \"jersey\", \"lapel\", \"last\", \"length\", \"life\", \"light\", \"like\", \"like\", \"like\", \"like\", \"local\", \"long\", \"look\", \"look\", \"look\", \"look\", \"looked\", \"looked\", \"looking\", \"looking\", \"looks\", \"looks\", \"looks\", \"lost\", \"lot\", \"lot\", \"lot\", \"lot\", \"love\", \"love\", \"love\", \"lovely\", \"lovely\", \"lovely\", \"lover\", \"low\", \"made\", \"man\", \"manner\", \"many\", \"marriage\", \"masonic\", \"memory\", \"money\", \"mr\", \"much\", \"much\", \"necklace\", \"necklaces\", \"necklaces\", \"nice\", \"nice\", \"nice\", \"night\", \"occasions\", \"often\", \"old\", \"old\", \"one\", \"one\", \"one\", \"one\", \"one\", \"online\", \"online\", \"oversized\", \"owned\", \"part\", \"passed\", \"pendant\", \"pendant\", \"perfect\", \"perfect\", \"perfect\", \"picks\", \"picture\", \"piece\", \"pin\", \"pinis\", \"pinkie\", \"pinky\", \"pinky\", \"pinky\", \"plan\", \"please\", \"pleasure\", \"prettier\", \"prettier\", \"pretty\", \"pretty\", \"pretty\", \"price\", \"price\", \"price\", \"pride\", \"pro\", \"prom\", \"purchased\", \"purchased\", \"purpose\", \"quality\", \"quality\", \"quickly\", \"quite\", \"real\", \"really\", \"really\", \"received\", \"recently\", \"recommend\", \"recommend\", \"regrets\", \"replace\", \"right\", \"right\", \"right\", \"ring\", \"ring\", \"ring\", \"ring\", \"ring\", \"ring\", \"ring\", \"rings\", \"rings\", \"rings\", \"rings\", \"save\", \"scratched\", \"see\", \"seemed\", \"serves\", \"several\", \"sharp\", \"shirt\", \"since\", \"since\", \"since\", \"size\", \"size\", \"skeptical\", \"smooth\", \"something\", \"something\", \"sparkle\", \"sparklier\", \"sports\", \"stone\", \"stones\", \"stuck\", \"sturdy\", \"sturdy\", \"suited\", \"support\", \"surprised\", \"taste\", \"taste\", \"team\", \"things\", \"think\", \"thumb\", \"titanium\", \"told\", \"trinity\", \"true\", \"truly\", \"turned\", \"want\", \"want\", \"want\", \"wanted\", \"wanted\", \"way\", \"way\", \"wear\", \"wear\", \"wear\", \"wear\", \"wear\", \"wear\", \"wearing\", \"wearing\", \"wearing\", \"wearing\", \"wears\", \"wedding\", \"weekends\", \"wish\", \"without\", \"work\", \"work\", \"work\", \"work\", \"would\", \"would\", \"years\"]}, \"R\": 30, \"lambda.step\": 0.01, \"plot.opts\": {\"xlab\": \"PC1\", \"ylab\": \"PC2\"}, \"topic.order\": [3, 1, 8, 9, 10, 2, 5, 4, 7, 6]};\n",
              "\n",
              "function LDAvis_load_lib(url, callback){\n",
              "  var s = document.createElement('script');\n",
              "  s.src = url;\n",
              "  s.async = true;\n",
              "  s.onreadystatechange = s.onload = callback;\n",
              "  s.onerror = function(){console.warn(\"failed to load library \" + url);};\n",
              "  document.getElementsByTagName(\"head\")[0].appendChild(s);\n",
              "}\n",
              "\n",
              "if(typeof(LDAvis) !== \"undefined\"){\n",
              "   // already loaded: just create the visualization\n",
              "   !function(LDAvis){\n",
              "       new LDAvis(\"#\" + \"ldavis_el5791396829115468324869487708\", ldavis_el5791396829115468324869487708_data);\n",
              "   }(LDAvis);\n",
              "}else if(typeof define === \"function\" && define.amd){\n",
              "   // require.js is available: use it to load d3/LDAvis\n",
              "   require.config({paths: {d3: \"https://d3js.org/d3.v5\"}});\n",
              "   require([\"d3\"], function(d3){\n",
              "      window.d3 = d3;\n",
              "      LDAvis_load_lib(\"https://cdn.jsdelivr.net/gh/bmabey/pyLDAvis@3.4.0/pyLDAvis/js/ldavis.v3.0.0.js\", function(){\n",
              "        new LDAvis(\"#\" + \"ldavis_el5791396829115468324869487708\", ldavis_el5791396829115468324869487708_data);\n",
              "      });\n",
              "    });\n",
              "}else{\n",
              "    // require.js not available: dynamically load d3 & LDAvis\n",
              "    LDAvis_load_lib(\"https://d3js.org/d3.v5.js\", function(){\n",
              "         LDAvis_load_lib(\"https://cdn.jsdelivr.net/gh/bmabey/pyLDAvis@3.4.0/pyLDAvis/js/ldavis.v3.0.0.js\", function(){\n",
              "                 new LDAvis(\"#\" + \"ldavis_el5791396829115468324869487708\", ldavis_el5791396829115468324869487708_data);\n",
              "            })\n",
              "         });\n",
              "}\n",
              "</script>"
            ]
          },
          "metadata": {},
          "execution_count": 91
        }
      ]
    },
    {
      "cell_type": "markdown",
      "source": [
        "# TASK 5\n",
        "## Summarisation of search results"
      ],
      "metadata": {
        "id": "14dm3ZbjqTHi"
      }
    },
    {
      "cell_type": "markdown",
      "source": [
        "### 5a) Extend your answer to Task 3 to include an approach (either neural or non-neural) that takes the top 10 search results and summarises them (5 marks). Evaluate the performance of the model using suitable evaluation metrics. Explain the findings (max 100 words) (5 marks)."
      ],
      "metadata": {
        "id": "ajRGReaarA7i"
      }
    },
    {
      "cell_type": "code",
      "source": [
        "top_indexes=[]\n",
        "indexestemp=[]\n",
        "## JUST RUNNING Q3 AGAIN :)\n",
        "for query in Query:\n",
        "  # retrieval\n",
        "  Query_embeddings = model.encode(query) #embed queries one by one\n",
        "  similarities=cosine_similarity( sentence_embeddings,[Query_embeddings]) # Find similarity\n",
        "  Top_n_reviews=10  # We are taking only top 10 reviews\n",
        "  indexes = np.argsort(similarities.flat)[::-1]   # Flaten the similarity table\n",
        "  top_indexes=[]\n",
        "  for i in range(Top_n_reviews):    # extract top 10 and put them in a array so that we get the output we have\n",
        "    top_indexes.append(indexes[i])\n",
        "  indexestemp.append(top_indexes)"
      ],
      "metadata": {
        "id": "nWbM1FxWu3Cj"
      },
      "execution_count": 92,
      "outputs": []
    },
    {
      "cell_type": "code",
      "source": [
        "queryRevstemp=index2Review(indexestemp) # Just calling the functions and getting reviews from indexes."
      ],
      "metadata": {
        "id": "C8vVDfNrvENB"
      },
      "execution_count": 93,
      "outputs": []
    },
    {
      "cell_type": "markdown",
      "source": [
        "THE MOST TEDIOUS PART. INSTALLING SUMMERTIME"
      ],
      "metadata": {
        "id": "-uajqnkcs5Ip"
      }
    },
    {
      "cell_type": "code",
      "source": [
        "# Download SummerTime \n",
        "# Swith to the Summertime directory\n",
        "\n",
        "!git clone https://github.com/Yale-LILY/SummerTime.git"
      ],
      "metadata": {
        "colab": {
          "base_uri": "https://localhost:8080/"
        },
        "id": "spQQLbxGsum6",
        "outputId": "0bfb3bc4-7c5f-4d5c-bfd2-5dac1ae44e39"
      },
      "execution_count": 94,
      "outputs": [
        {
          "output_type": "stream",
          "name": "stdout",
          "text": [
            "Cloning into 'SummerTime'...\n",
            "remote: Enumerating objects: 4385, done.\u001b[K\n",
            "remote: Counting objects: 100% (690/690), done.\u001b[K\n",
            "remote: Compressing objects: 100% (192/192), done.\u001b[K\n",
            "remote: Total 4385 (delta 598), reused 498 (delta 498), pack-reused 3695\u001b[K\n",
            "Receiving objects: 100% (4385/4385), 9.84 MiB | 13.51 MiB/s, done.\n",
            "Resolving deltas: 100% (2407/2407), done.\n"
          ]
        }
      ]
    },
    {
      "cell_type": "code",
      "source": [
        "%cd SummerTime/"
      ],
      "metadata": {
        "colab": {
          "base_uri": "https://localhost:8080/"
        },
        "id": "Jj0KQ0CKs1nL",
        "outputId": "b542dc45-077d-4387-a5c4-4a506e026661"
      },
      "execution_count": 95,
      "outputs": [
        {
          "output_type": "stream",
          "name": "stdout",
          "text": [
            "/content/SummerTime/SummerTime\n"
          ]
        }
      ]
    },
    {
      "cell_type": "code",
      "source": [
        "!pip --quiet install -e ."
      ],
      "metadata": {
        "colab": {
          "base_uri": "https://localhost:8080/"
        },
        "id": "Rb9VT0a6tDgU",
        "outputId": "e5bbef9c-881f-4882-d3a7-15f82246ee88"
      },
      "execution_count": 96,
      "outputs": [
        {
          "output_type": "stream",
          "name": "stdout",
          "text": [
            "  Installing build dependencies ... \u001b[?25l\u001b[?25hdone\n",
            "  Checking if build backend supports build_editable ... \u001b[?25l\u001b[?25hdone\n",
            "  Getting requirements to build wheel ... \u001b[?25l\u001b[?25hdone\n",
            "  Preparing metadata (pyproject.toml) ... \u001b[?25l\u001b[?25hdone\n",
            "\u001b[31mERROR: pip's dependency resolver does not currently take into account all the packages that are installed. This behaviour is the source of the following dependency conflicts.\n",
            "sentence-transformers 2.2.2 requires huggingface-hub>=0.4.0, but you have huggingface-hub 0.0.19 which is incompatible.\n",
            "sentence-transformers 2.2.2 requires transformers<5.0.0,>=4.6.0, but you have transformers 4.5.1 which is incompatible.\u001b[0m\u001b[31m\n",
            "\u001b[0m"
          ]
        }
      ]
    },
    {
      "cell_type": "code",
      "source": [
        "## Finish setup\n",
        "\n",
        "# Setup ROUGE (needed to use ROUGE evaluation metric)\n",
        "!export ROUGE_HOME=/usr/local/bin/python/dist-packages/summ_eval/ROUGE-1.5.5/\n",
        "!pip install -U  git+https://github.com/bheinzerling/pyrouge.git"
      ],
      "metadata": {
        "colab": {
          "base_uri": "https://localhost:8080/"
        },
        "id": "ViyK6gontP0r",
        "outputId": "f8599357-35a7-4bac-ac75-29aa8bfd07b6"
      },
      "execution_count": 97,
      "outputs": [
        {
          "output_type": "stream",
          "name": "stdout",
          "text": [
            "Looking in indexes: https://pypi.org/simple, https://us-python.pkg.dev/colab-wheels/public/simple/\n",
            "Collecting git+https://github.com/bheinzerling/pyrouge.git\n",
            "  Cloning https://github.com/bheinzerling/pyrouge.git to /tmp/pip-req-build-qpscmzs4\n",
            "  Running command git clone --filter=blob:none --quiet https://github.com/bheinzerling/pyrouge.git /tmp/pip-req-build-qpscmzs4\n",
            "  Resolved https://github.com/bheinzerling/pyrouge.git to commit 08e9cc35d713f718a05b02bf3bb2e29947d436ce\n",
            "  Preparing metadata (setup.py) ... \u001b[?25l\u001b[?25hdone\n"
          ]
        }
      ]
    },
    {
      "cell_type": "code",
      "source": [
        "# import modules for this notebook\n",
        "\n",
        "from pprint import pprint\n",
        "import nltk\n",
        "nltk.download('stopwords')"
      ],
      "metadata": {
        "colab": {
          "base_uri": "https://localhost:8080/"
        },
        "id": "aQ_XiPZQtZMO",
        "outputId": "b7fb9c1e-6f21-4ae3-dee8-c469cc145bf9"
      },
      "execution_count": 98,
      "outputs": [
        {
          "output_type": "stream",
          "name": "stderr",
          "text": [
            "[nltk_data] Downloading package stopwords to /root/nltk_data...\n",
            "[nltk_data]   Package stopwords is already up-to-date!\n"
          ]
        },
        {
          "output_type": "execute_result",
          "data": {
            "text/plain": [
              "True"
            ]
          },
          "metadata": {},
          "execution_count": 98
        }
      ]
    },
    {
      "cell_type": "code",
      "source": [
        "# !pip install en_core_web_sm==3.0.0\n",
        "!python -m spacy download en_core_web_sm"
      ],
      "metadata": {
        "colab": {
          "base_uri": "https://localhost:8080/"
        },
        "id": "74-CJEaHtbbf",
        "outputId": "ccaa6107-95f4-4aeb-a63f-e5881e64fec4"
      },
      "execution_count": 99,
      "outputs": [
        {
          "output_type": "stream",
          "name": "stdout",
          "text": [
            "/usr/local/lib/python3.9/dist-packages/torch/cuda/__init__.py:497: UserWarning: Can't initialize NVML\n",
            "  warnings.warn(\"Can't initialize NVML\")\n",
            "2023-03-17 02:46:06.147226: W tensorflow/compiler/xla/stream_executor/platform/default/dso_loader.cc:64] Could not load dynamic library 'libnvinfer.so.7'; dlerror: libnvinfer.so.7: cannot open shared object file: No such file or directory; LD_LIBRARY_PATH: /usr/local/nvidia/lib:/usr/local/nvidia/lib64\n",
            "2023-03-17 02:46:06.147335: W tensorflow/compiler/xla/stream_executor/platform/default/dso_loader.cc:64] Could not load dynamic library 'libnvinfer_plugin.so.7'; dlerror: libnvinfer_plugin.so.7: cannot open shared object file: No such file or directory; LD_LIBRARY_PATH: /usr/local/nvidia/lib:/usr/local/nvidia/lib64\n",
            "2023-03-17 02:46:06.147354: W tensorflow/compiler/tf2tensorrt/utils/py_utils.cc:38] TF-TRT Warning: Cannot dlopen some TensorRT libraries. If you would like to use Nvidia GPU with TensorRT, please make sure the missing libraries mentioned above are installed properly.\n",
            "Looking in indexes: https://pypi.org/simple, https://us-python.pkg.dev/colab-wheels/public/simple/\n",
            "Collecting en-core-web-sm==3.0.0\n",
            "  Downloading https://github.com/explosion/spacy-models/releases/download/en_core_web_sm-3.0.0/en_core_web_sm-3.0.0-py3-none-any.whl (13.7 MB)\n",
            "\u001b[2K     \u001b[90m━━━━━━━━━━━━━━━━━━━━━━━━━━━━━━━━━━━━━━━━\u001b[0m \u001b[32m13.7/13.7 MB\u001b[0m \u001b[31m17.2 MB/s\u001b[0m eta \u001b[36m0:00:00\u001b[0m\n",
            "\u001b[?25hRequirement already satisfied: spacy<3.1.0,>=3.0.0 in /usr/local/lib/python3.9/dist-packages (from en-core-web-sm==3.0.0) (3.0.6)\n",
            "Requirement already satisfied: blis<0.8.0,>=0.4.0 in /usr/local/lib/python3.9/dist-packages (from spacy<3.1.0,>=3.0.0->en-core-web-sm==3.0.0) (0.7.9)\n",
            "Requirement already satisfied: cymem<2.1.0,>=2.0.2 in /usr/local/lib/python3.9/dist-packages (from spacy<3.1.0,>=3.0.0->en-core-web-sm==3.0.0) (2.0.7)\n",
            "Requirement already satisfied: murmurhash<1.1.0,>=0.28.0 in /usr/local/lib/python3.9/dist-packages (from spacy<3.1.0,>=3.0.0->en-core-web-sm==3.0.0) (1.0.9)\n",
            "Requirement already satisfied: tqdm<5.0.0,>=4.38.0 in /usr/local/lib/python3.9/dist-packages (from spacy<3.1.0,>=3.0.0->en-core-web-sm==3.0.0) (4.49.0)\n",
            "Requirement already satisfied: typer<0.4.0,>=0.3.0 in /usr/local/lib/python3.9/dist-packages (from spacy<3.1.0,>=3.0.0->en-core-web-sm==3.0.0) (0.3.2)\n",
            "Requirement already satisfied: srsly<3.0.0,>=2.4.1 in /usr/local/lib/python3.9/dist-packages (from spacy<3.1.0,>=3.0.0->en-core-web-sm==3.0.0) (2.4.6)\n",
            "Requirement already satisfied: setuptools in /usr/local/lib/python3.9/dist-packages (from spacy<3.1.0,>=3.0.0->en-core-web-sm==3.0.0) (63.4.3)\n",
            "Requirement already satisfied: spacy-legacy<3.1.0,>=3.0.4 in /usr/local/lib/python3.9/dist-packages (from spacy<3.1.0,>=3.0.0->en-core-web-sm==3.0.0) (3.0.12)\n",
            "Requirement already satisfied: wasabi<1.1.0,>=0.8.1 in /usr/local/lib/python3.9/dist-packages (from spacy<3.1.0,>=3.0.0->en-core-web-sm==3.0.0) (0.10.1)\n",
            "Requirement already satisfied: jinja2 in /usr/local/lib/python3.9/dist-packages (from spacy<3.1.0,>=3.0.0->en-core-web-sm==3.0.0) (3.1.2)\n",
            "Requirement already satisfied: packaging>=20.0 in /usr/local/lib/python3.9/dist-packages (from spacy<3.1.0,>=3.0.0->en-core-web-sm==3.0.0) (23.0)\n",
            "Requirement already satisfied: pathy>=0.3.5 in /usr/local/lib/python3.9/dist-packages (from spacy<3.1.0,>=3.0.0->en-core-web-sm==3.0.0) (0.10.1)\n",
            "Requirement already satisfied: numpy>=1.15.0 in /usr/local/lib/python3.9/dist-packages (from spacy<3.1.0,>=3.0.0->en-core-web-sm==3.0.0) (1.22.4)\n",
            "Requirement already satisfied: requests<3.0.0,>=2.13.0 in /usr/local/lib/python3.9/dist-packages (from spacy<3.1.0,>=3.0.0->en-core-web-sm==3.0.0) (2.25.1)\n",
            "Requirement already satisfied: thinc<8.1.0,>=8.0.3 in /usr/local/lib/python3.9/dist-packages (from spacy<3.1.0,>=3.0.0->en-core-web-sm==3.0.0) (8.0.17)\n",
            "Requirement already satisfied: pydantic<1.8.0,>=1.7.1 in /usr/local/lib/python3.9/dist-packages (from spacy<3.1.0,>=3.0.0->en-core-web-sm==3.0.0) (1.7.4)\n",
            "Requirement already satisfied: preshed<3.1.0,>=3.0.2 in /usr/local/lib/python3.9/dist-packages (from spacy<3.1.0,>=3.0.0->en-core-web-sm==3.0.0) (3.0.8)\n",
            "Requirement already satisfied: catalogue<2.1.0,>=2.0.3 in /usr/local/lib/python3.9/dist-packages (from spacy<3.1.0,>=3.0.0->en-core-web-sm==3.0.0) (2.0.8)\n",
            "Requirement already satisfied: smart-open<7.0.0,>=5.2.1 in /usr/local/lib/python3.9/dist-packages (from pathy>=0.3.5->spacy<3.1.0,>=3.0.0->en-core-web-sm==3.0.0) (6.3.0)\n",
            "Requirement already satisfied: urllib3<1.27,>=1.21.1 in /usr/local/lib/python3.9/dist-packages (from requests<3.0.0,>=2.13.0->spacy<3.1.0,>=3.0.0->en-core-web-sm==3.0.0) (1.26.15)\n",
            "Requirement already satisfied: certifi>=2017.4.17 in /usr/local/lib/python3.9/dist-packages (from requests<3.0.0,>=2.13.0->spacy<3.1.0,>=3.0.0->en-core-web-sm==3.0.0) (2022.12.7)\n",
            "Requirement already satisfied: idna<3,>=2.5 in /usr/local/lib/python3.9/dist-packages (from requests<3.0.0,>=2.13.0->spacy<3.1.0,>=3.0.0->en-core-web-sm==3.0.0) (2.10)\n",
            "Requirement already satisfied: chardet<5,>=3.0.2 in /usr/local/lib/python3.9/dist-packages (from requests<3.0.0,>=2.13.0->spacy<3.1.0,>=3.0.0->en-core-web-sm==3.0.0) (4.0.0)\n",
            "Requirement already satisfied: click<7.2.0,>=7.1.1 in /usr/local/lib/python3.9/dist-packages (from typer<0.4.0,>=0.3.0->spacy<3.1.0,>=3.0.0->en-core-web-sm==3.0.0) (7.1.2)\n",
            "Requirement already satisfied: MarkupSafe>=2.0 in /usr/local/lib/python3.9/dist-packages (from jinja2->spacy<3.1.0,>=3.0.0->en-core-web-sm==3.0.0) (2.1.2)\n",
            "\u001b[38;5;2m✔ Download and installation successful\u001b[0m\n",
            "You can now load the package via spacy.load('en_core_web_sm')\n"
          ]
        }
      ]
    },
    {
      "cell_type": "code",
      "source": [
        "!pip  install --upgrade transformers   #Upgrade transformers without this there were 100s of errors"
      ],
      "metadata": {
        "colab": {
          "base_uri": "https://localhost:8080/"
        },
        "id": "U_ZwOtpRteKw",
        "outputId": "806c2b5b-e2e9-4e71-8b0b-43b2ec039bbd"
      },
      "execution_count": 100,
      "outputs": [
        {
          "output_type": "stream",
          "name": "stdout",
          "text": [
            "Looking in indexes: https://pypi.org/simple, https://us-python.pkg.dev/colab-wheels/public/simple/\n",
            "Requirement already satisfied: transformers in /usr/local/lib/python3.9/dist-packages (4.5.1)\n",
            "Collecting transformers\n",
            "  Using cached transformers-4.27.1-py3-none-any.whl (6.7 MB)\n",
            "Requirement already satisfied: filelock in /usr/local/lib/python3.9/dist-packages (from transformers) (3.9.1)\n",
            "Collecting huggingface-hub<1.0,>=0.11.0\n",
            "  Using cached huggingface_hub-0.13.2-py3-none-any.whl (199 kB)\n",
            "Requirement already satisfied: tqdm>=4.27 in /usr/local/lib/python3.9/dist-packages (from transformers) (4.49.0)\n",
            "Collecting tokenizers!=0.11.3,<0.14,>=0.11.1\n",
            "  Using cached tokenizers-0.13.2-cp39-cp39-manylinux_2_17_x86_64.manylinux2014_x86_64.whl (7.6 MB)\n",
            "Requirement already satisfied: packaging>=20.0 in /usr/local/lib/python3.9/dist-packages (from transformers) (23.0)\n",
            "Requirement already satisfied: numpy>=1.17 in /usr/local/lib/python3.9/dist-packages (from transformers) (1.22.4)\n",
            "Requirement already satisfied: pyyaml>=5.1 in /usr/local/lib/python3.9/dist-packages (from transformers) (6.0)\n",
            "Requirement already satisfied: regex!=2019.12.17 in /usr/local/lib/python3.9/dist-packages (from transformers) (2022.6.2)\n",
            "Requirement already satisfied: requests in /usr/local/lib/python3.9/dist-packages (from transformers) (2.25.1)\n",
            "Requirement already satisfied: typing-extensions>=3.7.4.3 in /usr/local/lib/python3.9/dist-packages (from huggingface-hub<1.0,>=0.11.0->transformers) (4.5.0)\n",
            "Requirement already satisfied: urllib3<1.27,>=1.21.1 in /usr/local/lib/python3.9/dist-packages (from requests->transformers) (1.26.15)\n",
            "Requirement already satisfied: certifi>=2017.4.17 in /usr/local/lib/python3.9/dist-packages (from requests->transformers) (2022.12.7)\n",
            "Requirement already satisfied: idna<3,>=2.5 in /usr/local/lib/python3.9/dist-packages (from requests->transformers) (2.10)\n",
            "Requirement already satisfied: chardet<5,>=3.0.2 in /usr/local/lib/python3.9/dist-packages (from requests->transformers) (4.0.0)\n",
            "Installing collected packages: tokenizers, huggingface-hub, transformers\n",
            "  Attempting uninstall: tokenizers\n",
            "    Found existing installation: tokenizers 0.10.3\n",
            "    Uninstalling tokenizers-0.10.3:\n",
            "      Successfully uninstalled tokenizers-0.10.3\n",
            "  Attempting uninstall: huggingface-hub\n",
            "    Found existing installation: huggingface-hub 0.0.19\n",
            "    Uninstalling huggingface-hub-0.0.19:\n",
            "      Successfully uninstalled huggingface-hub-0.0.19\n",
            "  Attempting uninstall: transformers\n",
            "    Found existing installation: transformers 4.5.1\n",
            "    Uninstalling transformers-4.5.1:\n",
            "      Successfully uninstalled transformers-4.5.1\n",
            "\u001b[31mERROR: pip's dependency resolver does not currently take into account all the packages that are installed. This behaviour is the source of the following dependency conflicts.\n",
            "datasets 1.6.2 requires huggingface-hub<0.1.0, but you have huggingface-hub 0.13.2 which is incompatible.\n",
            "summertime 1.2.1 requires transformers~=4.5.1, but you have transformers 4.27.1 which is incompatible.\u001b[0m\u001b[31m\n",
            "\u001b[0mSuccessfully installed huggingface-hub-0.13.2 tokenizers-0.13.2 transformers-4.27.1\n"
          ]
        }
      ]
    },
    {
      "cell_type": "markdown",
      "source": [
        "Now we make corpus. Which is basically results of top 10 relevent queires obtained by Neural Network."
      ],
      "metadata": {
        "id": "JDON7wskweS4"
      }
    },
    {
      "cell_type": "code",
      "source": [
        "corpus = queryRevstemp"
      ],
      "metadata": {
        "id": "gUJp8oHgAzep"
      },
      "execution_count": 101,
      "outputs": []
    },
    {
      "cell_type": "code",
      "source": [
        "##########################################\n",
        "##########################################\n",
        "from summertime.evaluation import SUPPORTED_EVALUATION_METRICS # Import the necessary libraries and evaluation metrics\n",
        "import summertime.evaluation as st_eval\n",
        "bert_eval = st_eval.BertScore()\n",
        "from summertime import dataset, model\n",
        "from pprint import pprint\n",
        "from summertime.evaluation import BertScore\n",
        "from summertime.evaluation import Meteor\n",
        "from summertime.evaluation import Bleu\n",
        "# Define the targets for evaluation\n",
        "# All the summaries were taken from CHATGPT\n",
        "targets = ['Feedback on various products, ranging from jewelry to a diamond ring. Some customers express satisfaction with their purchases, such as a Baby Blue Topaz Cluster Ring that received numerous compliments and looks like the picture. On the other hand, some customers report disappointment with their purchases, such as a misleading picture of a ring with small diamonds or silver beads that look like pearls. Additionally, customers comment on the quality and price of their purchases, with some expressing contentment with the price and others remarking on the color and shine of the jewelry. Overall, these reviews provide valuable insights into the range of experiences customers can have when buying jewelry online.',\n",
        "           'Some customers disappointed by the small size of the diamonds and others pleased with its appearance for the price. However, several customers received rings with missing or damaged diamonds, leading to negative reviews and returns.',\n",
        "           'Some customers are extremely satisfied with their purchases, noting the meticulous craftsmanship, beautiful design, and excellent value for the price. Others express disappointment with the color of the product not matching the online image or the size of the diamonds being smaller than expected. Despite these differences in opinion, most customers agree that the products are well-made and beautiful to look at, and would recommend them to others.',\n",
        "           'Common issues that customers have encountered when shopping online, including inaccurate product descriptions, poor quality items, and missing or damaged components. In some cases, customers were pleased with the response from the seller or retailer when they reached out to report an issue, while in other cases they felt ignored or dissatisfied with the outcome. Its important to read product descriptions carefully and to check customer reviews before making a purchase, and to reach out to the seller or retailer if there are any concerns or problems with the item received.',\n",
        "           'Covers a range of products, from lapel pins and pendants to earrings and rings. While some customers were pleased with the quality and style of the items, others found them disappointing and lacking in quality. The lapel pin and pendant received positive reviews, with customers stating they were perfect for formal and casual occasions, respectively. The earrings were described as comfortable and suitable for everyday wear or dressing up. However, one customer found the earrings to be of poor quality, while another found the pendant less sparkly than expected. The ring was praised for its comfort and Celtic design, but some customers experienced issues with missing or scratched diamonds. Overall, the reviews suggest that while some customers were satisfied with their purchases, others found them lacking in quality or not as described.',\n",
        "           'Overall, customers are generally satisfied with the quality of the products they received and the prompt delivery. Some customers even express their willingness to buy from the same seller again. However, there is also a complaint about slow shipping, which may deter some customers from ordering from the same seller in the future. Nevertheless, the majority of the feedback is positive, with customers being happy with the quality of the items and the delivery speed.',\n",
        "           'Disappointment in the quality of various jewelry items, including bracelets and rings. Common issues mentioned include poor craftsmanship, fragile clasps, missing diamonds, and cloudy or pale gemstones. Some reviewers also mention that the items were not true to length or color as advertised. Overall, these reviews advise against purchasing these particular jewelry items.',\n",
        "           'The first set of reviews are critical of the poor quality of several jewelry items, including a bracelet and a ring, with complaints about poor craftsmanship, missing diamonds, and faulty clasps. The second set of reviews are positive, with customers praising the sparkle and quality of a ring that is also affordable, making it a great gift for someone on a budget. One customer notes that the ring has a solid band that is not flimsy like other similar rings, while another mentions that it is a beautiful and eye-catching piece of jewelry that does not look cheap. However, one negative review warns potential buyers that the diamonds on the ring are small, and suggests spending more money on a better-looking ring.']\n",
        "##########################################\n",
        "##########################################\n",
        "# Initialize a counter variable i and an empty list belu\n",
        "i=0;\n",
        "belu=[]\n",
        "# Iterate through each corpus\n",
        "for cor in corpus:\n",
        "  # Create a LexRankModel object for the current corpus\n",
        "  lexrank = model.LexRankModel(cor)\n",
        "  # Generate a summary using the LexRank algorithm\n",
        "  # Inference\n",
        "  summary = lexrank.summarize(cor)\n",
        "  summaries = summary\n",
        "  # Calculate BleuScore\n",
        "  bleu_metric = Bleu()\n",
        "  bleu_score=bleu_metric.evaluate(summaries, targets)\n",
        "  bleu_score = bleu_score['bleu']\n",
        "  # Append the BleuScore to the belu list\n",
        "  belu.append(bleu_score)\n",
        "# Print the belu list containing the BleuScores for all the generated summaries\n",
        "print(belu)"
      ],
      "metadata": {
        "colab": {
          "base_uri": "https://localhost:8080/"
        },
        "id": "Hq2mHzZkuO1z",
        "outputId": "935115f1-e856-4843-98e2-7e9518535e04"
      },
      "execution_count": 102,
      "outputs": [
        {
          "output_type": "stream",
          "name": "stdout",
          "text": [
            "[0.0010645607150661872, 0.0012767979030590415, 0.00029319218781732756, 0.0002913608665129478, 0.0009675667323367206, 0.00015706770040421696, 0.0015016085394157347, 0.00442005893087656]\n"
          ]
        }
      ]
    },
    {
      "cell_type": "markdown",
      "source": [
        "The BLEU scores represent the similarity between the summaries generated by the LexRank summarization model and the target summaries provided for each of the 8 queries. The scores range from 0 to 1, with a higher score indicating greater similarity to the target summary.\n",
        "\n",
        "In this case, the BLEU scores are relatively low, with all of them below 0.01. This suggests that the summaries generated by the LexRank model are not very similar to the target summaries, indicating that the model may not be effectively summarizing the relevant information from the query results.\n",
        "\n",
        "Further analysis and experimentation would be needed to determine the cause of the low BLEU scores and improve the performance of the summarization model. This is mainly because of poor summarization on ChatGPT's side"
      ],
      "metadata": {
        "id": "xEDmca6Jz87Q"
      }
    },
    {
      "cell_type": "markdown",
      "source": [
        "Now we put everthing in a graph."
      ],
      "metadata": {
        "id": "HHfTpdsYyQnl"
      }
    },
    {
      "cell_type": "code",
      "source": [
        "import matplotlib.pyplot as plt\n",
        "import numpy as np\n",
        "\n",
        "# Plotting the bar graph\n",
        "plt.bar(range(len(belu)), belu)\n",
        "plt.xlabel('Query')\n",
        "plt.ylabel('Belu Score')\n",
        "plt.show()"
      ],
      "metadata": {
        "colab": {
          "base_uri": "https://localhost:8080/",
          "height": 279
        },
        "id": "P4aIEl6-5OMe",
        "outputId": "3972c795-0c57-401b-84a1-99e2e3eeaead"
      },
      "execution_count": 103,
      "outputs": [
        {
          "output_type": "display_data",
          "data": {
            "text/plain": [
              "<Figure size 432x288 with 1 Axes>"
            ],
            "image/png": "[encoded data removed]"
          },
          "metadata": {
            "needs_background": "light"
          }
        }
      ]
    },
    {
      "cell_type": "markdown",
      "source": [
        "### 5b) Add extra functionality of your choice that is related to summarisation (e.g. enable the user to choose which results to summarise) (10 marks)."
      ],
      "metadata": {
        "id": "vW9_ikS90OpW"
      }
    },
    {
      "cell_type": "code",
      "source": [
        "Corp1D = [num for row in corpus for num in row] # Take 2D corpus and convert into 1D"
      ],
      "metadata": {
        "id": "ayQo4xps6Mwx"
      },
      "execution_count": 104,
      "outputs": []
    },
    {
      "cell_type": "code",
      "source": [
        "# Global variable to store selected result\n",
        "selected_result = 'I love the product, very simple yet elegent. Seems very expensive when its not'\n",
        "\n",
        "# Create a dropdown widget to display the results\n",
        "dropdown = widgets.Dropdown(options=Corp1D, description='Results: ')\n",
        "\n",
        "# Define a function to update the selected result\n",
        "def on_value_change(change):\n",
        "    global selected_result\n",
        "    selected_result = change.new\n",
        "\n",
        "# Set the on_value_change function to be called when the dropdown value changes\n",
        "dropdown.observe(on_value_change, names='value')\n",
        "\n",
        "print('Please select a option and run next block to see its summary.')\n",
        "# Display the dropdown widget\n",
        "display(dropdown)\n",
        "\n",
        "\n"
      ],
      "metadata": {
        "colab": {
          "base_uri": "https://localhost:8080/",
          "height": 67,
          "referenced_widgets": [
            "485375ae8a9b4473b9bce2d5cf0cf3c6",
            "d9d15b011042440a85732a5ea4f882db",
            "43d54ad3189346d1ad1d73759f2b3829"
          ]
        },
        "id": "-Fol4nrn6AXy",
        "outputId": "76fc1e17-9738-4b8e-a99b-11ef88bfa446"
      },
      "execution_count": 105,
      "outputs": [
        {
          "output_type": "stream",
          "name": "stdout",
          "text": [
            "Please select a option and run next block to see its summary.\n"
          ]
        },
        {
          "output_type": "display_data",
          "data": {
            "text/plain": [
              "Dropdown(description='Results: ', options=('This ring has such a good sparkle and it looks like a ring that sh…"
            ],
            "application/vnd.jupyter.widget-view+json": {
              "version_major": 2,
              "version_minor": 0,
              "model_id": "485375ae8a9b4473b9bce2d5cf0cf3c6"
            }
          },
          "metadata": {}
        }
      ]
    },
    {
      "cell_type": "code",
      "source": [
        "lexrank = model.LexRankModel(Corp1D)\n",
        "\n",
        " # Inference\n",
        "summary = lexrank.summarize([selected_result])\n",
        "for i in range(len(summary)):\n",
        "  print(\"Summary Review %d: \"%(i+1), summary[i])"
      ],
      "metadata": {
        "colab": {
          "base_uri": "https://localhost:8080/"
        },
        "id": "Xp-4OCu970vt",
        "outputId": "57c6dcda-a326-4ad5-d72a-2c64af06d576"
      },
      "execution_count": 106,
      "outputs": [
        {
          "output_type": "stream",
          "name": "stdout",
          "text": [
            "Summary Review 1:  Seems very expensive when its not I love the product, very simple yet elegent.\n"
          ]
        }
      ]
    },
    {
      "cell_type": "markdown",
      "source": [
        "# Submission information"
      ],
      "metadata": {
        "id": "0cZYO3CXAP0s"
      }
    },
    {
      "cell_type": "code",
      "source": [
        "!sudo apt-get install texlive-xetex texlive-fonts-recommended texlive-plain-generic"
      ],
      "metadata": {
        "colab": {
          "base_uri": "https://localhost:8080/"
        },
        "id": "1GLD7z-fAPL_",
        "outputId": "e461ea05-24df-4454-86af-1bc5ed528582"
      },
      "execution_count": 111,
      "outputs": [
        {
          "output_type": "stream",
          "name": "stdout",
          "text": [
            "Reading package lists... Done\n",
            "Building dependency tree       \n",
            "Reading state information... Done\n",
            "texlive-fonts-recommended is already the newest version (2019.20200218-1).\n",
            "texlive-plain-generic is already the newest version (2019.202000218-1).\n",
            "texlive-xetex is already the newest version (2019.20200218-1).\n",
            "0 upgraded, 0 newly installed, 0 to remove and 23 not upgraded.\n"
          ]
        }
      ]
    },
    {
      "cell_type": "code",
      "source": [
        "!jupyter nbconvert --to pdf '/content/drive/My Drive/Colab Notebooks/F220102_22COP509_Coursework.ipynb' "
      ],
      "metadata": {
        "colab": {
          "base_uri": "https://localhost:8080/"
        },
        "id": "eMsAagrPAXk6",
        "outputId": "d855d696-7bbe-4a7f-c5bc-b4faf4e11be2"
      },
      "execution_count": 114,
      "outputs": [
        {
          "output_type": "stream",
          "name": "stdout",
          "text": [
            "[NbConvertApp] Converting notebook /content/drive/My Drive/Colab Notebooks/F220102_22COP509_Coursework.ipynb to pdf\n",
            "[NbConvertApp] Support files will be in F220102_22COP509_Coursework_files/\n",
            "[NbConvertApp] Making directory ./F220102_22COP509_Coursework_files\n",
            "[NbConvertApp] Making directory ./F220102_22COP509_Coursework_files\n",
            "[NbConvertApp] Making directory ./F220102_22COP509_Coursework_files\n",
            "[NbConvertApp] Making directory ./F220102_22COP509_Coursework_files\n",
            "[NbConvertApp] Making directory ./F220102_22COP509_Coursework_files\n",
            "[NbConvertApp] Writing 197062 bytes to notebook.tex\n",
            "[NbConvertApp] Building PDF\n",
            "[NbConvertApp] Running xelatex 3 times: ['xelatex', 'notebook.tex', '-quiet']\n",
            "[NbConvertApp] Running bibtex 1 time: ['bibtex', 'notebook']\n",
            "[NbConvertApp] WARNING | bibtex had problems, most likely because there were no citations\n",
            "[NbConvertApp] PDF successfully created\n",
            "[NbConvertApp] Writing 270397 bytes to /content/drive/My Drive/Colab Notebooks/F220102_22COP509_Coursework.pdf\n"
          ]
        }
      ]
    }
  ]
}